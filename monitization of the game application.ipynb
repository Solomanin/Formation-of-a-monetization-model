{
 "cells": [
  {
   "cell_type": "markdown",
   "metadata": {},
   "source": [
    "# Дашборды\n",
    "   Дашборд А: https://public.tableau.com/app/profile/german1314/viz/final_project_16652585334210/DashboardA?publish=yes\n",
    "   \n",
    "   Дашборд B :https://public.tableau.com/app/profile/german1314/viz/final_project_16652585334210/DashboardB?publish=yes"
   ]
  },
  {
   "cell_type": "markdown",
   "metadata": {},
   "source": [
    "# Презенатация\n",
    "https://1drv.ms/p/s!Av1D_sdJ6zeIhivQDZe9JkGrGqQ4?e=cycze6"
   ]
  },
  {
   "cell_type": "markdown",
   "metadata": {},
   "source": [
    "<a id=\"0\"></a> <br>\n",
    " # Формирование модели монетизации \n",
    "  \n",
    "   ## Задача:\n",
    "           Сформировать модель монетизации игрового приложения и выбрать оптимальное время для запуска рекламы. Провести         \n",
    "           исследовательский анализ данных, проверить гипотезы и расчитать основные бизнес метрики приложения.\n",
    "  ### **Описание датасетов:**\n",
    "\n",
    "Основной датасет содержит данные о событиях, совершенных в мобильной игре «Космические братья». В ней пользователи строят свою космическую программу и пытаются преуспеть в нелёгком деле колонизации галактики.\n",
    "\n",
    "Основная монетизация игры — только планируется. Но предполагается, что в приложении будет происходить показ рекламы на экране с выбором типа объекта для постройки.\n",
    "\n",
    "В датасете представлены данные по игре пользователей на первом уровне. Завершение первого уровня требует от игрока выполнения одного из двух условий:\n",
    "\n",
    "- Победа над первым врагом\n",
    "- Реализация проекта - разработка орбитальной сборки спутников\n",
    "\n",
    "В датасете содержатся данные первых пользователей приложения — когорты пользователей, которые начали пользоваться приложением в период с 4 по 10 мая включительно.\n",
    "\n",
    "Помимо основного датасета есть два датасета с информацией о рекламных активностях. Они также помогут в решении задачи.\n",
    "\n",
    "\n",
    "  ## Оглавление:\n",
    "   \n",
    "1. [Изучение общей информации](#1)     \n",
    "1. [Предобработка данных](#2) \n",
    "    1. Работа с пропусками\n",
    "    1. Изменение типов данных\n",
    "    1. Посик дубликатов\n",
    "1. [Исследовательский анализ данных(EDA)](#3) \n",
    "    1. Анализ пользователей:\n",
    "       1. Построим диаграмму кол-ва построенных обьектов\n",
    "       1. Построим диаграмму кол-во событий по дням\n",
    "       1. Построим диаграмму кол-во построенных зданий по дням c разбивкой по постройкам\n",
    "      \n",
    "    1. Анализ рекламных активностей:\n",
    "       1. Построим диаграмму кол-ва источников, с которого пришёл пользователь, установивший приложение.\n",
    "       1. Построим диаграмму костов по источникам\n",
    "       1. Построим диаграмму костов по дням\n",
    "    1. Анализ влияний событий на совершение целевого события:\n",
    "       1. Построим график завимости между количеством зданий и завершением уровня\n",
    "       1. Посторим график зависимости между количеством дней в игре и завершением уровня\n",
    "       1. Построем график зависимости между источника, с которого пришли пользователи и завершением уровня\n",
    "1. [Проверка гипотез](#4)   \n",
    "    1. Гипотеза различия времени прохождения уровня между пользователями, которые заканчивают уровень через реализацию проекта, \n",
    "       и пользователями, которые заканчивают уровень победой над другим игроком\n",
    "    1. Среднее кол-во построенных зданий для пользователей, завершивших уровень через проект и убийством врага различаются.\n",
    "1. [Анализ бизнес показателей](#5) \n",
    "    1. Анализ затрат на привлечения клиентов (CAC)\n",
    "    1. Анализ дохода с рекламы (LTV)\n",
    "1. [Общий вывод](#6)   \n",
    "     1. Главные факты, интересные моменты и выводы о проекте    \n",
    "    "
   ]
  },
  {
   "cell_type": "markdown",
   "metadata": {},
   "source": [
    "# 1. Изучение общей информации  <a id=1></a> "
   ]
  },
  {
   "cell_type": "code",
   "execution_count": 1,
   "metadata": {},
   "outputs": [],
   "source": [
    "# импортируем библиотеки\n",
    "import pandas as pd\n",
    "import matplotlib.pyplot as plt\n",
    "import seaborn as sns"
   ]
  },
  {
   "cell_type": "code",
   "execution_count": 2,
   "metadata": {},
   "outputs": [],
   "source": [
    "# изучим данные\n",
    "try:\n",
    "    cost = pd.read_csv('/datasets/ad_costs.csv')\n",
    "    actions = pd.read_csv('/datasets/game_actions.csv')\n",
    "    source = pd.read_csv('/datasets/user_source.csv')\n",
    "except:\n",
    "    print('Что то пошло не так.')"
   ]
  },
  {
   "cell_type": "code",
   "execution_count": 3,
   "metadata": {},
   "outputs": [],
   "source": [
    "# настроим принудительное отображение\n",
    "pd.set_option('display.max_columns', None)\n",
    "#Установим ширину ячеек\n",
    "pd.set_option(\"max_colwidth\", 999)\n",
    "\n",
    "import warnings\n",
    "warnings.simplefilter('ignore')"
   ]
  },
  {
   "cell_type": "code",
   "execution_count": 4,
   "metadata": {},
   "outputs": [
    {
     "data": {
      "text/html": [
       "<div>\n",
       "<style scoped>\n",
       "    .dataframe tbody tr th:only-of-type {\n",
       "        vertical-align: middle;\n",
       "    }\n",
       "\n",
       "    .dataframe tbody tr th {\n",
       "        vertical-align: top;\n",
       "    }\n",
       "\n",
       "    .dataframe thead th {\n",
       "        text-align: right;\n",
       "    }\n",
       "</style>\n",
       "<table border=\"1\" class=\"dataframe\">\n",
       "  <thead>\n",
       "    <tr style=\"text-align: right;\">\n",
       "      <th></th>\n",
       "      <th>source</th>\n",
       "      <th>day</th>\n",
       "      <th>cost</th>\n",
       "    </tr>\n",
       "  </thead>\n",
       "  <tbody>\n",
       "    <tr>\n",
       "      <th>0</th>\n",
       "      <td>facebook_ads</td>\n",
       "      <td>2020-05-03</td>\n",
       "      <td>935.882786</td>\n",
       "    </tr>\n",
       "    <tr>\n",
       "      <th>1</th>\n",
       "      <td>facebook_ads</td>\n",
       "      <td>2020-05-04</td>\n",
       "      <td>548.354480</td>\n",
       "    </tr>\n",
       "    <tr>\n",
       "      <th>2</th>\n",
       "      <td>facebook_ads</td>\n",
       "      <td>2020-05-05</td>\n",
       "      <td>260.185754</td>\n",
       "    </tr>\n",
       "    <tr>\n",
       "      <th>3</th>\n",
       "      <td>facebook_ads</td>\n",
       "      <td>2020-05-06</td>\n",
       "      <td>177.982200</td>\n",
       "    </tr>\n",
       "    <tr>\n",
       "      <th>4</th>\n",
       "      <td>facebook_ads</td>\n",
       "      <td>2020-05-07</td>\n",
       "      <td>111.766796</td>\n",
       "    </tr>\n",
       "  </tbody>\n",
       "</table>\n",
       "</div>"
      ],
      "text/plain": [
       "         source         day        cost\n",
       "0  facebook_ads  2020-05-03  935.882786\n",
       "1  facebook_ads  2020-05-04  548.354480\n",
       "2  facebook_ads  2020-05-05  260.185754\n",
       "3  facebook_ads  2020-05-06  177.982200\n",
       "4  facebook_ads  2020-05-07  111.766796"
      ]
     },
     "execution_count": 4,
     "metadata": {},
     "output_type": "execute_result"
    }
   ],
   "source": [
    "cost.head()"
   ]
  },
  {
   "cell_type": "code",
   "execution_count": 5,
   "metadata": {},
   "outputs": [
    {
     "data": {
      "text/html": [
       "<div>\n",
       "<style scoped>\n",
       "    .dataframe tbody tr th:only-of-type {\n",
       "        vertical-align: middle;\n",
       "    }\n",
       "\n",
       "    .dataframe tbody tr th {\n",
       "        vertical-align: top;\n",
       "    }\n",
       "\n",
       "    .dataframe thead th {\n",
       "        text-align: right;\n",
       "    }\n",
       "</style>\n",
       "<table border=\"1\" class=\"dataframe\">\n",
       "  <thead>\n",
       "    <tr style=\"text-align: right;\">\n",
       "      <th></th>\n",
       "      <th>event_datetime</th>\n",
       "      <th>event</th>\n",
       "      <th>building_type</th>\n",
       "      <th>user_id</th>\n",
       "      <th>project_type</th>\n",
       "    </tr>\n",
       "  </thead>\n",
       "  <tbody>\n",
       "    <tr>\n",
       "      <th>0</th>\n",
       "      <td>2020-05-04 00:00:01</td>\n",
       "      <td>building</td>\n",
       "      <td>assembly_shop</td>\n",
       "      <td>55e92310-cb8e-4754-b622-597e124b03de</td>\n",
       "      <td>NaN</td>\n",
       "    </tr>\n",
       "    <tr>\n",
       "      <th>1</th>\n",
       "      <td>2020-05-04 00:00:03</td>\n",
       "      <td>building</td>\n",
       "      <td>assembly_shop</td>\n",
       "      <td>c07b1c10-f477-44dc-81dc-ec82254b1347</td>\n",
       "      <td>NaN</td>\n",
       "    </tr>\n",
       "    <tr>\n",
       "      <th>2</th>\n",
       "      <td>2020-05-04 00:00:16</td>\n",
       "      <td>building</td>\n",
       "      <td>assembly_shop</td>\n",
       "      <td>6edd42cc-e753-4ff6-a947-2107cd560710</td>\n",
       "      <td>NaN</td>\n",
       "    </tr>\n",
       "    <tr>\n",
       "      <th>3</th>\n",
       "      <td>2020-05-04 00:00:16</td>\n",
       "      <td>building</td>\n",
       "      <td>assembly_shop</td>\n",
       "      <td>92c69003-d60a-444a-827f-8cc51bf6bf4c</td>\n",
       "      <td>NaN</td>\n",
       "    </tr>\n",
       "    <tr>\n",
       "      <th>4</th>\n",
       "      <td>2020-05-04 00:00:35</td>\n",
       "      <td>building</td>\n",
       "      <td>assembly_shop</td>\n",
       "      <td>cdc6bb92-0ccb-4490-9866-ef142f09139d</td>\n",
       "      <td>NaN</td>\n",
       "    </tr>\n",
       "  </tbody>\n",
       "</table>\n",
       "</div>"
      ],
      "text/plain": [
       "        event_datetime     event  building_type  \\\n",
       "0  2020-05-04 00:00:01  building  assembly_shop   \n",
       "1  2020-05-04 00:00:03  building  assembly_shop   \n",
       "2  2020-05-04 00:00:16  building  assembly_shop   \n",
       "3  2020-05-04 00:00:16  building  assembly_shop   \n",
       "4  2020-05-04 00:00:35  building  assembly_shop   \n",
       "\n",
       "                                user_id project_type  \n",
       "0  55e92310-cb8e-4754-b622-597e124b03de          NaN  \n",
       "1  c07b1c10-f477-44dc-81dc-ec82254b1347          NaN  \n",
       "2  6edd42cc-e753-4ff6-a947-2107cd560710          NaN  \n",
       "3  92c69003-d60a-444a-827f-8cc51bf6bf4c          NaN  \n",
       "4  cdc6bb92-0ccb-4490-9866-ef142f09139d          NaN  "
      ]
     },
     "execution_count": 5,
     "metadata": {},
     "output_type": "execute_result"
    }
   ],
   "source": [
    "actions.head()"
   ]
  },
  {
   "cell_type": "code",
   "execution_count": 6,
   "metadata": {},
   "outputs": [
    {
     "data": {
      "text/html": [
       "<div>\n",
       "<style scoped>\n",
       "    .dataframe tbody tr th:only-of-type {\n",
       "        vertical-align: middle;\n",
       "    }\n",
       "\n",
       "    .dataframe tbody tr th {\n",
       "        vertical-align: top;\n",
       "    }\n",
       "\n",
       "    .dataframe thead th {\n",
       "        text-align: right;\n",
       "    }\n",
       "</style>\n",
       "<table border=\"1\" class=\"dataframe\">\n",
       "  <thead>\n",
       "    <tr style=\"text-align: right;\">\n",
       "      <th></th>\n",
       "      <th>user_id</th>\n",
       "      <th>source</th>\n",
       "    </tr>\n",
       "  </thead>\n",
       "  <tbody>\n",
       "    <tr>\n",
       "      <th>0</th>\n",
       "      <td>0001f83c-c6ac-4621-b7f0-8a28b283ac30</td>\n",
       "      <td>facebook_ads</td>\n",
       "    </tr>\n",
       "    <tr>\n",
       "      <th>1</th>\n",
       "      <td>00151b4f-ba38-44a8-a650-d7cf130a0105</td>\n",
       "      <td>yandex_direct</td>\n",
       "    </tr>\n",
       "    <tr>\n",
       "      <th>2</th>\n",
       "      <td>001aaea6-3d14-43f1-8ca8-7f48820f17aa</td>\n",
       "      <td>youtube_channel_reklama</td>\n",
       "    </tr>\n",
       "    <tr>\n",
       "      <th>3</th>\n",
       "      <td>001d39dc-366c-4021-9604-6a3b9ff01e25</td>\n",
       "      <td>instagram_new_adverts</td>\n",
       "    </tr>\n",
       "    <tr>\n",
       "      <th>4</th>\n",
       "      <td>002f508f-67b6-479f-814b-b05f00d4e995</td>\n",
       "      <td>facebook_ads</td>\n",
       "    </tr>\n",
       "  </tbody>\n",
       "</table>\n",
       "</div>"
      ],
      "text/plain": [
       "                                user_id                   source\n",
       "0  0001f83c-c6ac-4621-b7f0-8a28b283ac30             facebook_ads\n",
       "1  00151b4f-ba38-44a8-a650-d7cf130a0105            yandex_direct\n",
       "2  001aaea6-3d14-43f1-8ca8-7f48820f17aa  youtube_channel_reklama\n",
       "3  001d39dc-366c-4021-9604-6a3b9ff01e25    instagram_new_adverts\n",
       "4  002f508f-67b6-479f-814b-b05f00d4e995             facebook_ads"
      ]
     },
     "execution_count": 6,
     "metadata": {},
     "output_type": "execute_result"
    }
   ],
   "source": [
    "source.head()"
   ]
  },
  {
   "cell_type": "markdown",
   "metadata": {},
   "source": [
    "# Предобработка данных <a id=2></a> "
   ]
  },
  {
   "cell_type": "code",
   "execution_count": 7,
   "metadata": {},
   "outputs": [
    {
     "name": "stdout",
     "output_type": "stream",
     "text": [
      "<class 'pandas.core.frame.DataFrame'>\n",
      "RangeIndex: 135640 entries, 0 to 135639\n",
      "Data columns (total 5 columns):\n",
      " #   Column          Non-Null Count   Dtype \n",
      "---  ------          --------------   ----- \n",
      " 0   event_datetime  135640 non-null  object\n",
      " 1   event           135640 non-null  object\n",
      " 2   building_type   127957 non-null  object\n",
      " 3   user_id         135640 non-null  object\n",
      " 4   project_type    1866 non-null    object\n",
      "dtypes: object(5)\n",
      "memory usage: 5.2+ MB\n"
     ]
    }
   ],
   "source": [
    "#Посмотрим общую информацию об основном датасете\n",
    "actions.info()"
   ]
  },
  {
   "cell_type": "code",
   "execution_count": 8,
   "metadata": {},
   "outputs": [
    {
     "name": "stdout",
     "output_type": "stream",
     "text": [
      "<class 'pandas.core.frame.DataFrame'>\n",
      "RangeIndex: 135640 entries, 0 to 135639\n",
      "Data columns (total 5 columns):\n",
      " #   Column          Non-Null Count   Dtype         \n",
      "---  ------          --------------   -----         \n",
      " 0   event_datetime  135640 non-null  datetime64[ns]\n",
      " 1   event           135640 non-null  object        \n",
      " 2   building_type   127957 non-null  object        \n",
      " 3   user_id         135640 non-null  object        \n",
      " 4   project_type    1866 non-null    object        \n",
      "dtypes: datetime64[ns](1), object(4)\n",
      "memory usage: 5.2+ MB\n"
     ]
    }
   ],
   "source": [
    "# скорректируем столбец даты\n",
    "actions['event_datetime'] = pd.to_datetime(actions['event_datetime'])\n",
    "actions.info()"
   ]
  },
  {
   "cell_type": "code",
   "execution_count": 9,
   "metadata": {},
   "outputs": [
    {
     "data": {
      "text/html": [
       "<div>\n",
       "<style scoped>\n",
       "    .dataframe tbody tr th:only-of-type {\n",
       "        vertical-align: middle;\n",
       "    }\n",
       "\n",
       "    .dataframe tbody tr th {\n",
       "        vertical-align: top;\n",
       "    }\n",
       "\n",
       "    .dataframe thead th {\n",
       "        text-align: right;\n",
       "    }\n",
       "</style>\n",
       "<table border=\"1\" class=\"dataframe\">\n",
       "  <thead>\n",
       "    <tr style=\"text-align: right;\">\n",
       "      <th></th>\n",
       "      <th>event_datetime</th>\n",
       "      <th>event</th>\n",
       "      <th>building_type</th>\n",
       "      <th>user_id</th>\n",
       "      <th>project_type</th>\n",
       "    </tr>\n",
       "  </thead>\n",
       "  <tbody>\n",
       "    <tr>\n",
       "      <th>47121</th>\n",
       "      <td>2020-05-08 18:10:25</td>\n",
       "      <td>project</td>\n",
       "      <td>NaN</td>\n",
       "      <td>e3c66498-9d45-4000-9392-f81e6796e7da</td>\n",
       "      <td>satellite_orbital_assembly</td>\n",
       "    </tr>\n",
       "    <tr>\n",
       "      <th>57398</th>\n",
       "      <td>2020-05-09 13:49:11</td>\n",
       "      <td>project</td>\n",
       "      <td>NaN</td>\n",
       "      <td>936e7af6-8338-4703-a1df-fc6c3f5b8e34</td>\n",
       "      <td>satellite_orbital_assembly</td>\n",
       "    </tr>\n",
       "    <tr>\n",
       "      <th>58797</th>\n",
       "      <td>2020-05-09 16:19:33</td>\n",
       "      <td>project</td>\n",
       "      <td>NaN</td>\n",
       "      <td>a4491c86-c498-4f74-a56e-65c136d0e9a1</td>\n",
       "      <td>satellite_orbital_assembly</td>\n",
       "    </tr>\n",
       "    <tr>\n",
       "      <th>61174</th>\n",
       "      <td>2020-05-09 20:29:01</td>\n",
       "      <td>project</td>\n",
       "      <td>NaN</td>\n",
       "      <td>85d9e675-562b-4329-8bbd-14d3b39096be</td>\n",
       "      <td>satellite_orbital_assembly</td>\n",
       "    </tr>\n",
       "    <tr>\n",
       "      <th>63770</th>\n",
       "      <td>2020-05-10 00:57:47</td>\n",
       "      <td>project</td>\n",
       "      <td>NaN</td>\n",
       "      <td>1889ca71-3c57-4e61-9ea6-a711971bbf0a</td>\n",
       "      <td>satellite_orbital_assembly</td>\n",
       "    </tr>\n",
       "    <tr>\n",
       "      <th>...</th>\n",
       "      <td>...</td>\n",
       "      <td>...</td>\n",
       "      <td>...</td>\n",
       "      <td>...</td>\n",
       "      <td>...</td>\n",
       "    </tr>\n",
       "    <tr>\n",
       "      <th>135602</th>\n",
       "      <td>2020-06-02 03:04:42</td>\n",
       "      <td>project</td>\n",
       "      <td>NaN</td>\n",
       "      <td>9d98001c-7e14-40d7-896e-46b3047365fd</td>\n",
       "      <td>satellite_orbital_assembly</td>\n",
       "    </tr>\n",
       "    <tr>\n",
       "      <th>135603</th>\n",
       "      <td>2020-06-02 06:21:03</td>\n",
       "      <td>project</td>\n",
       "      <td>NaN</td>\n",
       "      <td>df4a1e13-eba9-4928-a7cf-ee303d6f80f9</td>\n",
       "      <td>satellite_orbital_assembly</td>\n",
       "    </tr>\n",
       "    <tr>\n",
       "      <th>135609</th>\n",
       "      <td>2020-06-02 17:17:28</td>\n",
       "      <td>project</td>\n",
       "      <td>NaN</td>\n",
       "      <td>82e46f34-e243-4728-8e20-2e171fc33ea4</td>\n",
       "      <td>satellite_orbital_assembly</td>\n",
       "    </tr>\n",
       "    <tr>\n",
       "      <th>135617</th>\n",
       "      <td>2020-06-03 09:46:04</td>\n",
       "      <td>project</td>\n",
       "      <td>NaN</td>\n",
       "      <td>fe032991-71e0-48c5-889f-4c3805ba4c9b</td>\n",
       "      <td>satellite_orbital_assembly</td>\n",
       "    </tr>\n",
       "    <tr>\n",
       "      <th>135630</th>\n",
       "      <td>2020-06-04 08:29:42</td>\n",
       "      <td>project</td>\n",
       "      <td>NaN</td>\n",
       "      <td>d477dde8-7c22-4f23-9c4f-4ec31a1aa4c8</td>\n",
       "      <td>satellite_orbital_assembly</td>\n",
       "    </tr>\n",
       "  </tbody>\n",
       "</table>\n",
       "<p>1866 rows × 5 columns</p>\n",
       "</div>"
      ],
      "text/plain": [
       "            event_datetime    event building_type  \\\n",
       "47121  2020-05-08 18:10:25  project           NaN   \n",
       "57398  2020-05-09 13:49:11  project           NaN   \n",
       "58797  2020-05-09 16:19:33  project           NaN   \n",
       "61174  2020-05-09 20:29:01  project           NaN   \n",
       "63770  2020-05-10 00:57:47  project           NaN   \n",
       "...                    ...      ...           ...   \n",
       "135602 2020-06-02 03:04:42  project           NaN   \n",
       "135603 2020-06-02 06:21:03  project           NaN   \n",
       "135609 2020-06-02 17:17:28  project           NaN   \n",
       "135617 2020-06-03 09:46:04  project           NaN   \n",
       "135630 2020-06-04 08:29:42  project           NaN   \n",
       "\n",
       "                                     user_id                project_type  \n",
       "47121   e3c66498-9d45-4000-9392-f81e6796e7da  satellite_orbital_assembly  \n",
       "57398   936e7af6-8338-4703-a1df-fc6c3f5b8e34  satellite_orbital_assembly  \n",
       "58797   a4491c86-c498-4f74-a56e-65c136d0e9a1  satellite_orbital_assembly  \n",
       "61174   85d9e675-562b-4329-8bbd-14d3b39096be  satellite_orbital_assembly  \n",
       "63770   1889ca71-3c57-4e61-9ea6-a711971bbf0a  satellite_orbital_assembly  \n",
       "...                                      ...                         ...  \n",
       "135602  9d98001c-7e14-40d7-896e-46b3047365fd  satellite_orbital_assembly  \n",
       "135603  df4a1e13-eba9-4928-a7cf-ee303d6f80f9  satellite_orbital_assembly  \n",
       "135609  82e46f34-e243-4728-8e20-2e171fc33ea4  satellite_orbital_assembly  \n",
       "135617  fe032991-71e0-48c5-889f-4c3805ba4c9b  satellite_orbital_assembly  \n",
       "135630  d477dde8-7c22-4f23-9c4f-4ec31a1aa4c8  satellite_orbital_assembly  \n",
       "\n",
       "[1866 rows x 5 columns]"
      ]
     },
     "execution_count": 9,
     "metadata": {},
     "output_type": "execute_result"
    }
   ],
   "source": [
    "actions[actions['event'] =='project']"
   ]
  },
  {
   "cell_type": "code",
   "execution_count": 10,
   "metadata": {},
   "outputs": [
    {
     "data": {
      "text/plain": [
       "1"
      ]
     },
     "execution_count": 10,
     "metadata": {},
     "output_type": "execute_result"
    }
   ],
   "source": [
    "actions.duplicated().sum()"
   ]
  },
  {
   "cell_type": "code",
   "execution_count": 11,
   "metadata": {},
   "outputs": [],
   "source": [
    "# уберем дубликат в данных\n",
    "actions = actions.drop_duplicates().reset_index(drop= True)"
   ]
  },
  {
   "cell_type": "code",
   "execution_count": 12,
   "metadata": {},
   "outputs": [
    {
     "data": {
      "text/plain": [
       "0"
      ]
     },
     "execution_count": 12,
     "metadata": {},
     "output_type": "execute_result"
    }
   ],
   "source": [
    "actions.duplicated().sum()"
   ]
  },
  {
   "cell_type": "markdown",
   "metadata": {},
   "source": [
    "В целом данные по основному датасету чистые. Заменили тип данных в дате события и удалили дубликат. Пропуски в выборе типа здания вполне понятны, ведь если пользователь совершает событие не связанное с постройкой здания(например завершение проекта), то в строке будет пропуск. Тоже самое в типе реализованного проекта, если пользователь не завершает проект.\n"
   ]
  },
  {
   "cell_type": "code",
   "execution_count": 13,
   "metadata": {},
   "outputs": [],
   "source": [
    "# заменим числовой формат на дни\n",
    "actions['event_datetime'] = actions['event_datetime'].dt.date"
   ]
  },
  {
   "cell_type": "code",
   "execution_count": 14,
   "metadata": {},
   "outputs": [
    {
     "name": "stdout",
     "output_type": "stream",
     "text": [
      "<class 'pandas.core.frame.DataFrame'>\n",
      "RangeIndex: 28 entries, 0 to 27\n",
      "Data columns (total 3 columns):\n",
      " #   Column  Non-Null Count  Dtype  \n",
      "---  ------  --------------  -----  \n",
      " 0   source  28 non-null     object \n",
      " 1   day     28 non-null     object \n",
      " 2   cost    28 non-null     float64\n",
      "dtypes: float64(1), object(2)\n",
      "memory usage: 800.0+ bytes\n"
     ]
    }
   ],
   "source": [
    "# посмотрим на данные о костах\n",
    "cost.info()"
   ]
  },
  {
   "cell_type": "code",
   "execution_count": 15,
   "metadata": {},
   "outputs": [
    {
     "name": "stdout",
     "output_type": "stream",
     "text": [
      "<class 'pandas.core.frame.DataFrame'>\n",
      "RangeIndex: 28 entries, 0 to 27\n",
      "Data columns (total 3 columns):\n",
      " #   Column  Non-Null Count  Dtype         \n",
      "---  ------  --------------  -----         \n",
      " 0   source  28 non-null     object        \n",
      " 1   day     28 non-null     datetime64[ns]\n",
      " 2   cost    28 non-null     float64       \n",
      "dtypes: datetime64[ns](1), float64(1), object(1)\n",
      "memory usage: 800.0+ bytes\n"
     ]
    }
   ],
   "source": [
    "# скорректируем столбец даты\n",
    "cost['day'] = pd.to_datetime(cost['day'])\n",
    "cost.info()"
   ]
  },
  {
   "cell_type": "code",
   "execution_count": 16,
   "metadata": {},
   "outputs": [
    {
     "data": {
      "text/plain": [
       "0"
      ]
     },
     "execution_count": 16,
     "metadata": {},
     "output_type": "execute_result"
    }
   ],
   "source": [
    "cost.duplicated().sum()"
   ]
  },
  {
   "cell_type": "markdown",
   "metadata": {},
   "source": [
    "Тут все в порядке. Только заменили тип данных в дате"
   ]
  },
  {
   "cell_type": "code",
   "execution_count": 17,
   "metadata": {},
   "outputs": [
    {
     "name": "stdout",
     "output_type": "stream",
     "text": [
      "<class 'pandas.core.frame.DataFrame'>\n",
      "RangeIndex: 13576 entries, 0 to 13575\n",
      "Data columns (total 2 columns):\n",
      " #   Column   Non-Null Count  Dtype \n",
      "---  ------   --------------  ----- \n",
      " 0   user_id  13576 non-null  object\n",
      " 1   source   13576 non-null  object\n",
      "dtypes: object(2)\n",
      "memory usage: 212.2+ KB\n"
     ]
    }
   ],
   "source": [
    "# посмотрим на данные о костах\n",
    "source.info()"
   ]
  },
  {
   "cell_type": "code",
   "execution_count": 18,
   "metadata": {},
   "outputs": [
    {
     "data": {
      "text/plain": [
       "0"
      ]
     },
     "execution_count": 18,
     "metadata": {},
     "output_type": "execute_result"
    }
   ],
   "source": [
    "source.duplicated().sum()"
   ]
  },
  {
   "cell_type": "markdown",
   "metadata": {},
   "source": [
    "Тут все ОК."
   ]
  },
  {
   "cell_type": "markdown",
   "metadata": {},
   "source": [
    "\n",
    "<div class=\"alert alert-success\">\n",
    "<b>Комментарий ревьюера:</b>⛅️ Действительно, все ок)\n",
    "</div>\n",
    "\n",
    "\n"
   ]
  },
  {
   "cell_type": "markdown",
   "metadata": {},
   "source": [
    "# EDA <a id=3></a> "
   ]
  },
  {
   "cell_type": "markdown",
   "metadata": {},
   "source": [
    "## Анализ пользователей"
   ]
  },
  {
   "cell_type": "code",
   "execution_count": 19,
   "metadata": {},
   "outputs": [
    {
     "name": "stdout",
     "output_type": "stream",
     "text": [
      "13576\n"
     ]
    }
   ],
   "source": [
    "# узнаем кол-во уникальных пользователей\n",
    "print(len(actions['user_id'].unique()))"
   ]
  },
  {
   "cell_type": "code",
   "execution_count": 20,
   "metadata": {},
   "outputs": [
    {
     "data": {
      "text/plain": [
       "5817"
      ]
     },
     "execution_count": 20,
     "metadata": {},
     "output_type": "execute_result"
    }
   ],
   "source": [
    "# узнаем сколько пользователей прошли первый уровень\n",
    "actions[actions['event']=='finished_stage_1'].count()[0]"
   ]
  },
  {
   "cell_type": "code",
   "execution_count": 21,
   "metadata": {},
   "outputs": [
    {
     "data": {
      "text/plain": [
       "42.847672362993514"
      ]
     },
     "execution_count": 21,
     "metadata": {},
     "output_type": "execute_result"
    }
   ],
   "source": [
    "# узначем процент пользователей, которые прошли первый уровень\n",
    "percentage = (actions[actions['event']=='finished_stage_1'].count()[0]/len(actions['user_id'].unique())) * 100\n",
    "percentage"
   ]
  },
  {
   "cell_type": "markdown",
   "metadata": {},
   "source": [
    "Всего у нас 13576 уникальных пользователей за этот период. Из них 5817 уже прошли первый уровень. Получается, что около 42% пользователей прошли первый уровень."
   ]
  },
  {
   "cell_type": "code",
   "execution_count": 22,
   "metadata": {},
   "outputs": [
    {
     "data": {
      "image/png": "[encoded data removed]",
      "text/plain": [
       "<Figure size 432x288 with 1 Axes>"
      ]
     },
     "metadata": {
      "needs_background": "light"
     },
     "output_type": "display_data"
    }
   ],
   "source": [
    "# построим диаграмму кол-ва построенных обьектов\n",
    "count_obj = actions.groupby('building_type')['building_type'].count().sort_values(ascending=False)\n",
    "\n",
    "count_obj.plot(kind='bar')\n",
    "plt.title('Кол-во построенных объектов  \\n ')\n",
    "plt.ylabel(\"Кол-во \\n\")\n",
    "plt.xlabel(\" \\nОбьекты\")\n",
    "plt.xticks(rotation=45)\n",
    "plt.show()"
   ]
  },
  {
   "cell_type": "markdown",
   "metadata": {},
   "source": [
    "Исследовательский центр строится гораждо реже чем космопорт и сборочный цех. Скорее всего на него нужно потратить больше ресурсов."
   ]
  },
  {
   "cell_type": "code",
   "execution_count": 23,
   "metadata": {},
   "outputs": [
    {
     "data": {
      "image/png": "[encoded data removed]",
      "text/plain": [
       "<Figure size 432x288 with 1 Axes>"
      ]
     },
     "metadata": {
      "needs_background": "light"
     },
     "output_type": "display_data"
    }
   ],
   "source": [
    "# построим диаграмму кол-во событий по дням\n",
    "day_events = actions.groupby('event_datetime')['event'].count().to_frame().reset_index()\n",
    "\n",
    "day_events.plot()\n",
    "plt.title('Кол-во событий по дням  \\n ')\n",
    "plt.ylabel(\"Кол-во \\n\")\n",
    "plt.xlabel(\" \\nДень\")\n",
    "plt.xticks(rotation=45)\n",
    "plt.show()"
   ]
  },
  {
   "cell_type": "markdown",
   "metadata": {},
   "source": [
    "За первые 5 дней пользователи активно строили здания. Затем, скорее всего, постройки требуют больше ресурсов и так быстро их уже не построишь."
   ]
  },
  {
   "cell_type": "code",
   "execution_count": 24,
   "metadata": {
    "scrolled": true
   },
   "outputs": [
    {
     "data": {
      "image/png": "[encoded data removed]",
      "text/plain": [
       "<Figure size 432x288 with 1 Axes>"
      ]
     },
     "metadata": {
      "needs_background": "light"
     },
     "output_type": "display_data"
    }
   ],
   "source": [
    "# посмтроим диаграмму кол-во построенных зданий по дням c разбивкой по постройкам\n",
    "p = actions[['event_datetime', 'building_type', 'user_id']].pivot_table(\n",
    "    index='event_datetime', columns='building_type', aggfunc='count').plot()\n",
    "\n",
    "plt.title('Кол-во построенных зданий по дням  \\n ')\n",
    "plt.ylabel(\"Кол-во \\n\")\n",
    "plt.xlabel(\" \\nДень\")\n",
    "plt.xticks(rotation=45)\n",
    "plt.show()"
   ]
  },
  {
   "cell_type": "markdown",
   "metadata": {},
   "source": [
    "За первые 7 дней игроки очень активно строили сборочные цехи, затем в дело всупили космопорты и исследовательские центры. Странно, что все пользователи через неделю перестали строить сборочные цехи"
   ]
  },
  {
   "cell_type": "code",
   "execution_count": 25,
   "metadata": {},
   "outputs": [],
   "source": [
    "# посмотрим сколько польвателей прошли уровень через убийство врага, а сколько через завершение проекта\n",
    "finished_level = actions[actions['event']!='building']"
   ]
  },
  {
   "cell_type": "code",
   "execution_count": 26,
   "metadata": {},
   "outputs": [
    {
     "data": {
      "text/plain": [
       "1866"
      ]
     },
     "execution_count": 26,
     "metadata": {},
     "output_type": "execute_result"
    }
   ],
   "source": [
    "# через проект\n",
    "finished_level[finished_level['event']=='project'].count()[0]"
   ]
  },
  {
   "cell_type": "code",
   "execution_count": 27,
   "metadata": {},
   "outputs": [
    {
     "data": {
      "text/plain": [
       "5817"
      ]
     },
     "execution_count": 27,
     "metadata": {},
     "output_type": "execute_result"
    }
   ],
   "source": [
    "len(finished_level['user_id'].unique())"
   ]
  },
  {
   "cell_type": "markdown",
   "metadata": {},
   "source": [
    "1866 игроков завершили уровень завершением проекта и 3951 победой над врагом. Видимо 2 вариант проще. Возможно, пользователь случайно встречается с другим игроком и вынужден будет биться. Или строить проект просто более нудное и затратное по времени дело."
   ]
  },
  {
   "cell_type": "markdown",
   "metadata": {},
   "source": [
    "## Анализ рекламных активностей"
   ]
  },
  {
   "cell_type": "code",
   "execution_count": 28,
   "metadata": {},
   "outputs": [
    {
     "data": {
      "image/png": "[encoded data removed]",
      "text/plain": [
       "<Figure size 432x288 with 1 Axes>"
      ]
     },
     "metadata": {
      "needs_background": "light"
     },
     "output_type": "display_data"
    }
   ],
   "source": [
    "# построим график кол-ва пришедших пользователей с источников\n",
    "s = source.groupby('source')['user_id'].count().sort_values(ascending=False)\n",
    "s.plot(kind='bar')\n",
    "plt.title('Кол-во пришедших пользователей с разных источников \\n ')\n",
    "plt.ylabel(\"Кол-во \\n\")\n",
    "plt.xlabel(\" \\nИсточники\")\n",
    "plt.xticks(rotation=45)\n",
    "plt.show()"
   ]
  },
  {
   "cell_type": "markdown",
   "metadata": {},
   "source": [
    "Больше всего пользователей приходит с Яндекс директа."
   ]
  },
  {
   "cell_type": "code",
   "execution_count": 29,
   "metadata": {},
   "outputs": [
    {
     "data": {
      "image/png": "[encoded data removed]",
      "text/plain": [
       "<Figure size 432x288 with 1 Axes>"
      ]
     },
     "metadata": {
      "needs_background": "light"
     },
     "output_type": "display_data"
    }
   ],
   "source": [
    "# Постотрим на расходы на каждый источник трафика\n",
    "cbs = cost.groupby('source')['cost'].sum().sort_values(ascending=False)\n",
    "cbs.plot(kind='bar')\n",
    "plt.title('Расходы на каждый источник трафика \\n ')\n",
    "plt.ylabel(\"Расходы \\n\")\n",
    "plt.xlabel(\" \\nИсточник\")\n",
    "plt.xticks(rotation=45)\n",
    "plt.show()\n"
   ]
  },
  {
   "cell_type": "code",
   "execution_count": 30,
   "metadata": {},
   "outputs": [],
   "source": [
    "s = s.to_frame().reset_index()\n",
    "cbs = cbs.to_frame().reset_index()"
   ]
  },
  {
   "cell_type": "code",
   "execution_count": 31,
   "metadata": {},
   "outputs": [
    {
     "data": {
      "image/png": "[encoded data removed]",
      "text/plain": [
       "<Figure size 432x288 with 1 Axes>"
      ]
     },
     "metadata": {
      "needs_background": "light"
     },
     "output_type": "display_data"
    }
   ],
   "source": [
    "# найдем расход на нового клиента для каждого источника\n",
    "\n",
    "cpu = s.merge(cbs, on='source')\n",
    "cpu['cost_per_user'] = cpu['cost']/cpu['user_id']\n",
    "cpu = cpu.sort_values(by='cost_per_user')\n",
    "\n",
    "sns.barplot(x='source', y='cost_per_user', data=cpu)\n",
    "plt.title('Стоимость привлечения клиента \\n ')\n",
    "plt.ylabel(\"Стоимость \\n\")\n",
    "plt.xlabel(\" \\nИсточник\")\n",
    "plt.xticks(rotation=45)\n",
    "plt.show(\n",
    ")\n"
   ]
  },
  {
   "cell_type": "markdown",
   "metadata": {},
   "source": [
    "Несмотря на то, что с Youtube к нам пришло меньше всего клиентов, из-за дешевой рекламы это самая низкая стоимость нового пользователя. Получается, что один показ рекламы(с которого мы получаем 0,07$) полностью окупает приход нового пользователя.(кроме Facebook)"
   ]
  },
  {
   "cell_type": "code",
   "execution_count": 32,
   "metadata": {},
   "outputs": [
    {
     "data": {
      "image/png": "[encoded data removed]",
      "text/plain": [
       "<Figure size 432x288 with 1 Axes>"
      ]
     },
     "metadata": {
      "needs_background": "light"
     },
     "output_type": "display_data"
    }
   ],
   "source": [
    "cpd = cost.groupby('day')['cost'].sum()\n",
    "cpd.plot()\n",
    "plt.title('Расходы за рекламу по дням \\n ')\n",
    "plt.ylabel(\"Расходы \\n\")\n",
    "plt.xlabel(\" \\nДень\")\n",
    "plt.xticks(rotation=45)\n",
    "plt.show()"
   ]
  },
  {
   "cell_type": "markdown",
   "metadata": {},
   "source": [
    "Стоимость кликов монотонно убывает. Получается, что с каждым днем все меньше пользователей кликали на показ рекламы, если цена за клик не менялась."
   ]
  },
  {
   "cell_type": "markdown",
   "metadata": {},
   "source": [
    "## Анализ влияния событий на совершение целевого события"
   ]
  },
  {
   "cell_type": "code",
   "execution_count": 33,
   "metadata": {},
   "outputs": [],
   "source": [
    "# разобьем столбец 'event' на отедльные столбцы\n",
    "def process_column(s):\n",
    "    splits = s.split(' ')\n",
    "    d = {}\n",
    "    for key, *rest in [splits[i:i + 3] for i in range(0, len(splits), 3)]:\n",
    "        d.setdefault(key, []).append(' '.join(rest))\n",
    "\n",
    "    d2 = {}\n",
    "    for key, values in d.items():\n",
    "        if len(values) > 1:\n",
    "            for i, value in enumerate(values):\n",
    "                d2[f'{key}{i + 1}'] = value\n",
    "        else:\n",
    "            d2[key] = values[0]\n",
    "    return pd.Series(d2)\n",
    "\n",
    "\n",
    "actions = pd.merge(actions, actions.event.apply(process_column), left_index=True, right_index=True)"
   ]
  },
  {
   "cell_type": "code",
   "execution_count": 34,
   "metadata": {},
   "outputs": [
    {
     "data": {
      "text/html": [
       "<div>\n",
       "<style scoped>\n",
       "    .dataframe tbody tr th:only-of-type {\n",
       "        vertical-align: middle;\n",
       "    }\n",
       "\n",
       "    .dataframe tbody tr th {\n",
       "        vertical-align: top;\n",
       "    }\n",
       "\n",
       "    .dataframe thead th {\n",
       "        text-align: right;\n",
       "    }\n",
       "</style>\n",
       "<table border=\"1\" class=\"dataframe\">\n",
       "  <thead>\n",
       "    <tr style=\"text-align: right;\">\n",
       "      <th></th>\n",
       "      <th>event_datetime</th>\n",
       "      <th>event</th>\n",
       "      <th>building_type</th>\n",
       "      <th>user_id</th>\n",
       "      <th>project_type</th>\n",
       "      <th>building</th>\n",
       "      <th>finished_stage_1</th>\n",
       "      <th>project</th>\n",
       "    </tr>\n",
       "  </thead>\n",
       "  <tbody>\n",
       "    <tr>\n",
       "      <th>0</th>\n",
       "      <td>2020-05-04</td>\n",
       "      <td>building</td>\n",
       "      <td>assembly_shop</td>\n",
       "      <td>55e92310-cb8e-4754-b622-597e124b03de</td>\n",
       "      <td>NaN</td>\n",
       "      <td></td>\n",
       "      <td>NaN</td>\n",
       "      <td>NaN</td>\n",
       "    </tr>\n",
       "    <tr>\n",
       "      <th>1</th>\n",
       "      <td>2020-05-04</td>\n",
       "      <td>building</td>\n",
       "      <td>assembly_shop</td>\n",
       "      <td>c07b1c10-f477-44dc-81dc-ec82254b1347</td>\n",
       "      <td>NaN</td>\n",
       "      <td></td>\n",
       "      <td>NaN</td>\n",
       "      <td>NaN</td>\n",
       "    </tr>\n",
       "    <tr>\n",
       "      <th>2</th>\n",
       "      <td>2020-05-04</td>\n",
       "      <td>building</td>\n",
       "      <td>assembly_shop</td>\n",
       "      <td>6edd42cc-e753-4ff6-a947-2107cd560710</td>\n",
       "      <td>NaN</td>\n",
       "      <td></td>\n",
       "      <td>NaN</td>\n",
       "      <td>NaN</td>\n",
       "    </tr>\n",
       "    <tr>\n",
       "      <th>3</th>\n",
       "      <td>2020-05-04</td>\n",
       "      <td>building</td>\n",
       "      <td>assembly_shop</td>\n",
       "      <td>92c69003-d60a-444a-827f-8cc51bf6bf4c</td>\n",
       "      <td>NaN</td>\n",
       "      <td></td>\n",
       "      <td>NaN</td>\n",
       "      <td>NaN</td>\n",
       "    </tr>\n",
       "    <tr>\n",
       "      <th>4</th>\n",
       "      <td>2020-05-04</td>\n",
       "      <td>building</td>\n",
       "      <td>assembly_shop</td>\n",
       "      <td>cdc6bb92-0ccb-4490-9866-ef142f09139d</td>\n",
       "      <td>NaN</td>\n",
       "      <td></td>\n",
       "      <td>NaN</td>\n",
       "      <td>NaN</td>\n",
       "    </tr>\n",
       "    <tr>\n",
       "      <th>...</th>\n",
       "      <td>...</td>\n",
       "      <td>...</td>\n",
       "      <td>...</td>\n",
       "      <td>...</td>\n",
       "      <td>...</td>\n",
       "      <td>...</td>\n",
       "      <td>...</td>\n",
       "      <td>...</td>\n",
       "    </tr>\n",
       "    <tr>\n",
       "      <th>135634</th>\n",
       "      <td>2020-06-05</td>\n",
       "      <td>building</td>\n",
       "      <td>research_center</td>\n",
       "      <td>f21d179f-1c4b-437e-b9c6-ab1976907195</td>\n",
       "      <td>NaN</td>\n",
       "      <td></td>\n",
       "      <td>NaN</td>\n",
       "      <td>NaN</td>\n",
       "    </tr>\n",
       "    <tr>\n",
       "      <th>135635</th>\n",
       "      <td>2020-06-05</td>\n",
       "      <td>finished_stage_1</td>\n",
       "      <td>NaN</td>\n",
       "      <td>515c1952-99aa-4bca-a7ea-d0449eb5385a</td>\n",
       "      <td>NaN</td>\n",
       "      <td>NaN</td>\n",
       "      <td></td>\n",
       "      <td>NaN</td>\n",
       "    </tr>\n",
       "    <tr>\n",
       "      <th>135636</th>\n",
       "      <td>2020-06-05</td>\n",
       "      <td>building</td>\n",
       "      <td>research_center</td>\n",
       "      <td>ed3e7d02-8a96-4be7-9998-e9813ff9c316</td>\n",
       "      <td>NaN</td>\n",
       "      <td></td>\n",
       "      <td>NaN</td>\n",
       "      <td>NaN</td>\n",
       "    </tr>\n",
       "    <tr>\n",
       "      <th>135637</th>\n",
       "      <td>2020-06-05</td>\n",
       "      <td>finished_stage_1</td>\n",
       "      <td>NaN</td>\n",
       "      <td>32572adb-900f-4b5d-a453-1eb1e6d88d8b</td>\n",
       "      <td>NaN</td>\n",
       "      <td>NaN</td>\n",
       "      <td></td>\n",
       "      <td>NaN</td>\n",
       "    </tr>\n",
       "    <tr>\n",
       "      <th>135638</th>\n",
       "      <td>2020-06-05</td>\n",
       "      <td>finished_stage_1</td>\n",
       "      <td>NaN</td>\n",
       "      <td>f21d179f-1c4b-437e-b9c6-ab1976907195</td>\n",
       "      <td>NaN</td>\n",
       "      <td>NaN</td>\n",
       "      <td></td>\n",
       "      <td>NaN</td>\n",
       "    </tr>\n",
       "  </tbody>\n",
       "</table>\n",
       "<p>135639 rows × 8 columns</p>\n",
       "</div>"
      ],
      "text/plain": [
       "       event_datetime             event    building_type  \\\n",
       "0          2020-05-04          building    assembly_shop   \n",
       "1          2020-05-04          building    assembly_shop   \n",
       "2          2020-05-04          building    assembly_shop   \n",
       "3          2020-05-04          building    assembly_shop   \n",
       "4          2020-05-04          building    assembly_shop   \n",
       "...               ...               ...              ...   \n",
       "135634     2020-06-05          building  research_center   \n",
       "135635     2020-06-05  finished_stage_1              NaN   \n",
       "135636     2020-06-05          building  research_center   \n",
       "135637     2020-06-05  finished_stage_1              NaN   \n",
       "135638     2020-06-05  finished_stage_1              NaN   \n",
       "\n",
       "                                     user_id project_type building  \\\n",
       "0       55e92310-cb8e-4754-b622-597e124b03de          NaN            \n",
       "1       c07b1c10-f477-44dc-81dc-ec82254b1347          NaN            \n",
       "2       6edd42cc-e753-4ff6-a947-2107cd560710          NaN            \n",
       "3       92c69003-d60a-444a-827f-8cc51bf6bf4c          NaN            \n",
       "4       cdc6bb92-0ccb-4490-9866-ef142f09139d          NaN            \n",
       "...                                      ...          ...      ...   \n",
       "135634  f21d179f-1c4b-437e-b9c6-ab1976907195          NaN            \n",
       "135635  515c1952-99aa-4bca-a7ea-d0449eb5385a          NaN      NaN   \n",
       "135636  ed3e7d02-8a96-4be7-9998-e9813ff9c316          NaN            \n",
       "135637  32572adb-900f-4b5d-a453-1eb1e6d88d8b          NaN      NaN   \n",
       "135638  f21d179f-1c4b-437e-b9c6-ab1976907195          NaN      NaN   \n",
       "\n",
       "       finished_stage_1 project  \n",
       "0                   NaN     NaN  \n",
       "1                   NaN     NaN  \n",
       "2                   NaN     NaN  \n",
       "3                   NaN     NaN  \n",
       "4                   NaN     NaN  \n",
       "...                 ...     ...  \n",
       "135634              NaN     NaN  \n",
       "135635                      NaN  \n",
       "135636              NaN     NaN  \n",
       "135637                      NaN  \n",
       "135638                      NaN  \n",
       "\n",
       "[135639 rows x 8 columns]"
      ]
     },
     "execution_count": 34,
     "metadata": {},
     "output_type": "execute_result"
    }
   ],
   "source": [
    "actions"
   ]
  },
  {
   "cell_type": "code",
   "execution_count": 35,
   "metadata": {
    "scrolled": true
   },
   "outputs": [
    {
     "data": {
      "text/html": [
       "<div>\n",
       "<style scoped>\n",
       "    .dataframe tbody tr th:only-of-type {\n",
       "        vertical-align: middle;\n",
       "    }\n",
       "\n",
       "    .dataframe tbody tr th {\n",
       "        vertical-align: top;\n",
       "    }\n",
       "\n",
       "    .dataframe thead th {\n",
       "        text-align: right;\n",
       "    }\n",
       "</style>\n",
       "<table border=\"1\" class=\"dataframe\">\n",
       "  <thead>\n",
       "    <tr style=\"text-align: right;\">\n",
       "      <th></th>\n",
       "      <th>user_id</th>\n",
       "      <th>building_type</th>\n",
       "      <th>finished_stage_1</th>\n",
       "    </tr>\n",
       "  </thead>\n",
       "  <tbody>\n",
       "    <tr>\n",
       "      <th>0</th>\n",
       "      <td>0001f83c-c6ac-4621-b7f0-8a28b283ac30</td>\n",
       "      <td>13</td>\n",
       "      <td>0</td>\n",
       "    </tr>\n",
       "    <tr>\n",
       "      <th>1</th>\n",
       "      <td>00151b4f-ba38-44a8-a650-d7cf130a0105</td>\n",
       "      <td>9</td>\n",
       "      <td>0</td>\n",
       "    </tr>\n",
       "    <tr>\n",
       "      <th>2</th>\n",
       "      <td>001aaea6-3d14-43f1-8ca8-7f48820f17aa</td>\n",
       "      <td>4</td>\n",
       "      <td>0</td>\n",
       "    </tr>\n",
       "    <tr>\n",
       "      <th>3</th>\n",
       "      <td>001d39dc-366c-4021-9604-6a3b9ff01e25</td>\n",
       "      <td>8</td>\n",
       "      <td>1</td>\n",
       "    </tr>\n",
       "    <tr>\n",
       "      <th>4</th>\n",
       "      <td>002f508f-67b6-479f-814b-b05f00d4e995</td>\n",
       "      <td>12</td>\n",
       "      <td>0</td>\n",
       "    </tr>\n",
       "    <tr>\n",
       "      <th>...</th>\n",
       "      <td>...</td>\n",
       "      <td>...</td>\n",
       "      <td>...</td>\n",
       "    </tr>\n",
       "    <tr>\n",
       "      <th>13571</th>\n",
       "      <td>ffef4fed-164c-40e1-bde1-3980f76d0fb5</td>\n",
       "      <td>9</td>\n",
       "      <td>1</td>\n",
       "    </tr>\n",
       "    <tr>\n",
       "      <th>13572</th>\n",
       "      <td>fffab3da-da0e-4e30-ae62-10d0a2e24a4e</td>\n",
       "      <td>16</td>\n",
       "      <td>0</td>\n",
       "    </tr>\n",
       "    <tr>\n",
       "      <th>13573</th>\n",
       "      <td>fffb626c-5ab6-47c9-8113-2062a2f18494</td>\n",
       "      <td>9</td>\n",
       "      <td>1</td>\n",
       "    </tr>\n",
       "    <tr>\n",
       "      <th>13574</th>\n",
       "      <td>ffff194a-56b7-4c12-860d-3485242ae7f5</td>\n",
       "      <td>7</td>\n",
       "      <td>0</td>\n",
       "    </tr>\n",
       "    <tr>\n",
       "      <th>13575</th>\n",
       "      <td>ffff69cc-fec1-4fd3-9f98-93be1112a6b8</td>\n",
       "      <td>12</td>\n",
       "      <td>1</td>\n",
       "    </tr>\n",
       "  </tbody>\n",
       "</table>\n",
       "<p>13576 rows × 3 columns</p>\n",
       "</div>"
      ],
      "text/plain": [
       "                                    user_id  building_type  finished_stage_1\n",
       "0      0001f83c-c6ac-4621-b7f0-8a28b283ac30             13                 0\n",
       "1      00151b4f-ba38-44a8-a650-d7cf130a0105              9                 0\n",
       "2      001aaea6-3d14-43f1-8ca8-7f48820f17aa              4                 0\n",
       "3      001d39dc-366c-4021-9604-6a3b9ff01e25              8                 1\n",
       "4      002f508f-67b6-479f-814b-b05f00d4e995             12                 0\n",
       "...                                     ...            ...               ...\n",
       "13571  ffef4fed-164c-40e1-bde1-3980f76d0fb5              9                 1\n",
       "13572  fffab3da-da0e-4e30-ae62-10d0a2e24a4e             16                 0\n",
       "13573  fffb626c-5ab6-47c9-8113-2062a2f18494              9                 1\n",
       "13574  ffff194a-56b7-4c12-860d-3485242ae7f5              7                 0\n",
       "13575  ffff69cc-fec1-4fd3-9f98-93be1112a6b8             12                 1\n",
       "\n",
       "[13576 rows x 3 columns]"
      ]
     },
     "execution_count": 35,
     "metadata": {},
     "output_type": "execute_result"
    }
   ],
   "source": [
    "# построим график завимости между количеством зданий и завершением уровня\n",
    "build_fin = actions.groupby('user_id')[['building_type', 'finished_stage_1']].count().reset_index()\n",
    "build_fin"
   ]
  },
  {
   "cell_type": "code",
   "execution_count": 36,
   "metadata": {},
   "outputs": [
    {
     "data": {
      "image/png": "[encoded data removed]",
      "text/plain": [
       "<Figure size 432x288 with 1 Axes>"
      ]
     },
     "metadata": {
      "needs_background": "light"
     },
     "output_type": "display_data"
    }
   ],
   "source": [
    "sns.barplot(x='building_type', y='finished_stage_1', data=build_fin)\n",
    "plt.title('График зависимости между кол-вом зданий и завершением уровня \\n ')\n",
    "plt.ylabel(\"Процент завершивших уровень \\n\")\n",
    "plt.xlabel(\" \\nКол-во зданий\")\n",
    "plt.xticks(rotation=45)\n",
    "plt.show()"
   ]
  },
  {
   "cell_type": "markdown",
   "metadata": {},
   "source": [
    "Как мы видим, крайне мало людей завершило уровень с маленький количеством построек(до 7). Дальше процентное соотношение стремительно растет, а затем опять падает. Много людей иметь больше 15 зданий и при этом не заканчивают уровень. Возможно они не нажимают на кнопку завершения уровня или строят много зданий с небольшой стоимостью."
   ]
  },
  {
   "cell_type": "code",
   "execution_count": 37,
   "metadata": {},
   "outputs": [
    {
     "data": {
      "image/png": "[encoded data removed]",
      "text/plain": [
       "<Figure size 432x288 with 1 Axes>"
      ]
     },
     "metadata": {
      "needs_background": "light"
     },
     "output_type": "display_data"
    }
   ],
   "source": [
    "# посторим график зависимости между количеством дней в игре и завершением уровня\n",
    "\n",
    "day_fin = actions.groupby('event_datetime')[ 'finished_stage_1'].count().reset_index()\n",
    "\n",
    "day_fin.plot()\n",
    "plt.title('График зависимости между кол-вом дней в игре и завершением уровня \\n ')\n",
    "plt.ylabel(\"Кол-во завершивших уровень \\n\")\n",
    "plt.xlabel(\" \\nДень\")\n",
    "plt.xticks(rotation=45)\n",
    "plt.show()"
   ]
  },
  {
   "cell_type": "markdown",
   "metadata": {},
   "source": [
    "Сначало кол-во завершивших уровень стремительно растет до определенного момента, а потом резко падает. Большинство пользователей за 13 дней либо уже заканчивает уровень либо перестает играть и отваливается."
   ]
  },
  {
   "cell_type": "code",
   "execution_count": 38,
   "metadata": {},
   "outputs": [],
   "source": [
    "# построем график зависимости между источника, с которого пришли пользователи и завершением уровня\n",
    "actions = actions.merge(source, on='user_id')"
   ]
  },
  {
   "cell_type": "code",
   "execution_count": 39,
   "metadata": {},
   "outputs": [
    {
     "data": {
      "image/png": "[encoded data removed]",
      "text/plain": [
       "<Figure size 432x288 with 1 Axes>"
      ]
     },
     "metadata": {
      "needs_background": "light"
     },
     "output_type": "display_data"
    }
   ],
   "source": [
    "l = (actions.groupby('source')['finished_stage_1'].count().to_frame()\n",
    "                                             .reset_index().sort_values(by='finished_stage_1',ascending=False))\n",
    "sns.barplot(x='source',y='finished_stage_1',data=l)\n",
    "plt.title('График зависимости между источником и завершением уровня \\n ')\n",
    "plt.ylabel(\"Кол-во завершивших уровень \\n\")\n",
    "plt.xlabel(\" \\nИсточник\")\n",
    "plt.xticks(rotation=45)\n",
    "plt.show()"
   ]
  },
  {
   "cell_type": "markdown",
   "metadata": {},
   "source": [
    "Пользователи, которые пришли с Яндекс Директа больше чаще заканчивают уровень, чем пользователи, которые пришли с Facebook. Возмонжо с Яндекс Директа идет более мололежное сообщество чем с Facebook. "
   ]
  },
  {
   "cell_type": "code",
   "execution_count": 40,
   "metadata": {},
   "outputs": [
    {
     "data": {
      "image/png": "[encoded data removed]",
      "text/plain": [
       "<Figure size 432x288 with 1 Axes>"
      ]
     },
     "metadata": {
      "needs_background": "light"
     },
     "output_type": "display_data"
    }
   ],
   "source": [
    "d = (actions.groupby('source')['building_type'].count().to_frame()\n",
    "                                 .reset_index().sort_values(by='building_type',ascending=False))\n",
    "\n",
    "sns.barplot(x='source',y='building_type',data=d)\n",
    "plt.title('График зависимости между источником и кол-вом зданий \\n ')\n",
    "plt.ylabel(\"Кол-во зданий \\n\")\n",
    "plt.xlabel(\" \\nИсточник\")\n",
    "plt.xticks(rotation=45)\n",
    "plt.show()"
   ]
  },
  {
   "cell_type": "markdown",
   "metadata": {},
   "source": [
    "Пользователи Яндекс директа чаще заканчивают уровень, тем самым строят больше зданий. Это стоит учитывать, ведь при каждой постройке здания пользотвалеь смотрит рекламу."
   ]
  },
  {
   "cell_type": "code",
   "execution_count": 41,
   "metadata": {},
   "outputs": [
    {
     "data": {
      "text/html": [
       "<div>\n",
       "<style scoped>\n",
       "    .dataframe tbody tr th:only-of-type {\n",
       "        vertical-align: middle;\n",
       "    }\n",
       "\n",
       "    .dataframe tbody tr th {\n",
       "        vertical-align: top;\n",
       "    }\n",
       "\n",
       "    .dataframe thead th {\n",
       "        text-align: right;\n",
       "    }\n",
       "</style>\n",
       "<table border=\"1\" class=\"dataframe\">\n",
       "  <thead>\n",
       "    <tr style=\"text-align: right;\">\n",
       "      <th></th>\n",
       "      <th>event_datetime</th>\n",
       "      <th>event</th>\n",
       "      <th>building_type</th>\n",
       "      <th>user_id</th>\n",
       "      <th>project_type</th>\n",
       "      <th>building</th>\n",
       "      <th>finished_stage_1</th>\n",
       "      <th>project</th>\n",
       "      <th>source</th>\n",
       "    </tr>\n",
       "  </thead>\n",
       "  <tbody>\n",
       "    <tr>\n",
       "      <th>7</th>\n",
       "      <td>2020-05-04</td>\n",
       "      <td>building</td>\n",
       "      <td>assembly_shop</td>\n",
       "      <td>c07b1c10-f477-44dc-81dc-ec82254b1347</td>\n",
       "      <td>NaN</td>\n",
       "      <td></td>\n",
       "      <td>NaN</td>\n",
       "      <td>NaN</td>\n",
       "      <td>facebook_ads</td>\n",
       "    </tr>\n",
       "    <tr>\n",
       "      <th>8</th>\n",
       "      <td>2020-05-06</td>\n",
       "      <td>building</td>\n",
       "      <td>assembly_shop</td>\n",
       "      <td>c07b1c10-f477-44dc-81dc-ec82254b1347</td>\n",
       "      <td>NaN</td>\n",
       "      <td></td>\n",
       "      <td>NaN</td>\n",
       "      <td>NaN</td>\n",
       "      <td>facebook_ads</td>\n",
       "    </tr>\n",
       "    <tr>\n",
       "      <th>9</th>\n",
       "      <td>2020-05-07</td>\n",
       "      <td>building</td>\n",
       "      <td>spaceport</td>\n",
       "      <td>c07b1c10-f477-44dc-81dc-ec82254b1347</td>\n",
       "      <td>NaN</td>\n",
       "      <td></td>\n",
       "      <td>NaN</td>\n",
       "      <td>NaN</td>\n",
       "      <td>facebook_ads</td>\n",
       "    </tr>\n",
       "    <tr>\n",
       "      <th>10</th>\n",
       "      <td>2020-05-07</td>\n",
       "      <td>building</td>\n",
       "      <td>assembly_shop</td>\n",
       "      <td>c07b1c10-f477-44dc-81dc-ec82254b1347</td>\n",
       "      <td>NaN</td>\n",
       "      <td></td>\n",
       "      <td>NaN</td>\n",
       "      <td>NaN</td>\n",
       "      <td>facebook_ads</td>\n",
       "    </tr>\n",
       "    <tr>\n",
       "      <th>11</th>\n",
       "      <td>2020-05-07</td>\n",
       "      <td>building</td>\n",
       "      <td>assembly_shop</td>\n",
       "      <td>c07b1c10-f477-44dc-81dc-ec82254b1347</td>\n",
       "      <td>NaN</td>\n",
       "      <td></td>\n",
       "      <td>NaN</td>\n",
       "      <td>NaN</td>\n",
       "      <td>facebook_ads</td>\n",
       "    </tr>\n",
       "    <tr>\n",
       "      <th>...</th>\n",
       "      <td>...</td>\n",
       "      <td>...</td>\n",
       "      <td>...</td>\n",
       "      <td>...</td>\n",
       "      <td>...</td>\n",
       "      <td>...</td>\n",
       "      <td>...</td>\n",
       "      <td>...</td>\n",
       "      <td>...</td>\n",
       "    </tr>\n",
       "    <tr>\n",
       "      <th>135583</th>\n",
       "      <td>2020-05-28</td>\n",
       "      <td>building</td>\n",
       "      <td>spaceport</td>\n",
       "      <td>637a8d39-3872-4549-80cc-bebee6c88056</td>\n",
       "      <td>NaN</td>\n",
       "      <td></td>\n",
       "      <td>NaN</td>\n",
       "      <td>NaN</td>\n",
       "      <td>yandex_direct</td>\n",
       "    </tr>\n",
       "    <tr>\n",
       "      <th>135584</th>\n",
       "      <td>2020-05-28</td>\n",
       "      <td>building</td>\n",
       "      <td>research_center</td>\n",
       "      <td>637a8d39-3872-4549-80cc-bebee6c88056</td>\n",
       "      <td>NaN</td>\n",
       "      <td></td>\n",
       "      <td>NaN</td>\n",
       "      <td>NaN</td>\n",
       "      <td>yandex_direct</td>\n",
       "    </tr>\n",
       "    <tr>\n",
       "      <th>135585</th>\n",
       "      <td>2020-05-30</td>\n",
       "      <td>building</td>\n",
       "      <td>research_center</td>\n",
       "      <td>637a8d39-3872-4549-80cc-bebee6c88056</td>\n",
       "      <td>NaN</td>\n",
       "      <td></td>\n",
       "      <td>NaN</td>\n",
       "      <td>NaN</td>\n",
       "      <td>yandex_direct</td>\n",
       "    </tr>\n",
       "    <tr>\n",
       "      <th>135586</th>\n",
       "      <td>2020-06-01</td>\n",
       "      <td>project</td>\n",
       "      <td>NaN</td>\n",
       "      <td>637a8d39-3872-4549-80cc-bebee6c88056</td>\n",
       "      <td>satellite_orbital_assembly</td>\n",
       "      <td>NaN</td>\n",
       "      <td>NaN</td>\n",
       "      <td></td>\n",
       "      <td>yandex_direct</td>\n",
       "    </tr>\n",
       "    <tr>\n",
       "      <th>135587</th>\n",
       "      <td>2020-06-02</td>\n",
       "      <td>finished_stage_1</td>\n",
       "      <td>NaN</td>\n",
       "      <td>637a8d39-3872-4549-80cc-bebee6c88056</td>\n",
       "      <td>NaN</td>\n",
       "      <td>NaN</td>\n",
       "      <td></td>\n",
       "      <td>NaN</td>\n",
       "      <td>yandex_direct</td>\n",
       "    </tr>\n",
       "  </tbody>\n",
       "</table>\n",
       "<p>27333 rows × 9 columns</p>\n",
       "</div>"
      ],
      "text/plain": [
       "       event_datetime             event    building_type  \\\n",
       "7          2020-05-04          building    assembly_shop   \n",
       "8          2020-05-06          building    assembly_shop   \n",
       "9          2020-05-07          building        spaceport   \n",
       "10         2020-05-07          building    assembly_shop   \n",
       "11         2020-05-07          building    assembly_shop   \n",
       "...               ...               ...              ...   \n",
       "135583     2020-05-28          building        spaceport   \n",
       "135584     2020-05-28          building  research_center   \n",
       "135585     2020-05-30          building  research_center   \n",
       "135586     2020-06-01           project              NaN   \n",
       "135587     2020-06-02  finished_stage_1              NaN   \n",
       "\n",
       "                                     user_id                project_type  \\\n",
       "7       c07b1c10-f477-44dc-81dc-ec82254b1347                         NaN   \n",
       "8       c07b1c10-f477-44dc-81dc-ec82254b1347                         NaN   \n",
       "9       c07b1c10-f477-44dc-81dc-ec82254b1347                         NaN   \n",
       "10      c07b1c10-f477-44dc-81dc-ec82254b1347                         NaN   \n",
       "11      c07b1c10-f477-44dc-81dc-ec82254b1347                         NaN   \n",
       "...                                      ...                         ...   \n",
       "135583  637a8d39-3872-4549-80cc-bebee6c88056                         NaN   \n",
       "135584  637a8d39-3872-4549-80cc-bebee6c88056                         NaN   \n",
       "135585  637a8d39-3872-4549-80cc-bebee6c88056                         NaN   \n",
       "135586  637a8d39-3872-4549-80cc-bebee6c88056  satellite_orbital_assembly   \n",
       "135587  637a8d39-3872-4549-80cc-bebee6c88056                         NaN   \n",
       "\n",
       "       building finished_stage_1 project         source  \n",
       "7                            NaN     NaN   facebook_ads  \n",
       "8                            NaN     NaN   facebook_ads  \n",
       "9                            NaN     NaN   facebook_ads  \n",
       "10                           NaN     NaN   facebook_ads  \n",
       "11                           NaN     NaN   facebook_ads  \n",
       "...         ...              ...     ...            ...  \n",
       "135583                       NaN     NaN  yandex_direct  \n",
       "135584                       NaN     NaN  yandex_direct  \n",
       "135585                       NaN     NaN  yandex_direct  \n",
       "135586      NaN              NaN          yandex_direct  \n",
       "135587      NaN                      NaN  yandex_direct  \n",
       "\n",
       "[27333 rows x 9 columns]"
      ]
     },
     "execution_count": 41,
     "metadata": {},
     "output_type": "execute_result"
    }
   ],
   "source": [
    "# найдем среднее кол-во построенных зданий для пользователей, завершивших уровень через проект и убийством врага\n",
    "p = actions[actions['event'] == 'project']\n",
    "pr = actions['user_id'].isin(p['user_id'])\n",
    "projects = actions[pr]\n",
    "projects"
   ]
  },
  {
   "cell_type": "code",
   "execution_count": 42,
   "metadata": {},
   "outputs": [
    {
     "name": "stdout",
     "output_type": "stream",
     "text": [
      "Среднее кол-во зданий пользователей через проект: 12.64790996784566\n"
     ]
    }
   ],
   "source": [
    "print('Среднее кол-во зданий пользователей через проект:', projects['building_type'].count()/len(projects['user_id'].unique()))"
   ]
  },
  {
   "cell_type": "code",
   "execution_count": 43,
   "metadata": {},
   "outputs": [
    {
     "data": {
      "text/html": [
       "<div>\n",
       "<style scoped>\n",
       "    .dataframe tbody tr th:only-of-type {\n",
       "        vertical-align: middle;\n",
       "    }\n",
       "\n",
       "    .dataframe tbody tr th {\n",
       "        vertical-align: top;\n",
       "    }\n",
       "\n",
       "    .dataframe thead th {\n",
       "        text-align: right;\n",
       "    }\n",
       "</style>\n",
       "<table border=\"1\" class=\"dataframe\">\n",
       "  <thead>\n",
       "    <tr style=\"text-align: right;\">\n",
       "      <th></th>\n",
       "      <th>event_datetime</th>\n",
       "      <th>event</th>\n",
       "      <th>building_type</th>\n",
       "      <th>user_id</th>\n",
       "      <th>project_type</th>\n",
       "      <th>building</th>\n",
       "      <th>finished_stage_1</th>\n",
       "      <th>project</th>\n",
       "      <th>source</th>\n",
       "    </tr>\n",
       "  </thead>\n",
       "  <tbody>\n",
       "    <tr>\n",
       "      <th>20</th>\n",
       "      <td>2020-05-04</td>\n",
       "      <td>building</td>\n",
       "      <td>assembly_shop</td>\n",
       "      <td>6edd42cc-e753-4ff6-a947-2107cd560710</td>\n",
       "      <td>NaN</td>\n",
       "      <td></td>\n",
       "      <td>NaN</td>\n",
       "      <td>NaN</td>\n",
       "      <td>instagram_new_adverts</td>\n",
       "    </tr>\n",
       "    <tr>\n",
       "      <th>21</th>\n",
       "      <td>2020-05-07</td>\n",
       "      <td>building</td>\n",
       "      <td>assembly_shop</td>\n",
       "      <td>6edd42cc-e753-4ff6-a947-2107cd560710</td>\n",
       "      <td>NaN</td>\n",
       "      <td></td>\n",
       "      <td>NaN</td>\n",
       "      <td>NaN</td>\n",
       "      <td>instagram_new_adverts</td>\n",
       "    </tr>\n",
       "    <tr>\n",
       "      <th>22</th>\n",
       "      <td>2020-05-07</td>\n",
       "      <td>building</td>\n",
       "      <td>assembly_shop</td>\n",
       "      <td>6edd42cc-e753-4ff6-a947-2107cd560710</td>\n",
       "      <td>NaN</td>\n",
       "      <td></td>\n",
       "      <td>NaN</td>\n",
       "      <td>NaN</td>\n",
       "      <td>instagram_new_adverts</td>\n",
       "    </tr>\n",
       "    <tr>\n",
       "      <th>23</th>\n",
       "      <td>2020-05-07</td>\n",
       "      <td>building</td>\n",
       "      <td>assembly_shop</td>\n",
       "      <td>6edd42cc-e753-4ff6-a947-2107cd560710</td>\n",
       "      <td>NaN</td>\n",
       "      <td></td>\n",
       "      <td>NaN</td>\n",
       "      <td>NaN</td>\n",
       "      <td>instagram_new_adverts</td>\n",
       "    </tr>\n",
       "    <tr>\n",
       "      <th>24</th>\n",
       "      <td>2020-05-08</td>\n",
       "      <td>building</td>\n",
       "      <td>assembly_shop</td>\n",
       "      <td>6edd42cc-e753-4ff6-a947-2107cd560710</td>\n",
       "      <td>NaN</td>\n",
       "      <td></td>\n",
       "      <td>NaN</td>\n",
       "      <td>NaN</td>\n",
       "      <td>instagram_new_adverts</td>\n",
       "    </tr>\n",
       "    <tr>\n",
       "      <th>...</th>\n",
       "      <td>...</td>\n",
       "      <td>...</td>\n",
       "      <td>...</td>\n",
       "      <td>...</td>\n",
       "      <td>...</td>\n",
       "      <td>...</td>\n",
       "      <td>...</td>\n",
       "      <td>...</td>\n",
       "      <td>...</td>\n",
       "    </tr>\n",
       "    <tr>\n",
       "      <th>135616</th>\n",
       "      <td>2020-05-17</td>\n",
       "      <td>building</td>\n",
       "      <td>spaceport</td>\n",
       "      <td>20bc9d79-10c4-4f2d-862e-4a6dece3b4ec</td>\n",
       "      <td>NaN</td>\n",
       "      <td></td>\n",
       "      <td>NaN</td>\n",
       "      <td>NaN</td>\n",
       "      <td>youtube_channel_reklama</td>\n",
       "    </tr>\n",
       "    <tr>\n",
       "      <th>135617</th>\n",
       "      <td>2020-05-23</td>\n",
       "      <td>building</td>\n",
       "      <td>spaceport</td>\n",
       "      <td>20bc9d79-10c4-4f2d-862e-4a6dece3b4ec</td>\n",
       "      <td>NaN</td>\n",
       "      <td></td>\n",
       "      <td>NaN</td>\n",
       "      <td>NaN</td>\n",
       "      <td>youtube_channel_reklama</td>\n",
       "    </tr>\n",
       "    <tr>\n",
       "      <th>135618</th>\n",
       "      <td>2020-05-26</td>\n",
       "      <td>building</td>\n",
       "      <td>spaceport</td>\n",
       "      <td>20bc9d79-10c4-4f2d-862e-4a6dece3b4ec</td>\n",
       "      <td>NaN</td>\n",
       "      <td></td>\n",
       "      <td>NaN</td>\n",
       "      <td>NaN</td>\n",
       "      <td>youtube_channel_reklama</td>\n",
       "    </tr>\n",
       "    <tr>\n",
       "      <th>135619</th>\n",
       "      <td>2020-05-30</td>\n",
       "      <td>building</td>\n",
       "      <td>spaceport</td>\n",
       "      <td>20bc9d79-10c4-4f2d-862e-4a6dece3b4ec</td>\n",
       "      <td>NaN</td>\n",
       "      <td></td>\n",
       "      <td>NaN</td>\n",
       "      <td>NaN</td>\n",
       "      <td>youtube_channel_reklama</td>\n",
       "    </tr>\n",
       "    <tr>\n",
       "      <th>135620</th>\n",
       "      <td>2020-05-31</td>\n",
       "      <td>finished_stage_1</td>\n",
       "      <td>NaN</td>\n",
       "      <td>20bc9d79-10c4-4f2d-862e-4a6dece3b4ec</td>\n",
       "      <td>NaN</td>\n",
       "      <td>NaN</td>\n",
       "      <td></td>\n",
       "      <td>NaN</td>\n",
       "      <td>youtube_channel_reklama</td>\n",
       "    </tr>\n",
       "  </tbody>\n",
       "</table>\n",
       "<p>41136 rows × 9 columns</p>\n",
       "</div>"
      ],
      "text/plain": [
       "       event_datetime             event  building_type  \\\n",
       "20         2020-05-04          building  assembly_shop   \n",
       "21         2020-05-07          building  assembly_shop   \n",
       "22         2020-05-07          building  assembly_shop   \n",
       "23         2020-05-07          building  assembly_shop   \n",
       "24         2020-05-08          building  assembly_shop   \n",
       "...               ...               ...            ...   \n",
       "135616     2020-05-17          building      spaceport   \n",
       "135617     2020-05-23          building      spaceport   \n",
       "135618     2020-05-26          building      spaceport   \n",
       "135619     2020-05-30          building      spaceport   \n",
       "135620     2020-05-31  finished_stage_1            NaN   \n",
       "\n",
       "                                     user_id project_type building  \\\n",
       "20      6edd42cc-e753-4ff6-a947-2107cd560710          NaN            \n",
       "21      6edd42cc-e753-4ff6-a947-2107cd560710          NaN            \n",
       "22      6edd42cc-e753-4ff6-a947-2107cd560710          NaN            \n",
       "23      6edd42cc-e753-4ff6-a947-2107cd560710          NaN            \n",
       "24      6edd42cc-e753-4ff6-a947-2107cd560710          NaN            \n",
       "...                                      ...          ...      ...   \n",
       "135616  20bc9d79-10c4-4f2d-862e-4a6dece3b4ec          NaN            \n",
       "135617  20bc9d79-10c4-4f2d-862e-4a6dece3b4ec          NaN            \n",
       "135618  20bc9d79-10c4-4f2d-862e-4a6dece3b4ec          NaN            \n",
       "135619  20bc9d79-10c4-4f2d-862e-4a6dece3b4ec          NaN            \n",
       "135620  20bc9d79-10c4-4f2d-862e-4a6dece3b4ec          NaN      NaN   \n",
       "\n",
       "       finished_stage_1 project                   source  \n",
       "20                  NaN     NaN    instagram_new_adverts  \n",
       "21                  NaN     NaN    instagram_new_adverts  \n",
       "22                  NaN     NaN    instagram_new_adverts  \n",
       "23                  NaN     NaN    instagram_new_adverts  \n",
       "24                  NaN     NaN    instagram_new_adverts  \n",
       "...                 ...     ...                      ...  \n",
       "135616              NaN     NaN  youtube_channel_reklama  \n",
       "135617              NaN     NaN  youtube_channel_reklama  \n",
       "135618              NaN     NaN  youtube_channel_reklama  \n",
       "135619              NaN     NaN  youtube_channel_reklama  \n",
       "135620                      NaN  youtube_channel_reklama  \n",
       "\n",
       "[41136 rows x 9 columns]"
      ]
     },
     "execution_count": 43,
     "metadata": {},
     "output_type": "execute_result"
    }
   ],
   "source": [
    "enemy = ~actions['user_id'].isin(p['user_id'])\n",
    "enemy = actions[enemy]\n",
    "enemy = enemy[enemy['event']=='finished_stage_1']\n",
    "enemy = actions['user_id'].isin(enemy['user_id'])\n",
    "enemy = actions[enemy]\n",
    "enemy"
   ]
  },
  {
   "cell_type": "code",
   "execution_count": 44,
   "metadata": {},
   "outputs": [
    {
     "name": "stdout",
     "output_type": "stream",
     "text": [
      "Среднее кол-во зданий пользователей через убийство врага: 9.411541381928625\n"
     ]
    }
   ],
   "source": [
    "print('Среднее кол-во зданий пользователей через убийство врага:', enemy['building_type'].count()/len(enemy['user_id'].unique()))"
   ]
  },
  {
   "cell_type": "markdown",
   "metadata": {},
   "source": [
    "Пользователи, которые заканчивают проект через завершение проекта в среднем строят больше зданий, чем через убийством врарга. Нужно будет потвердить гипотезу статистичеки, но если она потвердится, то скорее всего показывать рекламу на выборе типа объекта для постройки не самая лучшая идея, так как в завимости от стратегии пользователя мы зарабатывает разное кол-во денег. Плюс большинство пользователей проходит уровень именно через убийство врага."
   ]
  },
  {
   "cell_type": "markdown",
   "metadata": {},
   "source": [
    "# Проверим гипотезы <a id=4></a> \n",
    "       \n",
    "        H0: среднее время прохождение уровня через проект = среднее время прохождение уровня через убийство врага \n",
    "        H1: среднее время прохождение уровня через проект != среднее время прохождение уровня через убийство врага "
   ]
  },
  {
   "cell_type": "code",
   "execution_count": 45,
   "metadata": {},
   "outputs": [
    {
     "data": {
      "text/html": [
       "<div>\n",
       "<style scoped>\n",
       "    .dataframe tbody tr th:only-of-type {\n",
       "        vertical-align: middle;\n",
       "    }\n",
       "\n",
       "    .dataframe tbody tr th {\n",
       "        vertical-align: top;\n",
       "    }\n",
       "\n",
       "    .dataframe thead th {\n",
       "        text-align: right;\n",
       "    }\n",
       "</style>\n",
       "<table border=\"1\" class=\"dataframe\">\n",
       "  <thead>\n",
       "    <tr style=\"text-align: right;\">\n",
       "      <th></th>\n",
       "      <th>user_id</th>\n",
       "      <th>first</th>\n",
       "      <th>last</th>\n",
       "    </tr>\n",
       "  </thead>\n",
       "  <tbody>\n",
       "    <tr>\n",
       "      <th>0</th>\n",
       "      <td>006380d6-67a6-45de-ab1e-6eb54ad8dbe8</td>\n",
       "      <td>2020-05-04</td>\n",
       "      <td>2020-05-16</td>\n",
       "    </tr>\n",
       "    <tr>\n",
       "      <th>1</th>\n",
       "      <td>00be7371-fa79-4fbd-b8e7-8ba32e3f8f82</td>\n",
       "      <td>2020-05-08</td>\n",
       "      <td>2020-05-24</td>\n",
       "    </tr>\n",
       "    <tr>\n",
       "      <th>2</th>\n",
       "      <td>00c2b9f2-2615-439c-aed0-6974e4c6c1c1</td>\n",
       "      <td>2020-05-07</td>\n",
       "      <td>2020-05-27</td>\n",
       "    </tr>\n",
       "    <tr>\n",
       "      <th>3</th>\n",
       "      <td>00de2809-403e-4476-a2f7-ca1b11700190</td>\n",
       "      <td>2020-05-04</td>\n",
       "      <td>2020-05-18</td>\n",
       "    </tr>\n",
       "    <tr>\n",
       "      <th>4</th>\n",
       "      <td>00e83261-5fd4-4939-9616-802b5a0202c6</td>\n",
       "      <td>2020-05-05</td>\n",
       "      <td>2020-05-20</td>\n",
       "    </tr>\n",
       "    <tr>\n",
       "      <th>...</th>\n",
       "      <td>...</td>\n",
       "      <td>...</td>\n",
       "      <td>...</td>\n",
       "    </tr>\n",
       "    <tr>\n",
       "      <th>1861</th>\n",
       "      <td>ff50f63a-c4b3-494e-8bf9-3f19dbfc513e</td>\n",
       "      <td>2020-05-04</td>\n",
       "      <td>2020-05-23</td>\n",
       "    </tr>\n",
       "    <tr>\n",
       "      <th>1862</th>\n",
       "      <td>ff60fcd1-4329-494e-b82d-461fbdf5b5eb</td>\n",
       "      <td>2020-05-05</td>\n",
       "      <td>2020-05-13</td>\n",
       "    </tr>\n",
       "    <tr>\n",
       "      <th>1863</th>\n",
       "      <td>ff83bdd8-f49a-49fd-8aad-9fa1fb30d516</td>\n",
       "      <td>2020-05-04</td>\n",
       "      <td>2020-05-18</td>\n",
       "    </tr>\n",
       "    <tr>\n",
       "      <th>1864</th>\n",
       "      <td>ff841992-d93b-462e-bc6e-18c24a514f36</td>\n",
       "      <td>2020-05-05</td>\n",
       "      <td>2020-05-16</td>\n",
       "    </tr>\n",
       "    <tr>\n",
       "      <th>1865</th>\n",
       "      <td>ffff69cc-fec1-4fd3-9f98-93be1112a6b8</td>\n",
       "      <td>2020-05-08</td>\n",
       "      <td>2020-05-25</td>\n",
       "    </tr>\n",
       "  </tbody>\n",
       "</table>\n",
       "<p>1866 rows × 3 columns</p>\n",
       "</div>"
      ],
      "text/plain": [
       "                                   user_id       first        last\n",
       "0     006380d6-67a6-45de-ab1e-6eb54ad8dbe8  2020-05-04  2020-05-16\n",
       "1     00be7371-fa79-4fbd-b8e7-8ba32e3f8f82  2020-05-08  2020-05-24\n",
       "2     00c2b9f2-2615-439c-aed0-6974e4c6c1c1  2020-05-07  2020-05-27\n",
       "3     00de2809-403e-4476-a2f7-ca1b11700190  2020-05-04  2020-05-18\n",
       "4     00e83261-5fd4-4939-9616-802b5a0202c6  2020-05-05  2020-05-20\n",
       "...                                    ...         ...         ...\n",
       "1861  ff50f63a-c4b3-494e-8bf9-3f19dbfc513e  2020-05-04  2020-05-23\n",
       "1862  ff60fcd1-4329-494e-b82d-461fbdf5b5eb  2020-05-05  2020-05-13\n",
       "1863  ff83bdd8-f49a-49fd-8aad-9fa1fb30d516  2020-05-04  2020-05-18\n",
       "1864  ff841992-d93b-462e-bc6e-18c24a514f36  2020-05-05  2020-05-16\n",
       "1865  ffff69cc-fec1-4fd3-9f98-93be1112a6b8  2020-05-08  2020-05-25\n",
       "\n",
       "[1866 rows x 3 columns]"
      ]
     },
     "execution_count": 45,
     "metadata": {},
     "output_type": "execute_result"
    }
   ],
   "source": [
    "# найдем для каждого условия выполнения уровня первое и последнее событие для каждого пользователя\n",
    "mean_time_projects = projects.groupby('user_id')['event_datetime'].agg(['first','last']).reset_index()\n",
    "mean_time_projects"
   ]
  },
  {
   "cell_type": "code",
   "execution_count": 46,
   "metadata": {},
   "outputs": [
    {
     "data": {
      "text/html": [
       "<div>\n",
       "<style scoped>\n",
       "    .dataframe tbody tr th:only-of-type {\n",
       "        vertical-align: middle;\n",
       "    }\n",
       "\n",
       "    .dataframe tbody tr th {\n",
       "        vertical-align: top;\n",
       "    }\n",
       "\n",
       "    .dataframe thead th {\n",
       "        text-align: right;\n",
       "    }\n",
       "</style>\n",
       "<table border=\"1\" class=\"dataframe\">\n",
       "  <thead>\n",
       "    <tr style=\"text-align: right;\">\n",
       "      <th></th>\n",
       "      <th>user_id</th>\n",
       "      <th>first</th>\n",
       "      <th>last</th>\n",
       "      <th>diffr</th>\n",
       "    </tr>\n",
       "  </thead>\n",
       "  <tbody>\n",
       "    <tr>\n",
       "      <th>0</th>\n",
       "      <td>006380d6-67a6-45de-ab1e-6eb54ad8dbe8</td>\n",
       "      <td>2020-05-04</td>\n",
       "      <td>2020-05-16</td>\n",
       "      <td>12 days</td>\n",
       "    </tr>\n",
       "    <tr>\n",
       "      <th>1</th>\n",
       "      <td>00be7371-fa79-4fbd-b8e7-8ba32e3f8f82</td>\n",
       "      <td>2020-05-08</td>\n",
       "      <td>2020-05-24</td>\n",
       "      <td>16 days</td>\n",
       "    </tr>\n",
       "    <tr>\n",
       "      <th>2</th>\n",
       "      <td>00c2b9f2-2615-439c-aed0-6974e4c6c1c1</td>\n",
       "      <td>2020-05-07</td>\n",
       "      <td>2020-05-27</td>\n",
       "      <td>20 days</td>\n",
       "    </tr>\n",
       "    <tr>\n",
       "      <th>3</th>\n",
       "      <td>00de2809-403e-4476-a2f7-ca1b11700190</td>\n",
       "      <td>2020-05-04</td>\n",
       "      <td>2020-05-18</td>\n",
       "      <td>14 days</td>\n",
       "    </tr>\n",
       "    <tr>\n",
       "      <th>4</th>\n",
       "      <td>00e83261-5fd4-4939-9616-802b5a0202c6</td>\n",
       "      <td>2020-05-05</td>\n",
       "      <td>2020-05-20</td>\n",
       "      <td>15 days</td>\n",
       "    </tr>\n",
       "    <tr>\n",
       "      <th>...</th>\n",
       "      <td>...</td>\n",
       "      <td>...</td>\n",
       "      <td>...</td>\n",
       "      <td>...</td>\n",
       "    </tr>\n",
       "    <tr>\n",
       "      <th>1861</th>\n",
       "      <td>ff50f63a-c4b3-494e-8bf9-3f19dbfc513e</td>\n",
       "      <td>2020-05-04</td>\n",
       "      <td>2020-05-23</td>\n",
       "      <td>19 days</td>\n",
       "    </tr>\n",
       "    <tr>\n",
       "      <th>1862</th>\n",
       "      <td>ff60fcd1-4329-494e-b82d-461fbdf5b5eb</td>\n",
       "      <td>2020-05-05</td>\n",
       "      <td>2020-05-13</td>\n",
       "      <td>8 days</td>\n",
       "    </tr>\n",
       "    <tr>\n",
       "      <th>1863</th>\n",
       "      <td>ff83bdd8-f49a-49fd-8aad-9fa1fb30d516</td>\n",
       "      <td>2020-05-04</td>\n",
       "      <td>2020-05-18</td>\n",
       "      <td>14 days</td>\n",
       "    </tr>\n",
       "    <tr>\n",
       "      <th>1864</th>\n",
       "      <td>ff841992-d93b-462e-bc6e-18c24a514f36</td>\n",
       "      <td>2020-05-05</td>\n",
       "      <td>2020-05-16</td>\n",
       "      <td>11 days</td>\n",
       "    </tr>\n",
       "    <tr>\n",
       "      <th>1865</th>\n",
       "      <td>ffff69cc-fec1-4fd3-9f98-93be1112a6b8</td>\n",
       "      <td>2020-05-08</td>\n",
       "      <td>2020-05-25</td>\n",
       "      <td>17 days</td>\n",
       "    </tr>\n",
       "  </tbody>\n",
       "</table>\n",
       "<p>1866 rows × 4 columns</p>\n",
       "</div>"
      ],
      "text/plain": [
       "                                   user_id       first        last   diffr\n",
       "0     006380d6-67a6-45de-ab1e-6eb54ad8dbe8  2020-05-04  2020-05-16 12 days\n",
       "1     00be7371-fa79-4fbd-b8e7-8ba32e3f8f82  2020-05-08  2020-05-24 16 days\n",
       "2     00c2b9f2-2615-439c-aed0-6974e4c6c1c1  2020-05-07  2020-05-27 20 days\n",
       "3     00de2809-403e-4476-a2f7-ca1b11700190  2020-05-04  2020-05-18 14 days\n",
       "4     00e83261-5fd4-4939-9616-802b5a0202c6  2020-05-05  2020-05-20 15 days\n",
       "...                                    ...         ...         ...     ...\n",
       "1861  ff50f63a-c4b3-494e-8bf9-3f19dbfc513e  2020-05-04  2020-05-23 19 days\n",
       "1862  ff60fcd1-4329-494e-b82d-461fbdf5b5eb  2020-05-05  2020-05-13  8 days\n",
       "1863  ff83bdd8-f49a-49fd-8aad-9fa1fb30d516  2020-05-04  2020-05-18 14 days\n",
       "1864  ff841992-d93b-462e-bc6e-18c24a514f36  2020-05-05  2020-05-16 11 days\n",
       "1865  ffff69cc-fec1-4fd3-9f98-93be1112a6b8  2020-05-08  2020-05-25 17 days\n",
       "\n",
       "[1866 rows x 4 columns]"
      ]
     },
     "execution_count": 46,
     "metadata": {},
     "output_type": "execute_result"
    }
   ],
   "source": [
    "mean_time_projects['diffr'] = mean_time_projects['last'] - mean_time_projects['first']\n",
    "mean_time_projects"
   ]
  },
  {
   "cell_type": "code",
   "execution_count": 47,
   "metadata": {},
   "outputs": [
    {
     "data": {
      "text/plain": [
       "Timedelta('13 days 09:31:03.665594855')"
      ]
     },
     "execution_count": 47,
     "metadata": {},
     "output_type": "execute_result"
    }
   ],
   "source": [
    "mean_time_projects['diffr'].mean()"
   ]
  },
  {
   "cell_type": "code",
   "execution_count": 48,
   "metadata": {},
   "outputs": [
    {
     "data": {
      "text/plain": [
       "Timedelta('11 days 01:24:11.480637813')"
      ]
     },
     "execution_count": 48,
     "metadata": {},
     "output_type": "execute_result"
    }
   ],
   "source": [
    "mean_time_enemy = enemy.groupby('user_id')['event_datetime'].agg(['first','last']).reset_index()\n",
    "mean_time_enemy['diffr'] = mean_time_enemy['last'] - mean_time_enemy['first']\n",
    "mean_time_enemy['diffr'].mean()"
   ]
  },
  {
   "cell_type": "code",
   "execution_count": 49,
   "metadata": {},
   "outputs": [],
   "source": [
    "# переведем тип данных даты в формат дней, так как тест не примет формат timedelta\n",
    "mean_time_projects['total_days_td'] = mean_time_projects['diffr'] / pd.to_timedelta(1, unit='D')\n",
    "mean_time_enemy['total_days_td'] = mean_time_enemy['diffr'] / pd.to_timedelta(1, unit='D')"
   ]
  },
  {
   "cell_type": "code",
   "execution_count": 50,
   "metadata": {},
   "outputs": [
    {
     "data": {
      "text/html": [
       "<div>\n",
       "<style scoped>\n",
       "    .dataframe tbody tr th:only-of-type {\n",
       "        vertical-align: middle;\n",
       "    }\n",
       "\n",
       "    .dataframe tbody tr th {\n",
       "        vertical-align: top;\n",
       "    }\n",
       "\n",
       "    .dataframe thead th {\n",
       "        text-align: right;\n",
       "    }\n",
       "</style>\n",
       "<table border=\"1\" class=\"dataframe\">\n",
       "  <thead>\n",
       "    <tr style=\"text-align: right;\">\n",
       "      <th></th>\n",
       "      <th>user_id</th>\n",
       "      <th>first</th>\n",
       "      <th>last</th>\n",
       "      <th>diffr</th>\n",
       "      <th>total_days_td</th>\n",
       "    </tr>\n",
       "  </thead>\n",
       "  <tbody>\n",
       "    <tr>\n",
       "      <th>0</th>\n",
       "      <td>006380d6-67a6-45de-ab1e-6eb54ad8dbe8</td>\n",
       "      <td>2020-05-04</td>\n",
       "      <td>2020-05-16</td>\n",
       "      <td>12 days</td>\n",
       "      <td>12.0</td>\n",
       "    </tr>\n",
       "    <tr>\n",
       "      <th>1</th>\n",
       "      <td>00be7371-fa79-4fbd-b8e7-8ba32e3f8f82</td>\n",
       "      <td>2020-05-08</td>\n",
       "      <td>2020-05-24</td>\n",
       "      <td>16 days</td>\n",
       "      <td>16.0</td>\n",
       "    </tr>\n",
       "    <tr>\n",
       "      <th>2</th>\n",
       "      <td>00c2b9f2-2615-439c-aed0-6974e4c6c1c1</td>\n",
       "      <td>2020-05-07</td>\n",
       "      <td>2020-05-27</td>\n",
       "      <td>20 days</td>\n",
       "      <td>20.0</td>\n",
       "    </tr>\n",
       "    <tr>\n",
       "      <th>3</th>\n",
       "      <td>00de2809-403e-4476-a2f7-ca1b11700190</td>\n",
       "      <td>2020-05-04</td>\n",
       "      <td>2020-05-18</td>\n",
       "      <td>14 days</td>\n",
       "      <td>14.0</td>\n",
       "    </tr>\n",
       "    <tr>\n",
       "      <th>4</th>\n",
       "      <td>00e83261-5fd4-4939-9616-802b5a0202c6</td>\n",
       "      <td>2020-05-05</td>\n",
       "      <td>2020-05-20</td>\n",
       "      <td>15 days</td>\n",
       "      <td>15.0</td>\n",
       "    </tr>\n",
       "    <tr>\n",
       "      <th>...</th>\n",
       "      <td>...</td>\n",
       "      <td>...</td>\n",
       "      <td>...</td>\n",
       "      <td>...</td>\n",
       "      <td>...</td>\n",
       "    </tr>\n",
       "    <tr>\n",
       "      <th>1861</th>\n",
       "      <td>ff50f63a-c4b3-494e-8bf9-3f19dbfc513e</td>\n",
       "      <td>2020-05-04</td>\n",
       "      <td>2020-05-23</td>\n",
       "      <td>19 days</td>\n",
       "      <td>19.0</td>\n",
       "    </tr>\n",
       "    <tr>\n",
       "      <th>1862</th>\n",
       "      <td>ff60fcd1-4329-494e-b82d-461fbdf5b5eb</td>\n",
       "      <td>2020-05-05</td>\n",
       "      <td>2020-05-13</td>\n",
       "      <td>8 days</td>\n",
       "      <td>8.0</td>\n",
       "    </tr>\n",
       "    <tr>\n",
       "      <th>1863</th>\n",
       "      <td>ff83bdd8-f49a-49fd-8aad-9fa1fb30d516</td>\n",
       "      <td>2020-05-04</td>\n",
       "      <td>2020-05-18</td>\n",
       "      <td>14 days</td>\n",
       "      <td>14.0</td>\n",
       "    </tr>\n",
       "    <tr>\n",
       "      <th>1864</th>\n",
       "      <td>ff841992-d93b-462e-bc6e-18c24a514f36</td>\n",
       "      <td>2020-05-05</td>\n",
       "      <td>2020-05-16</td>\n",
       "      <td>11 days</td>\n",
       "      <td>11.0</td>\n",
       "    </tr>\n",
       "    <tr>\n",
       "      <th>1865</th>\n",
       "      <td>ffff69cc-fec1-4fd3-9f98-93be1112a6b8</td>\n",
       "      <td>2020-05-08</td>\n",
       "      <td>2020-05-25</td>\n",
       "      <td>17 days</td>\n",
       "      <td>17.0</td>\n",
       "    </tr>\n",
       "  </tbody>\n",
       "</table>\n",
       "<p>1866 rows × 5 columns</p>\n",
       "</div>"
      ],
      "text/plain": [
       "                                   user_id       first        last   diffr  \\\n",
       "0     006380d6-67a6-45de-ab1e-6eb54ad8dbe8  2020-05-04  2020-05-16 12 days   \n",
       "1     00be7371-fa79-4fbd-b8e7-8ba32e3f8f82  2020-05-08  2020-05-24 16 days   \n",
       "2     00c2b9f2-2615-439c-aed0-6974e4c6c1c1  2020-05-07  2020-05-27 20 days   \n",
       "3     00de2809-403e-4476-a2f7-ca1b11700190  2020-05-04  2020-05-18 14 days   \n",
       "4     00e83261-5fd4-4939-9616-802b5a0202c6  2020-05-05  2020-05-20 15 days   \n",
       "...                                    ...         ...         ...     ...   \n",
       "1861  ff50f63a-c4b3-494e-8bf9-3f19dbfc513e  2020-05-04  2020-05-23 19 days   \n",
       "1862  ff60fcd1-4329-494e-b82d-461fbdf5b5eb  2020-05-05  2020-05-13  8 days   \n",
       "1863  ff83bdd8-f49a-49fd-8aad-9fa1fb30d516  2020-05-04  2020-05-18 14 days   \n",
       "1864  ff841992-d93b-462e-bc6e-18c24a514f36  2020-05-05  2020-05-16 11 days   \n",
       "1865  ffff69cc-fec1-4fd3-9f98-93be1112a6b8  2020-05-08  2020-05-25 17 days   \n",
       "\n",
       "      total_days_td  \n",
       "0              12.0  \n",
       "1              16.0  \n",
       "2              20.0  \n",
       "3              14.0  \n",
       "4              15.0  \n",
       "...             ...  \n",
       "1861           19.0  \n",
       "1862            8.0  \n",
       "1863           14.0  \n",
       "1864           11.0  \n",
       "1865           17.0  \n",
       "\n",
       "[1866 rows x 5 columns]"
      ]
     },
     "execution_count": 50,
     "metadata": {},
     "output_type": "execute_result"
    }
   ],
   "source": [
    "mean_time_projects"
   ]
  },
  {
   "cell_type": "markdown",
   "metadata": {},
   "source": [
    "\n",
    "\n",
    "        H0: среднее время прохождение уровня через проект = среднее время прохождение уровня через убийство врага \n",
    "        H1: среднее время прохождение уровня через проект != среднее время прохождение уровня через убийство врага "
   ]
  },
  {
   "cell_type": "code",
   "execution_count": 51,
   "metadata": {},
   "outputs": [
    {
     "name": "stdout",
     "output_type": "stream",
     "text": [
      "cреднее время прохождения уровня через проект:  13.396570203644158\n",
      "cреднее время прохождения уровня через убийство врага:  11.0584662110858\n",
      "p-значение: 4.363370007994992e-96\n",
      "Разница Статистически Значима!\n"
     ]
    }
   ],
   "source": [
    "# протестируем нашу гипотезу\n",
    "from scipy import stats as st\n",
    "project_hyp = mean_time_projects['total_days_td']\n",
    "enemy_hyp = mean_time_enemy['total_days_td']\n",
    "\n",
    "print('cреднее время прохождения уровня через проект: ',pd.Series(project_hyp).mean())\n",
    "print('cреднее время прохождения уровня через убийство врага: ',pd.Series(enemy_hyp ).mean())\n",
    "\n",
    "alpha = 0.05 # возьме критический уровень статистической значимости 5%\n",
    "\n",
    "results = st.ttest_ind(\n",
    "    project_hyp, \n",
    "     enemy_hyp)\n",
    "print('p-значение:', results.pvalue)\n",
    "\n",
    "if results.pvalue < alpha: \n",
    "    print(\"Разница Статистически Значима!\")\n",
    "else:\n",
    "    print(\"РАЗЛИЧИЙ между временем прохождения Нету!\")"
   ]
  },
  {
   "cell_type": "markdown",
   "metadata": {},
   "source": [
    "Учитывая очень низкое p-value, мы с уверенностью можем сказать, что разницу между временим прохождения уровня в зависимости от выбора стратегии статистически значима."
   ]
  },
  {
   "cell_type": "markdown",
   "metadata": {},
   "source": [
    "## Гипотеза 2\n",
    "    H0: Среднее кол-во построенных зданий для пользователей через проект = Среднее кол-во построенных зданий для пользователей через  убийство врага\n",
    "    H1: Среднее кол-во построенных зданий для пользователей через проект != Среднее кол-во построенных зданий для пользователей через убийство врага"
   ]
  },
  {
   "cell_type": "code",
   "execution_count": 52,
   "metadata": {},
   "outputs": [
    {
     "data": {
      "text/html": [
       "<div>\n",
       "<style scoped>\n",
       "    .dataframe tbody tr th:only-of-type {\n",
       "        vertical-align: middle;\n",
       "    }\n",
       "\n",
       "    .dataframe tbody tr th {\n",
       "        vertical-align: top;\n",
       "    }\n",
       "\n",
       "    .dataframe thead th {\n",
       "        text-align: right;\n",
       "    }\n",
       "</style>\n",
       "<table border=\"1\" class=\"dataframe\">\n",
       "  <thead>\n",
       "    <tr style=\"text-align: right;\">\n",
       "      <th></th>\n",
       "      <th>user_id</th>\n",
       "      <th>building_type</th>\n",
       "    </tr>\n",
       "  </thead>\n",
       "  <tbody>\n",
       "    <tr>\n",
       "      <th>0</th>\n",
       "      <td>006380d6-67a6-45de-ab1e-6eb54ad8dbe8</td>\n",
       "      <td>11</td>\n",
       "    </tr>\n",
       "    <tr>\n",
       "      <th>1</th>\n",
       "      <td>00be7371-fa79-4fbd-b8e7-8ba32e3f8f82</td>\n",
       "      <td>12</td>\n",
       "    </tr>\n",
       "    <tr>\n",
       "      <th>2</th>\n",
       "      <td>00c2b9f2-2615-439c-aed0-6974e4c6c1c1</td>\n",
       "      <td>11</td>\n",
       "    </tr>\n",
       "    <tr>\n",
       "      <th>3</th>\n",
       "      <td>00de2809-403e-4476-a2f7-ca1b11700190</td>\n",
       "      <td>13</td>\n",
       "    </tr>\n",
       "    <tr>\n",
       "      <th>4</th>\n",
       "      <td>00e83261-5fd4-4939-9616-802b5a0202c6</td>\n",
       "      <td>13</td>\n",
       "    </tr>\n",
       "    <tr>\n",
       "      <th>...</th>\n",
       "      <td>...</td>\n",
       "      <td>...</td>\n",
       "    </tr>\n",
       "    <tr>\n",
       "      <th>1861</th>\n",
       "      <td>ff50f63a-c4b3-494e-8bf9-3f19dbfc513e</td>\n",
       "      <td>18</td>\n",
       "    </tr>\n",
       "    <tr>\n",
       "      <th>1862</th>\n",
       "      <td>ff60fcd1-4329-494e-b82d-461fbdf5b5eb</td>\n",
       "      <td>11</td>\n",
       "    </tr>\n",
       "    <tr>\n",
       "      <th>1863</th>\n",
       "      <td>ff83bdd8-f49a-49fd-8aad-9fa1fb30d516</td>\n",
       "      <td>13</td>\n",
       "    </tr>\n",
       "    <tr>\n",
       "      <th>1864</th>\n",
       "      <td>ff841992-d93b-462e-bc6e-18c24a514f36</td>\n",
       "      <td>20</td>\n",
       "    </tr>\n",
       "    <tr>\n",
       "      <th>1865</th>\n",
       "      <td>ffff69cc-fec1-4fd3-9f98-93be1112a6b8</td>\n",
       "      <td>12</td>\n",
       "    </tr>\n",
       "  </tbody>\n",
       "</table>\n",
       "<p>1866 rows × 2 columns</p>\n",
       "</div>"
      ],
      "text/plain": [
       "                                   user_id  building_type\n",
       "0     006380d6-67a6-45de-ab1e-6eb54ad8dbe8             11\n",
       "1     00be7371-fa79-4fbd-b8e7-8ba32e3f8f82             12\n",
       "2     00c2b9f2-2615-439c-aed0-6974e4c6c1c1             11\n",
       "3     00de2809-403e-4476-a2f7-ca1b11700190             13\n",
       "4     00e83261-5fd4-4939-9616-802b5a0202c6             13\n",
       "...                                    ...            ...\n",
       "1861  ff50f63a-c4b3-494e-8bf9-3f19dbfc513e             18\n",
       "1862  ff60fcd1-4329-494e-b82d-461fbdf5b5eb             11\n",
       "1863  ff83bdd8-f49a-49fd-8aad-9fa1fb30d516             13\n",
       "1864  ff841992-d93b-462e-bc6e-18c24a514f36             20\n",
       "1865  ffff69cc-fec1-4fd3-9f98-93be1112a6b8             12\n",
       "\n",
       "[1866 rows x 2 columns]"
      ]
     },
     "execution_count": 52,
     "metadata": {},
     "output_type": "execute_result"
    }
   ],
   "source": [
    "mean_build_projects = projects.groupby('user_id')['building_type'].count().reset_index()\n",
    "mean_build_projects"
   ]
  },
  {
   "cell_type": "code",
   "execution_count": 53,
   "metadata": {},
   "outputs": [
    {
     "data": {
      "text/html": [
       "<div>\n",
       "<style scoped>\n",
       "    .dataframe tbody tr th:only-of-type {\n",
       "        vertical-align: middle;\n",
       "    }\n",
       "\n",
       "    .dataframe tbody tr th {\n",
       "        vertical-align: top;\n",
       "    }\n",
       "\n",
       "    .dataframe thead th {\n",
       "        text-align: right;\n",
       "    }\n",
       "</style>\n",
       "<table border=\"1\" class=\"dataframe\">\n",
       "  <thead>\n",
       "    <tr style=\"text-align: right;\">\n",
       "      <th></th>\n",
       "      <th>user_id</th>\n",
       "      <th>building_type</th>\n",
       "    </tr>\n",
       "  </thead>\n",
       "  <tbody>\n",
       "    <tr>\n",
       "      <th>0</th>\n",
       "      <td>001d39dc-366c-4021-9604-6a3b9ff01e25</td>\n",
       "      <td>8</td>\n",
       "    </tr>\n",
       "    <tr>\n",
       "      <th>1</th>\n",
       "      <td>003ee7e8-6356-4286-a715-62f22a18d2a1</td>\n",
       "      <td>8</td>\n",
       "    </tr>\n",
       "    <tr>\n",
       "      <th>2</th>\n",
       "      <td>004074f8-251a-4776-922c-8348dca1a2f6</td>\n",
       "      <td>12</td>\n",
       "    </tr>\n",
       "    <tr>\n",
       "      <th>3</th>\n",
       "      <td>00464e5e-28ed-4be6-bf44-517ef7b3937b</td>\n",
       "      <td>8</td>\n",
       "    </tr>\n",
       "    <tr>\n",
       "      <th>4</th>\n",
       "      <td>0056c007-c082-43cc-bdef-afc49bca4cb9</td>\n",
       "      <td>3</td>\n",
       "    </tr>\n",
       "    <tr>\n",
       "      <th>...</th>\n",
       "      <td>...</td>\n",
       "      <td>...</td>\n",
       "    </tr>\n",
       "    <tr>\n",
       "      <th>3946</th>\n",
       "      <td>ffc6f4fa-3476-47af-85cb-e2ee0551110a</td>\n",
       "      <td>13</td>\n",
       "    </tr>\n",
       "    <tr>\n",
       "      <th>3947</th>\n",
       "      <td>ffd002f3-3545-423e-8dba-0c6a2d48a3aa</td>\n",
       "      <td>7</td>\n",
       "    </tr>\n",
       "    <tr>\n",
       "      <th>3948</th>\n",
       "      <td>ffe810f4-1a1f-464b-924d-6f120b0cb8df</td>\n",
       "      <td>16</td>\n",
       "    </tr>\n",
       "    <tr>\n",
       "      <th>3949</th>\n",
       "      <td>ffef4fed-164c-40e1-bde1-3980f76d0fb5</td>\n",
       "      <td>9</td>\n",
       "    </tr>\n",
       "    <tr>\n",
       "      <th>3950</th>\n",
       "      <td>fffb626c-5ab6-47c9-8113-2062a2f18494</td>\n",
       "      <td>9</td>\n",
       "    </tr>\n",
       "  </tbody>\n",
       "</table>\n",
       "<p>3951 rows × 2 columns</p>\n",
       "</div>"
      ],
      "text/plain": [
       "                                   user_id  building_type\n",
       "0     001d39dc-366c-4021-9604-6a3b9ff01e25              8\n",
       "1     003ee7e8-6356-4286-a715-62f22a18d2a1              8\n",
       "2     004074f8-251a-4776-922c-8348dca1a2f6             12\n",
       "3     00464e5e-28ed-4be6-bf44-517ef7b3937b              8\n",
       "4     0056c007-c082-43cc-bdef-afc49bca4cb9              3\n",
       "...                                    ...            ...\n",
       "3946  ffc6f4fa-3476-47af-85cb-e2ee0551110a             13\n",
       "3947  ffd002f3-3545-423e-8dba-0c6a2d48a3aa              7\n",
       "3948  ffe810f4-1a1f-464b-924d-6f120b0cb8df             16\n",
       "3949  ffef4fed-164c-40e1-bde1-3980f76d0fb5              9\n",
       "3950  fffb626c-5ab6-47c9-8113-2062a2f18494              9\n",
       "\n",
       "[3951 rows x 2 columns]"
      ]
     },
     "execution_count": 53,
     "metadata": {},
     "output_type": "execute_result"
    }
   ],
   "source": [
    "mean_build_enemy = enemy.groupby('user_id')['building_type'].count().reset_index()\n",
    "mean_build_enemy"
   ]
  },
  {
   "cell_type": "markdown",
   "metadata": {},
   "source": [
    "    H0: Среднее кол-во построенных зданий для пользователей через проект = Среднее кол-во построенных зданий для пользователей через  убийство врага\n",
    "    H1: Среднее кол-во построенных зданий для пользователей через проект != Среднее кол-во построенных зданий для пользователей через убийство врага"
   ]
  },
  {
   "cell_type": "code",
   "execution_count": 54,
   "metadata": {},
   "outputs": [
    {
     "name": "stdout",
     "output_type": "stream",
     "text": [
      "Среднее кол-во построенных зданий для пользователей через проект:  12.64790996784566\n",
      "Среднее кол-во построенных зданий для пользователей через  убийство врага:  9.411541381928625\n",
      "p-значение: 0.0\n",
      "Разница Статистически Значима!\n"
     ]
    }
   ],
   "source": [
    "project_hyp_2 = mean_build_projects['building_type']\n",
    "enemy_hyp_2 = mean_build_enemy['building_type']\n",
    "\n",
    "print('Среднее кол-во построенных зданий для пользователей через проект: ',pd.Series(project_hyp_2).mean())\n",
    "print('Среднее кол-во построенных зданий для пользователей через  убийство врага: ',pd.Series(enemy_hyp_2).mean())\n",
    "\n",
    "alpha = 0.05 # возьме критический уровень статистической значимости 5%\n",
    "\n",
    "results = st.ttest_ind(project_hyp_2, enemy_hyp_2)\n",
    "print('p-значение:', results.pvalue)\n",
    "if results.pvalue < alpha: \n",
    "    print(\"Разница Статистически Значима!\")\n",
    "else:\n",
    "    print(\"РАЗЛИЧИЙ между временем прохождения Нету!\")"
   ]
  },
  {
   "cell_type": "markdown",
   "metadata": {},
   "source": [
    "Гипотеза потвердилась. Действительно, в зависимости от выбора стратегии пользователя игрок в среднем строит разное кол-во зданий. Получается, что показывать рекламу на моменте выбора постройки не очень хорошая идея."
   ]
  },
  {
   "cell_type": "markdown",
   "metadata": {},
   "source": [
    "    1.Можно показывать рекламу во время паузы. \n",
    "    2.Также можно показывать рекламу в виде баннеров -  прямоугольных объявлений, которые показываются в пустом пространстве в верхней или нижней части экрана. Их показываются прямо во время игры, но не мешают играть. \n",
    "    3.Еще можно подумать об обьявлениях с вознаграждениями - это объявления, с которыми пользователь взаимодействует, чтобы получить какие-либо бонусы в приложении, которые иначе доступны только за деньги. Объявления с вознаграждением могут быть в формате видео или интерактивной игры."
   ]
  },
  {
   "cell_type": "markdown",
   "metadata": {},
   "source": [
    "# Анализ бизнес показателей <a id=6></a> "
   ]
  },
  {
   "cell_type": "markdown",
   "metadata": {},
   "source": [
    "## Анализ затрат на привлечения клиентов (CAC)"
   ]
  },
  {
   "cell_type": "code",
   "execution_count": 55,
   "metadata": {},
   "outputs": [
    {
     "data": {
      "image/png": "[encoded data removed]",
      "text/plain": [
       "<Figure size 720x360 with 1 Axes>"
      ]
     },
     "metadata": {
      "needs_background": "light"
     },
     "output_type": "display_data"
    }
   ],
   "source": [
    "cost.pivot_table(\n",
    "    index='day', columns='source', values='cost', aggfunc='sum'\n",
    ").plot(grid=True, figsize=(10, 5))\n",
    "plt.ylabel('Расходы')\n",
    "plt.xlabel('Дата')\n",
    "plt.title('Динамика CAC по каналам привлечения')\n",
    "plt.show()"
   ]
  },
  {
   "cell_type": "markdown",
   "metadata": {},
   "source": [
    "По всем каналам расходы с каждым днем падали. Так как косты - это цена за клик, то это означает, что с каждым днем на рекламу кликало все меньше пользователей, если цена за клик не менялась."
   ]
  },
  {
   "cell_type": "code",
   "execution_count": 56,
   "metadata": {},
   "outputs": [
    {
     "data": {
      "text/html": [
       "<div>\n",
       "<style scoped>\n",
       "    .dataframe tbody tr th:only-of-type {\n",
       "        vertical-align: middle;\n",
       "    }\n",
       "\n",
       "    .dataframe tbody tr th {\n",
       "        vertical-align: top;\n",
       "    }\n",
       "\n",
       "    .dataframe thead th {\n",
       "        text-align: right;\n",
       "    }\n",
       "</style>\n",
       "<table border=\"1\" class=\"dataframe\">\n",
       "  <thead>\n",
       "    <tr style=\"text-align: right;\">\n",
       "      <th></th>\n",
       "      <th>event_datetime</th>\n",
       "      <th>event</th>\n",
       "      <th>building_type</th>\n",
       "      <th>user_id</th>\n",
       "      <th>project_type</th>\n",
       "      <th>building</th>\n",
       "      <th>finished_stage_1</th>\n",
       "      <th>project</th>\n",
       "      <th>source</th>\n",
       "    </tr>\n",
       "  </thead>\n",
       "  <tbody>\n",
       "    <tr>\n",
       "      <th>0</th>\n",
       "      <td>2020-05-04</td>\n",
       "      <td>building</td>\n",
       "      <td>assembly_shop</td>\n",
       "      <td>55e92310-cb8e-4754-b622-597e124b03de</td>\n",
       "      <td>NaN</td>\n",
       "      <td></td>\n",
       "      <td>NaN</td>\n",
       "      <td>NaN</td>\n",
       "      <td>youtube_channel_reklama</td>\n",
       "    </tr>\n",
       "    <tr>\n",
       "      <th>1</th>\n",
       "      <td>2020-05-05</td>\n",
       "      <td>building</td>\n",
       "      <td>assembly_shop</td>\n",
       "      <td>55e92310-cb8e-4754-b622-597e124b03de</td>\n",
       "      <td>NaN</td>\n",
       "      <td></td>\n",
       "      <td>NaN</td>\n",
       "      <td>NaN</td>\n",
       "      <td>youtube_channel_reklama</td>\n",
       "    </tr>\n",
       "    <tr>\n",
       "      <th>2</th>\n",
       "      <td>2020-05-05</td>\n",
       "      <td>building</td>\n",
       "      <td>assembly_shop</td>\n",
       "      <td>55e92310-cb8e-4754-b622-597e124b03de</td>\n",
       "      <td>NaN</td>\n",
       "      <td></td>\n",
       "      <td>NaN</td>\n",
       "      <td>NaN</td>\n",
       "      <td>youtube_channel_reklama</td>\n",
       "    </tr>\n",
       "    <tr>\n",
       "      <th>3</th>\n",
       "      <td>2020-05-05</td>\n",
       "      <td>building</td>\n",
       "      <td>assembly_shop</td>\n",
       "      <td>55e92310-cb8e-4754-b622-597e124b03de</td>\n",
       "      <td>NaN</td>\n",
       "      <td></td>\n",
       "      <td>NaN</td>\n",
       "      <td>NaN</td>\n",
       "      <td>youtube_channel_reklama</td>\n",
       "    </tr>\n",
       "    <tr>\n",
       "      <th>4</th>\n",
       "      <td>2020-05-06</td>\n",
       "      <td>building</td>\n",
       "      <td>assembly_shop</td>\n",
       "      <td>55e92310-cb8e-4754-b622-597e124b03de</td>\n",
       "      <td>NaN</td>\n",
       "      <td></td>\n",
       "      <td>NaN</td>\n",
       "      <td>NaN</td>\n",
       "      <td>youtube_channel_reklama</td>\n",
       "    </tr>\n",
       "  </tbody>\n",
       "</table>\n",
       "</div>"
      ],
      "text/plain": [
       "  event_datetime     event  building_type  \\\n",
       "0     2020-05-04  building  assembly_shop   \n",
       "1     2020-05-05  building  assembly_shop   \n",
       "2     2020-05-05  building  assembly_shop   \n",
       "3     2020-05-05  building  assembly_shop   \n",
       "4     2020-05-06  building  assembly_shop   \n",
       "\n",
       "                                user_id project_type building  \\\n",
       "0  55e92310-cb8e-4754-b622-597e124b03de          NaN            \n",
       "1  55e92310-cb8e-4754-b622-597e124b03de          NaN            \n",
       "2  55e92310-cb8e-4754-b622-597e124b03de          NaN            \n",
       "3  55e92310-cb8e-4754-b622-597e124b03de          NaN            \n",
       "4  55e92310-cb8e-4754-b622-597e124b03de          NaN            \n",
       "\n",
       "  finished_stage_1 project                   source  \n",
       "0              NaN     NaN  youtube_channel_reklama  \n",
       "1              NaN     NaN  youtube_channel_reklama  \n",
       "2              NaN     NaN  youtube_channel_reklama  \n",
       "3              NaN     NaN  youtube_channel_reklama  \n",
       "4              NaN     NaN  youtube_channel_reklama  "
      ]
     },
     "execution_count": 56,
     "metadata": {},
     "output_type": "execute_result"
    }
   ],
   "source": [
    "buildings = actions.query('event !=\"finished_stage_1\" and event !=\"project\"')\n",
    "buildings.head()"
   ]
  },
  {
   "cell_type": "code",
   "execution_count": 57,
   "metadata": {},
   "outputs": [
    {
     "data": {
      "text/html": [
       "<div>\n",
       "<style scoped>\n",
       "    .dataframe tbody tr th:only-of-type {\n",
       "        vertical-align: middle;\n",
       "    }\n",
       "\n",
       "    .dataframe tbody tr th {\n",
       "        vertical-align: top;\n",
       "    }\n",
       "\n",
       "    .dataframe thead th {\n",
       "        text-align: right;\n",
       "    }\n",
       "</style>\n",
       "<table border=\"1\" class=\"dataframe\">\n",
       "  <thead>\n",
       "    <tr style=\"text-align: right;\">\n",
       "      <th></th>\n",
       "      <th>event_datetime</th>\n",
       "      <th>event</th>\n",
       "      <th>building_type</th>\n",
       "      <th>user_id</th>\n",
       "      <th>project_type</th>\n",
       "      <th>building</th>\n",
       "      <th>finished_stage_1</th>\n",
       "      <th>project</th>\n",
       "      <th>source</th>\n",
       "    </tr>\n",
       "  </thead>\n",
       "  <tbody>\n",
       "    <tr>\n",
       "      <th>17</th>\n",
       "      <td>2020-05-13</td>\n",
       "      <td>project</td>\n",
       "      <td>NaN</td>\n",
       "      <td>c07b1c10-f477-44dc-81dc-ec82254b1347</td>\n",
       "      <td>satellite_orbital_assembly</td>\n",
       "      <td>NaN</td>\n",
       "      <td>NaN</td>\n",
       "      <td></td>\n",
       "      <td>facebook_ads</td>\n",
       "    </tr>\n",
       "    <tr>\n",
       "      <th>19</th>\n",
       "      <td>2020-05-15</td>\n",
       "      <td>finished_stage_1</td>\n",
       "      <td>NaN</td>\n",
       "      <td>c07b1c10-f477-44dc-81dc-ec82254b1347</td>\n",
       "      <td>NaN</td>\n",
       "      <td>NaN</td>\n",
       "      <td></td>\n",
       "      <td>NaN</td>\n",
       "      <td>facebook_ads</td>\n",
       "    </tr>\n",
       "    <tr>\n",
       "      <th>32</th>\n",
       "      <td>2020-05-16</td>\n",
       "      <td>finished_stage_1</td>\n",
       "      <td>NaN</td>\n",
       "      <td>6edd42cc-e753-4ff6-a947-2107cd560710</td>\n",
       "      <td>NaN</td>\n",
       "      <td>NaN</td>\n",
       "      <td></td>\n",
       "      <td>NaN</td>\n",
       "      <td>instagram_new_adverts</td>\n",
       "    </tr>\n",
       "    <tr>\n",
       "      <th>49</th>\n",
       "      <td>2020-05-11</td>\n",
       "      <td>finished_stage_1</td>\n",
       "      <td>NaN</td>\n",
       "      <td>cdc6bb92-0ccb-4490-9866-ef142f09139d</td>\n",
       "      <td>NaN</td>\n",
       "      <td>NaN</td>\n",
       "      <td></td>\n",
       "      <td>NaN</td>\n",
       "      <td>yandex_direct</td>\n",
       "    </tr>\n",
       "    <tr>\n",
       "      <th>73</th>\n",
       "      <td>2020-05-16</td>\n",
       "      <td>finished_stage_1</td>\n",
       "      <td>NaN</td>\n",
       "      <td>4fe0f101-694b-4e31-9740-d1d87f7208ea</td>\n",
       "      <td>NaN</td>\n",
       "      <td>NaN</td>\n",
       "      <td></td>\n",
       "      <td>NaN</td>\n",
       "      <td>facebook_ads</td>\n",
       "    </tr>\n",
       "  </tbody>\n",
       "</table>\n",
       "</div>"
      ],
      "text/plain": [
       "   event_datetime             event building_type  \\\n",
       "17     2020-05-13           project           NaN   \n",
       "19     2020-05-15  finished_stage_1           NaN   \n",
       "32     2020-05-16  finished_stage_1           NaN   \n",
       "49     2020-05-11  finished_stage_1           NaN   \n",
       "73     2020-05-16  finished_stage_1           NaN   \n",
       "\n",
       "                                 user_id                project_type building  \\\n",
       "17  c07b1c10-f477-44dc-81dc-ec82254b1347  satellite_orbital_assembly      NaN   \n",
       "19  c07b1c10-f477-44dc-81dc-ec82254b1347                         NaN      NaN   \n",
       "32  6edd42cc-e753-4ff6-a947-2107cd560710                         NaN      NaN   \n",
       "49  cdc6bb92-0ccb-4490-9866-ef142f09139d                         NaN      NaN   \n",
       "73  4fe0f101-694b-4e31-9740-d1d87f7208ea                         NaN      NaN   \n",
       "\n",
       "   finished_stage_1 project                 source  \n",
       "17              NaN                   facebook_ads  \n",
       "19                      NaN           facebook_ads  \n",
       "32                      NaN  instagram_new_adverts  \n",
       "49                      NaN          yandex_direct  \n",
       "73                      NaN           facebook_ads  "
      ]
     },
     "execution_count": 57,
     "metadata": {},
     "output_type": "execute_result"
    }
   ],
   "source": [
    "finish = actions.query('event !=\"building\"')\n",
    "finish.head()"
   ]
  },
  {
   "cell_type": "code",
   "execution_count": 58,
   "metadata": {},
   "outputs": [],
   "source": [
    "buildings['revenue'] = 0.07"
   ]
  },
  {
   "cell_type": "code",
   "execution_count": 59,
   "metadata": {
    "scrolled": true
   },
   "outputs": [
    {
     "data": {
      "text/html": [
       "<div>\n",
       "<style scoped>\n",
       "    .dataframe tbody tr th:only-of-type {\n",
       "        vertical-align: middle;\n",
       "    }\n",
       "\n",
       "    .dataframe tbody tr th {\n",
       "        vertical-align: top;\n",
       "    }\n",
       "\n",
       "    .dataframe thead th {\n",
       "        text-align: right;\n",
       "    }\n",
       "</style>\n",
       "<table border=\"1\" class=\"dataframe\">\n",
       "  <thead>\n",
       "    <tr style=\"text-align: right;\">\n",
       "      <th></th>\n",
       "      <th>event_datetime</th>\n",
       "      <th>event</th>\n",
       "      <th>building_type</th>\n",
       "      <th>user_id</th>\n",
       "      <th>project_type</th>\n",
       "      <th>building</th>\n",
       "      <th>finished_stage_1</th>\n",
       "      <th>project</th>\n",
       "      <th>source</th>\n",
       "      <th>revenue</th>\n",
       "    </tr>\n",
       "  </thead>\n",
       "  <tbody>\n",
       "    <tr>\n",
       "      <th>0</th>\n",
       "      <td>2020-05-04</td>\n",
       "      <td>building</td>\n",
       "      <td>assembly_shop</td>\n",
       "      <td>55e92310-cb8e-4754-b622-597e124b03de</td>\n",
       "      <td>NaN</td>\n",
       "      <td></td>\n",
       "      <td>NaN</td>\n",
       "      <td>NaN</td>\n",
       "      <td>youtube_channel_reklama</td>\n",
       "      <td>0.07</td>\n",
       "    </tr>\n",
       "    <tr>\n",
       "      <th>1</th>\n",
       "      <td>2020-05-05</td>\n",
       "      <td>building</td>\n",
       "      <td>assembly_shop</td>\n",
       "      <td>55e92310-cb8e-4754-b622-597e124b03de</td>\n",
       "      <td>NaN</td>\n",
       "      <td></td>\n",
       "      <td>NaN</td>\n",
       "      <td>NaN</td>\n",
       "      <td>youtube_channel_reklama</td>\n",
       "      <td>0.07</td>\n",
       "    </tr>\n",
       "    <tr>\n",
       "      <th>2</th>\n",
       "      <td>2020-05-05</td>\n",
       "      <td>building</td>\n",
       "      <td>assembly_shop</td>\n",
       "      <td>55e92310-cb8e-4754-b622-597e124b03de</td>\n",
       "      <td>NaN</td>\n",
       "      <td></td>\n",
       "      <td>NaN</td>\n",
       "      <td>NaN</td>\n",
       "      <td>youtube_channel_reklama</td>\n",
       "      <td>0.07</td>\n",
       "    </tr>\n",
       "    <tr>\n",
       "      <th>3</th>\n",
       "      <td>2020-05-05</td>\n",
       "      <td>building</td>\n",
       "      <td>assembly_shop</td>\n",
       "      <td>55e92310-cb8e-4754-b622-597e124b03de</td>\n",
       "      <td>NaN</td>\n",
       "      <td></td>\n",
       "      <td>NaN</td>\n",
       "      <td>NaN</td>\n",
       "      <td>youtube_channel_reklama</td>\n",
       "      <td>0.07</td>\n",
       "    </tr>\n",
       "    <tr>\n",
       "      <th>4</th>\n",
       "      <td>2020-05-06</td>\n",
       "      <td>building</td>\n",
       "      <td>assembly_shop</td>\n",
       "      <td>55e92310-cb8e-4754-b622-597e124b03de</td>\n",
       "      <td>NaN</td>\n",
       "      <td></td>\n",
       "      <td>NaN</td>\n",
       "      <td>NaN</td>\n",
       "      <td>youtube_channel_reklama</td>\n",
       "      <td>0.07</td>\n",
       "    </tr>\n",
       "    <tr>\n",
       "      <th>...</th>\n",
       "      <td>...</td>\n",
       "      <td>...</td>\n",
       "      <td>...</td>\n",
       "      <td>...</td>\n",
       "      <td>...</td>\n",
       "      <td>...</td>\n",
       "      <td>...</td>\n",
       "      <td>...</td>\n",
       "      <td>...</td>\n",
       "      <td>...</td>\n",
       "    </tr>\n",
       "    <tr>\n",
       "      <th>135634</th>\n",
       "      <td>2020-05-13</td>\n",
       "      <td>building</td>\n",
       "      <td>spaceport</td>\n",
       "      <td>cafd1b8b-507b-49ae-abf0-89fe863a8b03</td>\n",
       "      <td>NaN</td>\n",
       "      <td></td>\n",
       "      <td>NaN</td>\n",
       "      <td>NaN</td>\n",
       "      <td>facebook_ads</td>\n",
       "      <td>0.07</td>\n",
       "    </tr>\n",
       "    <tr>\n",
       "      <th>135635</th>\n",
       "      <td>2020-05-18</td>\n",
       "      <td>building</td>\n",
       "      <td>spaceport</td>\n",
       "      <td>cafd1b8b-507b-49ae-abf0-89fe863a8b03</td>\n",
       "      <td>NaN</td>\n",
       "      <td></td>\n",
       "      <td>NaN</td>\n",
       "      <td>NaN</td>\n",
       "      <td>facebook_ads</td>\n",
       "      <td>0.07</td>\n",
       "    </tr>\n",
       "    <tr>\n",
       "      <th>135636</th>\n",
       "      <td>2020-05-10</td>\n",
       "      <td>building</td>\n",
       "      <td>assembly_shop</td>\n",
       "      <td>bdc53e19-462a-4dc3-8b55-b4a34278af6a</td>\n",
       "      <td>NaN</td>\n",
       "      <td></td>\n",
       "      <td>NaN</td>\n",
       "      <td>NaN</td>\n",
       "      <td>youtube_channel_reklama</td>\n",
       "      <td>0.07</td>\n",
       "    </tr>\n",
       "    <tr>\n",
       "      <th>135637</th>\n",
       "      <td>2020-05-13</td>\n",
       "      <td>building</td>\n",
       "      <td>spaceport</td>\n",
       "      <td>bdc53e19-462a-4dc3-8b55-b4a34278af6a</td>\n",
       "      <td>NaN</td>\n",
       "      <td></td>\n",
       "      <td>NaN</td>\n",
       "      <td>NaN</td>\n",
       "      <td>youtube_channel_reklama</td>\n",
       "      <td>0.07</td>\n",
       "    </tr>\n",
       "    <tr>\n",
       "      <th>135638</th>\n",
       "      <td>2020-05-18</td>\n",
       "      <td>building</td>\n",
       "      <td>spaceport</td>\n",
       "      <td>bdc53e19-462a-4dc3-8b55-b4a34278af6a</td>\n",
       "      <td>NaN</td>\n",
       "      <td></td>\n",
       "      <td>NaN</td>\n",
       "      <td>NaN</td>\n",
       "      <td>youtube_channel_reklama</td>\n",
       "      <td>0.07</td>\n",
       "    </tr>\n",
       "  </tbody>\n",
       "</table>\n",
       "<p>127956 rows × 10 columns</p>\n",
       "</div>"
      ],
      "text/plain": [
       "       event_datetime     event  building_type  \\\n",
       "0          2020-05-04  building  assembly_shop   \n",
       "1          2020-05-05  building  assembly_shop   \n",
       "2          2020-05-05  building  assembly_shop   \n",
       "3          2020-05-05  building  assembly_shop   \n",
       "4          2020-05-06  building  assembly_shop   \n",
       "...               ...       ...            ...   \n",
       "135634     2020-05-13  building      spaceport   \n",
       "135635     2020-05-18  building      spaceport   \n",
       "135636     2020-05-10  building  assembly_shop   \n",
       "135637     2020-05-13  building      spaceport   \n",
       "135638     2020-05-18  building      spaceport   \n",
       "\n",
       "                                     user_id project_type building  \\\n",
       "0       55e92310-cb8e-4754-b622-597e124b03de          NaN            \n",
       "1       55e92310-cb8e-4754-b622-597e124b03de          NaN            \n",
       "2       55e92310-cb8e-4754-b622-597e124b03de          NaN            \n",
       "3       55e92310-cb8e-4754-b622-597e124b03de          NaN            \n",
       "4       55e92310-cb8e-4754-b622-597e124b03de          NaN            \n",
       "...                                      ...          ...      ...   \n",
       "135634  cafd1b8b-507b-49ae-abf0-89fe863a8b03          NaN            \n",
       "135635  cafd1b8b-507b-49ae-abf0-89fe863a8b03          NaN            \n",
       "135636  bdc53e19-462a-4dc3-8b55-b4a34278af6a          NaN            \n",
       "135637  bdc53e19-462a-4dc3-8b55-b4a34278af6a          NaN            \n",
       "135638  bdc53e19-462a-4dc3-8b55-b4a34278af6a          NaN            \n",
       "\n",
       "       finished_stage_1 project                   source  revenue  \n",
       "0                   NaN     NaN  youtube_channel_reklama     0.07  \n",
       "1                   NaN     NaN  youtube_channel_reklama     0.07  \n",
       "2                   NaN     NaN  youtube_channel_reklama     0.07  \n",
       "3                   NaN     NaN  youtube_channel_reklama     0.07  \n",
       "4                   NaN     NaN  youtube_channel_reklama     0.07  \n",
       "...                 ...     ...                      ...      ...  \n",
       "135634              NaN     NaN             facebook_ads     0.07  \n",
       "135635              NaN     NaN             facebook_ads     0.07  \n",
       "135636              NaN     NaN  youtube_channel_reklama     0.07  \n",
       "135637              NaN     NaN  youtube_channel_reklama     0.07  \n",
       "135638              NaN     NaN  youtube_channel_reklama     0.07  \n",
       "\n",
       "[127956 rows x 10 columns]"
      ]
     },
     "execution_count": 59,
     "metadata": {},
     "output_type": "execute_result"
    }
   ],
   "source": [
    "buildings"
   ]
  },
  {
   "cell_type": "code",
   "execution_count": 60,
   "metadata": {},
   "outputs": [
    {
     "data": {
      "text/html": [
       "<div>\n",
       "<style scoped>\n",
       "    .dataframe tbody tr th:only-of-type {\n",
       "        vertical-align: middle;\n",
       "    }\n",
       "\n",
       "    .dataframe tbody tr th {\n",
       "        vertical-align: top;\n",
       "    }\n",
       "\n",
       "    .dataframe thead th {\n",
       "        text-align: right;\n",
       "    }\n",
       "</style>\n",
       "<table border=\"1\" class=\"dataframe\">\n",
       "  <thead>\n",
       "    <tr style=\"text-align: right;\">\n",
       "      <th></th>\n",
       "      <th>event_datetime</th>\n",
       "      <th>event</th>\n",
       "      <th>building_type</th>\n",
       "      <th>user_id</th>\n",
       "      <th>project_type</th>\n",
       "      <th>building</th>\n",
       "      <th>finished_stage_1</th>\n",
       "      <th>project</th>\n",
       "      <th>source</th>\n",
       "      <th>revenue</th>\n",
       "    </tr>\n",
       "  </thead>\n",
       "  <tbody>\n",
       "    <tr>\n",
       "      <th>0</th>\n",
       "      <td>2020-05-04</td>\n",
       "      <td>building</td>\n",
       "      <td>assembly_shop</td>\n",
       "      <td>55e92310-cb8e-4754-b622-597e124b03de</td>\n",
       "      <td>NaN</td>\n",
       "      <td></td>\n",
       "      <td>NaN</td>\n",
       "      <td>NaN</td>\n",
       "      <td>youtube_channel_reklama</td>\n",
       "      <td>0.07</td>\n",
       "    </tr>\n",
       "    <tr>\n",
       "      <th>1</th>\n",
       "      <td>2020-05-05</td>\n",
       "      <td>building</td>\n",
       "      <td>assembly_shop</td>\n",
       "      <td>55e92310-cb8e-4754-b622-597e124b03de</td>\n",
       "      <td>NaN</td>\n",
       "      <td></td>\n",
       "      <td>NaN</td>\n",
       "      <td>NaN</td>\n",
       "      <td>youtube_channel_reklama</td>\n",
       "      <td>0.07</td>\n",
       "    </tr>\n",
       "    <tr>\n",
       "      <th>2</th>\n",
       "      <td>2020-05-05</td>\n",
       "      <td>building</td>\n",
       "      <td>assembly_shop</td>\n",
       "      <td>55e92310-cb8e-4754-b622-597e124b03de</td>\n",
       "      <td>NaN</td>\n",
       "      <td></td>\n",
       "      <td>NaN</td>\n",
       "      <td>NaN</td>\n",
       "      <td>youtube_channel_reklama</td>\n",
       "      <td>0.07</td>\n",
       "    </tr>\n",
       "    <tr>\n",
       "      <th>3</th>\n",
       "      <td>2020-05-05</td>\n",
       "      <td>building</td>\n",
       "      <td>assembly_shop</td>\n",
       "      <td>55e92310-cb8e-4754-b622-597e124b03de</td>\n",
       "      <td>NaN</td>\n",
       "      <td></td>\n",
       "      <td>NaN</td>\n",
       "      <td>NaN</td>\n",
       "      <td>youtube_channel_reklama</td>\n",
       "      <td>0.07</td>\n",
       "    </tr>\n",
       "    <tr>\n",
       "      <th>4</th>\n",
       "      <td>2020-05-06</td>\n",
       "      <td>building</td>\n",
       "      <td>assembly_shop</td>\n",
       "      <td>55e92310-cb8e-4754-b622-597e124b03de</td>\n",
       "      <td>NaN</td>\n",
       "      <td></td>\n",
       "      <td>NaN</td>\n",
       "      <td>NaN</td>\n",
       "      <td>youtube_channel_reklama</td>\n",
       "      <td>0.07</td>\n",
       "    </tr>\n",
       "    <tr>\n",
       "      <th>...</th>\n",
       "      <td>...</td>\n",
       "      <td>...</td>\n",
       "      <td>...</td>\n",
       "      <td>...</td>\n",
       "      <td>...</td>\n",
       "      <td>...</td>\n",
       "      <td>...</td>\n",
       "      <td>...</td>\n",
       "      <td>...</td>\n",
       "      <td>...</td>\n",
       "    </tr>\n",
       "    <tr>\n",
       "      <th>135534</th>\n",
       "      <td>2020-05-27</td>\n",
       "      <td>finished_stage_1</td>\n",
       "      <td>NaN</td>\n",
       "      <td>825e727b-7847-4c5f-a26c-3ee0f18d8177</td>\n",
       "      <td>NaN</td>\n",
       "      <td>NaN</td>\n",
       "      <td></td>\n",
       "      <td>NaN</td>\n",
       "      <td>youtube_channel_reklama</td>\n",
       "      <td>NaN</td>\n",
       "    </tr>\n",
       "    <tr>\n",
       "      <th>135586</th>\n",
       "      <td>2020-06-01</td>\n",
       "      <td>project</td>\n",
       "      <td>NaN</td>\n",
       "      <td>637a8d39-3872-4549-80cc-bebee6c88056</td>\n",
       "      <td>satellite_orbital_assembly</td>\n",
       "      <td>NaN</td>\n",
       "      <td>NaN</td>\n",
       "      <td></td>\n",
       "      <td>yandex_direct</td>\n",
       "      <td>NaN</td>\n",
       "    </tr>\n",
       "    <tr>\n",
       "      <th>135587</th>\n",
       "      <td>2020-06-02</td>\n",
       "      <td>finished_stage_1</td>\n",
       "      <td>NaN</td>\n",
       "      <td>637a8d39-3872-4549-80cc-bebee6c88056</td>\n",
       "      <td>NaN</td>\n",
       "      <td>NaN</td>\n",
       "      <td></td>\n",
       "      <td>NaN</td>\n",
       "      <td>yandex_direct</td>\n",
       "      <td>NaN</td>\n",
       "    </tr>\n",
       "    <tr>\n",
       "      <th>135609</th>\n",
       "      <td>2020-05-26</td>\n",
       "      <td>finished_stage_1</td>\n",
       "      <td>NaN</td>\n",
       "      <td>0d37a895-ee0f-4e36-aadb-880cef670f0b</td>\n",
       "      <td>NaN</td>\n",
       "      <td>NaN</td>\n",
       "      <td></td>\n",
       "      <td>NaN</td>\n",
       "      <td>yandex_direct</td>\n",
       "      <td>NaN</td>\n",
       "    </tr>\n",
       "    <tr>\n",
       "      <th>135620</th>\n",
       "      <td>2020-05-31</td>\n",
       "      <td>finished_stage_1</td>\n",
       "      <td>NaN</td>\n",
       "      <td>20bc9d79-10c4-4f2d-862e-4a6dece3b4ec</td>\n",
       "      <td>NaN</td>\n",
       "      <td>NaN</td>\n",
       "      <td></td>\n",
       "      <td>NaN</td>\n",
       "      <td>youtube_channel_reklama</td>\n",
       "      <td>NaN</td>\n",
       "    </tr>\n",
       "  </tbody>\n",
       "</table>\n",
       "<p>135639 rows × 10 columns</p>\n",
       "</div>"
      ],
      "text/plain": [
       "       event_datetime             event  building_type  \\\n",
       "0          2020-05-04          building  assembly_shop   \n",
       "1          2020-05-05          building  assembly_shop   \n",
       "2          2020-05-05          building  assembly_shop   \n",
       "3          2020-05-05          building  assembly_shop   \n",
       "4          2020-05-06          building  assembly_shop   \n",
       "...               ...               ...            ...   \n",
       "135534     2020-05-27  finished_stage_1            NaN   \n",
       "135586     2020-06-01           project            NaN   \n",
       "135587     2020-06-02  finished_stage_1            NaN   \n",
       "135609     2020-05-26  finished_stage_1            NaN   \n",
       "135620     2020-05-31  finished_stage_1            NaN   \n",
       "\n",
       "                                     user_id                project_type  \\\n",
       "0       55e92310-cb8e-4754-b622-597e124b03de                         NaN   \n",
       "1       55e92310-cb8e-4754-b622-597e124b03de                         NaN   \n",
       "2       55e92310-cb8e-4754-b622-597e124b03de                         NaN   \n",
       "3       55e92310-cb8e-4754-b622-597e124b03de                         NaN   \n",
       "4       55e92310-cb8e-4754-b622-597e124b03de                         NaN   \n",
       "...                                      ...                         ...   \n",
       "135534  825e727b-7847-4c5f-a26c-3ee0f18d8177                         NaN   \n",
       "135586  637a8d39-3872-4549-80cc-bebee6c88056  satellite_orbital_assembly   \n",
       "135587  637a8d39-3872-4549-80cc-bebee6c88056                         NaN   \n",
       "135609  0d37a895-ee0f-4e36-aadb-880cef670f0b                         NaN   \n",
       "135620  20bc9d79-10c4-4f2d-862e-4a6dece3b4ec                         NaN   \n",
       "\n",
       "       building finished_stage_1 project                   source  revenue  \n",
       "0                            NaN     NaN  youtube_channel_reklama     0.07  \n",
       "1                            NaN     NaN  youtube_channel_reklama     0.07  \n",
       "2                            NaN     NaN  youtube_channel_reklama     0.07  \n",
       "3                            NaN     NaN  youtube_channel_reklama     0.07  \n",
       "4                            NaN     NaN  youtube_channel_reklama     0.07  \n",
       "...         ...              ...     ...                      ...      ...  \n",
       "135534      NaN                      NaN  youtube_channel_reklama      NaN  \n",
       "135586      NaN              NaN                    yandex_direct      NaN  \n",
       "135587      NaN                      NaN            yandex_direct      NaN  \n",
       "135609      NaN                      NaN            yandex_direct      NaN  \n",
       "135620      NaN                      NaN  youtube_channel_reklama      NaN  \n",
       "\n",
       "[135639 rows x 10 columns]"
      ]
     },
     "execution_count": 60,
     "metadata": {},
     "output_type": "execute_result"
    }
   ],
   "source": [
    "rev = pd.concat([buildings, finish])\n",
    "rev"
   ]
  },
  {
   "cell_type": "code",
   "execution_count": 61,
   "metadata": {
    "scrolled": false
   },
   "outputs": [
    {
     "data": {
      "image/png": "[encoded data removed]",
      "text/plain": [
       "<Figure size 720x360 with 1 Axes>"
      ]
     },
     "metadata": {
      "needs_background": "light"
     },
     "output_type": "display_data"
    }
   ],
   "source": [
    "rev.pivot_table(\n",
    "    index='event_datetime', values='revenue', aggfunc='mean'\n",
    ").plot(grid=True, figsize=(10, 5))\n",
    "plt.ylabel('LTV')\n",
    "plt.xlabel('Дата')\n",
    "plt.title('Динамика LTV')\n",
    "plt.show()"
   ]
  },
  {
   "cell_type": "markdown",
   "metadata": {},
   "source": [
    "За первые 4 дня есть очень польшой скачок, а затем резкий спад. Как я уже препологал, пользователи могут со временем строить меньше зданий из-за разных причин. Это не хорошо, когда LTV настолько нестабильный. Это еще раз говорит нам о том, что показ рекламы на выборе типа постройки не лучшая идея."
   ]
  },
  {
   "cell_type": "markdown",
   "metadata": {},
   "source": [
    "# Доработка"
   ]
  },
  {
   "cell_type": "code",
   "execution_count": 62,
   "metadata": {},
   "outputs": [],
   "source": [
    "rev['event_datetime'] = pd.to_datetime(rev['event_datetime'])"
   ]
  },
  {
   "cell_type": "code",
   "execution_count": 63,
   "metadata": {},
   "outputs": [
    {
     "name": "stdout",
     "output_type": "stream",
     "text": [
      "Среднее кол-во построенных зданий за 1 день: 1.39419795221843\n"
     ]
    }
   ],
   "source": [
    "first_day = rev.query('event_datetime == \"2020-05-04\"')\n",
    "first_day_users = first_day.groupby('user_id')['building_type'].count().to_frame().reset_index()\n",
    "first_day_users = first_day_users.query('building_type!=0')\n",
    "print('Среднее кол-во построенных зданий за 1 день:', first_day_users['building_type'].mean())"
   ]
  },
  {
   "cell_type": "code",
   "execution_count": 64,
   "metadata": {},
   "outputs": [
    {
     "name": "stdout",
     "output_type": "stream",
     "text": [
      "Среднее кол-во построенных зданий за 2 день: 1.4185864284594891\n"
     ]
    }
   ],
   "source": [
    "second_day = rev.query('event_datetime == \"2020-05-05\"')\n",
    "second_day_users = second_day.groupby('user_id')['building_type'].count().to_frame().reset_index()\n",
    "second_day_users = second_day_users.query('building_type!=0')\n",
    "print('Среднее кол-во построенных зданий за 2 день:', second_day_users['building_type'].mean())"
   ]
  },
  {
   "cell_type": "code",
   "execution_count": 65,
   "metadata": {},
   "outputs": [
    {
     "name": "stdout",
     "output_type": "stream",
     "text": [
      "Среднее кол-во построенных зданий за 3 день: 1.4476871443163577\n"
     ]
    }
   ],
   "source": [
    "third_day = rev.query('event_datetime == \"2020-05-06\"')\n",
    "third_day_users = third_day.groupby('user_id')['building_type'].count().to_frame().reset_index()\n",
    "third_day_users = third_day_users.query('building_type!=0')\n",
    "print('Среднее кол-во построенных зданий за 3 день:', third_day_users['building_type'].mean())"
   ]
  },
  {
   "cell_type": "markdown",
   "metadata": {},
   "source": [
    "# Вывод\n"
   ]
  },
  {
   "cell_type": "markdown",
   "metadata": {},
   "source": [
    "Исходя из проведенного исследования можно представить такие утверждения:\n",
    "        \n",
    "      1. Большинство пользователей проходит игру за 11-13 дней.\n",
    "      2. За первые 5 дней игры пользователи в среднем строят больше зданий.\n",
    "      3. Больше всего пользователей пришло с рекламы Яндекс Директа.\n",
    "      4. Была потверждена гипотеза о различии время прохождения уровня в зависимости от выбора стратегии игрока.\n",
    "      5. Была потверждена гипотеза о разнице кол-ва построенных зданий в зависимости от выбора стратегии игрока.\n",
    "      6. График динамики расходов по каналам привлечения монотонно убывает.\n",
    "      7. LTV получился нестабильный."
   ]
  },
  {
   "cell_type": "markdown",
   "metadata": {},
   "source": [
    "Из-чего можно сделать вывод, что  медлить с запуском рекламы нельзя, ведь тогда мы потеряем большое кол-во выручки. Пользователи в среднем строят 1-2 здания в день и проходят уровень за 11-13 дней. Поэтому я рекомендовал бы интегрировать рекламу после 3 постройки пользователя. То-есть в среднем реклама будет начинаться ему показываться на следующий день. Тем самым, мы дадим пользователю привыкнуть к интерфейсу игры и не потеряем большую часть выручки."
   ]
  },
  {
   "cell_type": "markdown",
   "metadata": {},
   "source": [
    "Также допом можно вставить рекламу ввида обьявлений с вознаграждениями. Это видеореклама, за просмотр которой пользователь получает награду: оснащение для героев, игровые бонусы или жизни, подсказки, виртуальную валюту и другие. Люди будут получать бонусы за просмотр рекламы, а в играх это очень важно. Мотивация просмотреть рекламу до конца в разы возрастает."
   ]
  }
 ],
 "metadata": {
  "ExecuteTimeLog": [
   {
    "duration": 1521,
    "start_time": "2022-10-04T08:54:59.717Z"
   },
   {
    "duration": 165,
    "start_time": "2022-10-04T08:55:01.240Z"
   },
   {
    "duration": 0,
    "start_time": "2022-10-04T08:55:01.407Z"
   },
   {
    "duration": 0,
    "start_time": "2022-10-04T08:55:01.409Z"
   },
   {
    "duration": 0,
    "start_time": "2022-10-04T08:55:01.410Z"
   },
   {
    "duration": 0,
    "start_time": "2022-10-04T08:55:01.411Z"
   },
   {
    "duration": 0,
    "start_time": "2022-10-04T08:55:01.413Z"
   },
   {
    "duration": 0,
    "start_time": "2022-10-04T08:55:01.414Z"
   },
   {
    "duration": 0,
    "start_time": "2022-10-04T08:55:01.415Z"
   },
   {
    "duration": 0,
    "start_time": "2022-10-04T08:55:01.416Z"
   },
   {
    "duration": 0,
    "start_time": "2022-10-04T08:55:01.417Z"
   },
   {
    "duration": 0,
    "start_time": "2022-10-04T08:55:01.419Z"
   },
   {
    "duration": 0,
    "start_time": "2022-10-04T08:55:01.420Z"
   },
   {
    "duration": 0,
    "start_time": "2022-10-04T08:55:01.421Z"
   },
   {
    "duration": 0,
    "start_time": "2022-10-04T08:55:01.422Z"
   },
   {
    "duration": 0,
    "start_time": "2022-10-04T08:55:01.423Z"
   },
   {
    "duration": 0,
    "start_time": "2022-10-04T08:55:01.424Z"
   },
   {
    "duration": 0,
    "start_time": "2022-10-04T08:55:01.425Z"
   },
   {
    "duration": 0,
    "start_time": "2022-10-04T08:55:01.454Z"
   },
   {
    "duration": 0,
    "start_time": "2022-10-04T08:55:01.457Z"
   },
   {
    "duration": 0,
    "start_time": "2022-10-04T08:55:01.459Z"
   },
   {
    "duration": 0,
    "start_time": "2022-10-04T08:55:01.461Z"
   },
   {
    "duration": 0,
    "start_time": "2022-10-04T08:55:01.463Z"
   },
   {
    "duration": 1,
    "start_time": "2022-10-04T08:55:01.464Z"
   },
   {
    "duration": 0,
    "start_time": "2022-10-04T08:55:01.466Z"
   },
   {
    "duration": 0,
    "start_time": "2022-10-04T08:55:01.469Z"
   },
   {
    "duration": 0,
    "start_time": "2022-10-04T08:55:01.471Z"
   },
   {
    "duration": 0,
    "start_time": "2022-10-04T08:55:01.472Z"
   },
   {
    "duration": 0,
    "start_time": "2022-10-04T08:55:01.474Z"
   },
   {
    "duration": 0,
    "start_time": "2022-10-04T08:55:01.475Z"
   },
   {
    "duration": 0,
    "start_time": "2022-10-04T08:55:01.477Z"
   },
   {
    "duration": 0,
    "start_time": "2022-10-04T08:55:01.478Z"
   },
   {
    "duration": 1224,
    "start_time": "2022-10-04T08:58:04.968Z"
   },
   {
    "duration": 469,
    "start_time": "2022-10-04T08:58:06.194Z"
   },
   {
    "duration": 3,
    "start_time": "2022-10-04T08:58:06.666Z"
   },
   {
    "duration": 20,
    "start_time": "2022-10-04T08:58:06.671Z"
   },
   {
    "duration": 9,
    "start_time": "2022-10-04T08:58:06.694Z"
   },
   {
    "duration": 12,
    "start_time": "2022-10-04T08:58:06.705Z"
   },
   {
    "duration": 55,
    "start_time": "2022-10-04T08:58:06.718Z"
   },
   {
    "duration": 111,
    "start_time": "2022-10-04T08:58:06.775Z"
   },
   {
    "duration": 45,
    "start_time": "2022-10-04T08:58:06.888Z"
   },
   {
    "duration": 82,
    "start_time": "2022-10-04T08:58:06.934Z"
   },
   {
    "duration": 96,
    "start_time": "2022-10-04T08:58:07.017Z"
   },
   {
    "duration": 60,
    "start_time": "2022-10-04T08:58:07.115Z"
   },
   {
    "duration": 12,
    "start_time": "2022-10-04T08:58:07.176Z"
   },
   {
    "duration": 32,
    "start_time": "2022-10-04T08:58:07.190Z"
   },
   {
    "duration": 8,
    "start_time": "2022-10-04T08:58:07.224Z"
   },
   {
    "duration": 20,
    "start_time": "2022-10-04T08:58:07.234Z"
   },
   {
    "duration": 14,
    "start_time": "2022-10-04T08:58:07.256Z"
   },
   {
    "duration": 24,
    "start_time": "2022-10-04T08:58:07.272Z"
   },
   {
    "duration": 16,
    "start_time": "2022-10-04T08:58:07.298Z"
   },
   {
    "duration": 177,
    "start_time": "2022-10-04T08:58:07.316Z"
   },
   {
    "duration": 176,
    "start_time": "2022-10-04T08:58:07.494Z"
   },
   {
    "duration": 355,
    "start_time": "2022-10-04T08:58:07.671Z"
   },
   {
    "duration": 18,
    "start_time": "2022-10-04T08:58:08.028Z"
   },
   {
    "duration": 29,
    "start_time": "2022-10-04T08:58:08.048Z"
   },
   {
    "duration": 169,
    "start_time": "2022-10-04T08:58:08.079Z"
   },
   {
    "duration": 12,
    "start_time": "2022-10-04T08:58:08.250Z"
   },
   {
    "duration": 25,
    "start_time": "2022-10-04T08:58:08.264Z"
   },
   {
    "duration": 172,
    "start_time": "2022-10-04T08:58:08.291Z"
   },
   {
    "duration": 147,
    "start_time": "2022-10-04T08:58:08.465Z"
   },
   {
    "duration": 6,
    "start_time": "2022-10-04T08:58:08.613Z"
   },
   {
    "duration": 185,
    "start_time": "2022-10-04T08:58:08.621Z"
   },
   {
    "duration": 245,
    "start_time": "2022-10-04T08:58:08.808Z"
   },
   {
    "duration": 427,
    "start_time": "2022-10-04T09:03:41.435Z"
   },
   {
    "duration": 269,
    "start_time": "2022-10-04T09:05:20.169Z"
   },
   {
    "duration": 37,
    "start_time": "2022-10-04T09:08:31.345Z"
   },
   {
    "duration": 41,
    "start_time": "2022-10-04T09:08:37.615Z"
   },
   {
    "duration": 31,
    "start_time": "2022-10-04T09:13:08.975Z"
   },
   {
    "duration": 97,
    "start_time": "2022-10-04T09:13:20.869Z"
   },
   {
    "duration": 109,
    "start_time": "2022-10-04T09:14:04.091Z"
   },
   {
    "duration": 33,
    "start_time": "2022-10-04T09:15:37.536Z"
   },
   {
    "duration": 35,
    "start_time": "2022-10-04T09:15:42.798Z"
   },
   {
    "duration": 1244,
    "start_time": "2022-10-04T09:17:38.352Z"
   },
   {
    "duration": 482,
    "start_time": "2022-10-04T09:17:39.598Z"
   },
   {
    "duration": 6,
    "start_time": "2022-10-04T09:17:40.082Z"
   },
   {
    "duration": 21,
    "start_time": "2022-10-04T09:17:40.090Z"
   },
   {
    "duration": 9,
    "start_time": "2022-10-04T09:17:40.113Z"
   },
   {
    "duration": 10,
    "start_time": "2022-10-04T09:17:40.125Z"
   },
   {
    "duration": 56,
    "start_time": "2022-10-04T09:17:40.138Z"
   },
   {
    "duration": 74,
    "start_time": "2022-10-04T09:17:40.196Z"
   },
   {
    "duration": 20,
    "start_time": "2022-10-04T09:17:40.272Z"
   },
   {
    "duration": 83,
    "start_time": "2022-10-04T09:17:40.294Z"
   },
   {
    "duration": 85,
    "start_time": "2022-10-04T09:17:40.378Z"
   },
   {
    "duration": 63,
    "start_time": "2022-10-04T09:17:40.465Z"
   },
   {
    "duration": 70,
    "start_time": "2022-10-04T09:17:40.530Z"
   },
   {
    "duration": 11,
    "start_time": "2022-10-04T09:17:40.605Z"
   },
   {
    "duration": 14,
    "start_time": "2022-10-04T09:17:40.619Z"
   },
   {
    "duration": 25,
    "start_time": "2022-10-04T09:17:40.635Z"
   },
   {
    "duration": 24,
    "start_time": "2022-10-04T09:17:40.662Z"
   },
   {
    "duration": 15,
    "start_time": "2022-10-04T09:17:40.688Z"
   },
   {
    "duration": 21,
    "start_time": "2022-10-04T09:17:40.705Z"
   },
   {
    "duration": 53,
    "start_time": "2022-10-04T09:17:40.728Z"
   },
   {
    "duration": 180,
    "start_time": "2022-10-04T09:17:40.783Z"
   },
   {
    "duration": 195,
    "start_time": "2022-10-04T09:17:40.965Z"
   },
   {
    "duration": 447,
    "start_time": "2022-10-04T09:17:41.161Z"
   },
   {
    "duration": 22,
    "start_time": "2022-10-04T09:17:41.612Z"
   },
   {
    "duration": 38,
    "start_time": "2022-10-04T09:17:41.639Z"
   },
   {
    "duration": 239,
    "start_time": "2022-10-04T09:17:41.681Z"
   },
   {
    "duration": 9,
    "start_time": "2022-10-04T09:17:41.922Z"
   },
   {
    "duration": 21,
    "start_time": "2022-10-04T09:17:41.934Z"
   },
   {
    "duration": 163,
    "start_time": "2022-10-04T09:17:41.957Z"
   },
   {
    "duration": 157,
    "start_time": "2022-10-04T09:17:42.122Z"
   },
   {
    "duration": 6,
    "start_time": "2022-10-04T09:17:42.281Z"
   },
   {
    "duration": 176,
    "start_time": "2022-10-04T09:17:42.288Z"
   },
   {
    "duration": 259,
    "start_time": "2022-10-04T09:17:42.466Z"
   },
   {
    "duration": 55,
    "start_time": "2022-10-04T09:17:42.728Z"
   },
   {
    "duration": 108,
    "start_time": "2022-10-04T09:22:00.534Z"
   },
   {
    "duration": 35890,
    "start_time": "2022-10-04T09:24:36.596Z"
   },
   {
    "duration": 16,
    "start_time": "2022-10-04T09:25:19.127Z"
   },
   {
    "duration": 68,
    "start_time": "2022-10-04T09:26:58.584Z"
   },
   {
    "duration": 50,
    "start_time": "2022-10-04T09:27:11.296Z"
   },
   {
    "duration": 53,
    "start_time": "2022-10-04T09:27:26.425Z"
   },
   {
    "duration": 52,
    "start_time": "2022-10-04T09:27:45.386Z"
   },
   {
    "duration": 579,
    "start_time": "2022-10-04T09:30:10.134Z"
   },
   {
    "duration": 575,
    "start_time": "2022-10-04T09:31:07.833Z"
   },
   {
    "duration": 572,
    "start_time": "2022-10-04T09:31:19.640Z"
   },
   {
    "duration": 660,
    "start_time": "2022-10-04T09:34:17.653Z"
   },
   {
    "duration": 665,
    "start_time": "2022-10-04T09:39:51.869Z"
   },
   {
    "duration": 645,
    "start_time": "2022-10-04T09:40:19.296Z"
   },
   {
    "duration": 788,
    "start_time": "2022-10-04T09:41:17.185Z"
   },
   {
    "duration": 11,
    "start_time": "2022-10-04T09:45:53.084Z"
   },
   {
    "duration": 36,
    "start_time": "2022-10-04T09:50:38.070Z"
   },
   {
    "duration": 370,
    "start_time": "2022-10-04T09:51:28.780Z"
   },
   {
    "duration": 161,
    "start_time": "2022-10-04T09:52:23.443Z"
   },
   {
    "duration": 193,
    "start_time": "2022-10-04T09:52:38.400Z"
   },
   {
    "duration": 160,
    "start_time": "2022-10-04T09:52:57.815Z"
   },
   {
    "duration": 31,
    "start_time": "2022-10-04T09:53:11.725Z"
   },
   {
    "duration": 193,
    "start_time": "2022-10-04T09:56:25.070Z"
   },
   {
    "duration": 9,
    "start_time": "2022-10-04T10:03:22.493Z"
   },
   {
    "duration": 17,
    "start_time": "2022-10-04T10:08:35.369Z"
   },
   {
    "duration": 15,
    "start_time": "2022-10-04T10:08:40.920Z"
   },
   {
    "duration": 18,
    "start_time": "2022-10-04T10:09:28.941Z"
   },
   {
    "duration": 15,
    "start_time": "2022-10-04T10:13:38.362Z"
   },
   {
    "duration": 54,
    "start_time": "2022-10-04T10:13:53.628Z"
   },
   {
    "duration": 18,
    "start_time": "2022-10-04T10:14:00.137Z"
   },
   {
    "duration": 20,
    "start_time": "2022-10-04T10:14:27.157Z"
   },
   {
    "duration": 150,
    "start_time": "2022-10-04T10:15:09.167Z"
   },
   {
    "duration": 20,
    "start_time": "2022-10-04T10:15:17.932Z"
   },
   {
    "duration": 20,
    "start_time": "2022-10-04T10:16:16.541Z"
   },
   {
    "duration": 32,
    "start_time": "2022-10-04T10:16:56.277Z"
   },
   {
    "duration": 43,
    "start_time": "2022-10-04T10:17:16.971Z"
   },
   {
    "duration": 167,
    "start_time": "2022-10-04T10:17:28.917Z"
   },
   {
    "duration": 177,
    "start_time": "2022-10-04T10:17:52.964Z"
   },
   {
    "duration": 177,
    "start_time": "2022-10-04T10:19:26.008Z"
   },
   {
    "duration": 286,
    "start_time": "2022-10-04T10:19:43.629Z"
   },
   {
    "duration": 31,
    "start_time": "2022-10-04T10:28:31.682Z"
   },
   {
    "duration": 23,
    "start_time": "2022-10-04T10:28:40.690Z"
   },
   {
    "duration": 164,
    "start_time": "2022-10-04T10:29:55.510Z"
   },
   {
    "duration": 24,
    "start_time": "2022-10-04T10:44:20.612Z"
   },
   {
    "duration": 16,
    "start_time": "2022-10-04T10:45:09.380Z"
   },
   {
    "duration": 20,
    "start_time": "2022-10-04T10:45:16.854Z"
   },
   {
    "duration": 18,
    "start_time": "2022-10-04T10:45:56.546Z"
   },
   {
    "duration": 18,
    "start_time": "2022-10-04T10:46:00.099Z"
   },
   {
    "duration": 17,
    "start_time": "2022-10-04T10:46:14.267Z"
   },
   {
    "duration": 33,
    "start_time": "2022-10-04T10:48:13.469Z"
   },
   {
    "duration": 24,
    "start_time": "2022-10-04T10:48:19.178Z"
   },
   {
    "duration": 16,
    "start_time": "2022-10-04T10:50:02.078Z"
   },
   {
    "duration": 14,
    "start_time": "2022-10-04T10:50:09.668Z"
   },
   {
    "duration": 17,
    "start_time": "2022-10-04T10:50:14.585Z"
   },
   {
    "duration": 13,
    "start_time": "2022-10-04T10:50:49.872Z"
   },
   {
    "duration": 19,
    "start_time": "2022-10-04T10:51:16.989Z"
   },
   {
    "duration": 39,
    "start_time": "2022-10-04T10:51:56.492Z"
   },
   {
    "duration": 40,
    "start_time": "2022-10-04T10:52:38.967Z"
   },
   {
    "duration": 27,
    "start_time": "2022-10-04T10:55:41.116Z"
   },
   {
    "duration": 25,
    "start_time": "2022-10-04T10:55:46.097Z"
   },
   {
    "duration": 25,
    "start_time": "2022-10-04T10:55:56.715Z"
   },
   {
    "duration": 13,
    "start_time": "2022-10-04T10:58:05.736Z"
   },
   {
    "duration": 25,
    "start_time": "2022-10-04T10:58:12.440Z"
   },
   {
    "duration": 38,
    "start_time": "2022-10-04T10:58:28.386Z"
   },
   {
    "duration": 1196,
    "start_time": "2022-10-04T11:00:19.998Z"
   },
   {
    "duration": 690,
    "start_time": "2022-10-04T11:00:21.196Z"
   },
   {
    "duration": 3,
    "start_time": "2022-10-04T11:00:21.888Z"
   },
   {
    "duration": 18,
    "start_time": "2022-10-04T11:00:21.893Z"
   },
   {
    "duration": 10,
    "start_time": "2022-10-04T11:00:21.913Z"
   },
   {
    "duration": 10,
    "start_time": "2022-10-04T11:00:21.925Z"
   },
   {
    "duration": 55,
    "start_time": "2022-10-04T11:00:21.937Z"
   },
   {
    "duration": 84,
    "start_time": "2022-10-04T11:00:21.995Z"
   },
   {
    "duration": 20,
    "start_time": "2022-10-04T11:00:22.081Z"
   },
   {
    "duration": 82,
    "start_time": "2022-10-04T11:00:22.104Z"
   },
   {
    "duration": 95,
    "start_time": "2022-10-04T11:00:22.188Z"
   },
   {
    "duration": 78,
    "start_time": "2022-10-04T11:00:22.285Z"
   },
   {
    "duration": 41,
    "start_time": "2022-10-04T11:00:22.365Z"
   },
   {
    "duration": 15,
    "start_time": "2022-10-04T11:00:22.408Z"
   },
   {
    "duration": 38,
    "start_time": "2022-10-04T11:00:22.425Z"
   },
   {
    "duration": 9,
    "start_time": "2022-10-04T11:00:22.465Z"
   },
   {
    "duration": 17,
    "start_time": "2022-10-04T11:00:22.476Z"
   },
   {
    "duration": 20,
    "start_time": "2022-10-04T11:00:22.494Z"
   },
   {
    "duration": 21,
    "start_time": "2022-10-04T11:00:22.515Z"
   },
   {
    "duration": 46,
    "start_time": "2022-10-04T11:00:22.554Z"
   },
   {
    "duration": 183,
    "start_time": "2022-10-04T11:00:22.603Z"
   },
   {
    "duration": 203,
    "start_time": "2022-10-04T11:00:22.788Z"
   },
   {
    "duration": 374,
    "start_time": "2022-10-04T11:00:22.994Z"
   },
   {
    "duration": 13,
    "start_time": "2022-10-04T11:00:23.370Z"
   },
   {
    "duration": 10,
    "start_time": "2022-10-04T11:00:23.385Z"
   },
   {
    "duration": 9,
    "start_time": "2022-10-04T11:00:23.397Z"
   },
   {
    "duration": 173,
    "start_time": "2022-10-04T11:00:23.408Z"
   },
   {
    "duration": 152,
    "start_time": "2022-10-04T11:00:23.585Z"
   },
   {
    "duration": 6,
    "start_time": "2022-10-04T11:00:23.739Z"
   },
   {
    "duration": 178,
    "start_time": "2022-10-04T11:00:23.754Z"
   },
   {
    "duration": 160,
    "start_time": "2022-10-04T11:00:23.934Z"
   },
   {
    "duration": 35458,
    "start_time": "2022-10-04T11:00:24.096Z"
   },
   {
    "duration": 17,
    "start_time": "2022-10-04T11:00:59.555Z"
   },
   {
    "duration": 92,
    "start_time": "2022-10-04T11:00:59.574Z"
   },
   {
    "duration": 706,
    "start_time": "2022-10-04T11:00:59.668Z"
   },
   {
    "duration": 195,
    "start_time": "2022-10-04T11:01:00.376Z"
   },
   {
    "duration": 53,
    "start_time": "2022-10-04T11:01:00.574Z"
   },
   {
    "duration": 196,
    "start_time": "2022-10-04T11:01:00.629Z"
   },
   {
    "duration": 174,
    "start_time": "2022-10-04T11:01:00.827Z"
   },
   {
    "duration": 153,
    "start_time": "2022-10-04T11:01:01.003Z"
   },
   {
    "duration": 33,
    "start_time": "2022-10-04T11:01:12.726Z"
   },
   {
    "duration": 30,
    "start_time": "2022-10-04T11:01:21.354Z"
   },
   {
    "duration": 25,
    "start_time": "2022-10-04T11:01:28.508Z"
   },
   {
    "duration": 10,
    "start_time": "2022-10-04T11:03:22.648Z"
   },
   {
    "duration": 7,
    "start_time": "2022-10-04T11:03:26.245Z"
   },
   {
    "duration": 32,
    "start_time": "2022-10-04T11:03:44.125Z"
   },
   {
    "duration": 6,
    "start_time": "2022-10-04T11:03:53.447Z"
   },
   {
    "duration": 4,
    "start_time": "2022-10-04T11:04:14.642Z"
   },
   {
    "duration": 7,
    "start_time": "2022-10-04T11:05:12.743Z"
   },
   {
    "duration": 7,
    "start_time": "2022-10-04T11:07:49.624Z"
   },
   {
    "duration": 24,
    "start_time": "2022-10-04T11:08:25.765Z"
   },
   {
    "duration": 7,
    "start_time": "2022-10-04T11:08:30.638Z"
   },
   {
    "duration": 9,
    "start_time": "2022-10-04T11:08:52.217Z"
   },
   {
    "duration": 9,
    "start_time": "2022-10-04T11:09:15.506Z"
   },
   {
    "duration": 8,
    "start_time": "2022-10-04T11:09:46.202Z"
   },
   {
    "duration": 29,
    "start_time": "2022-10-04T11:10:48.083Z"
   },
   {
    "duration": 25,
    "start_time": "2022-10-04T11:11:14.431Z"
   },
   {
    "duration": 14,
    "start_time": "2022-10-04T11:42:18.934Z"
   },
   {
    "duration": 21,
    "start_time": "2022-10-04T11:43:50.553Z"
   },
   {
    "duration": 17,
    "start_time": "2022-10-04T11:44:20.649Z"
   },
   {
    "duration": 12,
    "start_time": "2022-10-04T11:45:56.470Z"
   },
   {
    "duration": 7,
    "start_time": "2022-10-04T11:46:05.330Z"
   },
   {
    "duration": 13,
    "start_time": "2022-10-04T11:46:14.461Z"
   },
   {
    "duration": 16,
    "start_time": "2022-10-04T11:46:22.555Z"
   },
   {
    "duration": 31,
    "start_time": "2022-10-04T11:47:35.076Z"
   },
   {
    "duration": 18,
    "start_time": "2022-10-04T11:48:14.313Z"
   },
   {
    "duration": 147,
    "start_time": "2022-10-04T11:48:18.202Z"
   },
   {
    "duration": 34,
    "start_time": "2022-10-04T11:48:24.275Z"
   },
   {
    "duration": 47,
    "start_time": "2022-10-04T11:49:55.576Z"
   },
   {
    "duration": 62,
    "start_time": "2022-10-04T11:51:12.546Z"
   },
   {
    "duration": 9,
    "start_time": "2022-10-04T11:51:33.982Z"
   },
   {
    "duration": 11,
    "start_time": "2022-10-04T11:52:02.383Z"
   },
   {
    "duration": 13,
    "start_time": "2022-10-04T11:52:49.826Z"
   },
   {
    "duration": 33,
    "start_time": "2022-10-04T11:59:49.760Z"
   },
   {
    "duration": 10,
    "start_time": "2022-10-04T12:07:07.523Z"
   },
   {
    "duration": 74,
    "start_time": "2022-10-04T12:13:56.024Z"
   },
   {
    "duration": 23,
    "start_time": "2022-10-04T12:14:06.728Z"
   },
   {
    "duration": 28,
    "start_time": "2022-10-04T12:15:12.381Z"
   },
   {
    "duration": 18,
    "start_time": "2022-10-04T12:16:27.985Z"
   },
   {
    "duration": 11,
    "start_time": "2022-10-04T12:18:58.149Z"
   },
   {
    "duration": 12,
    "start_time": "2022-10-04T12:19:10.478Z"
   },
   {
    "duration": 18,
    "start_time": "2022-10-04T12:19:15.082Z"
   },
   {
    "duration": 23,
    "start_time": "2022-10-04T12:19:22.977Z"
   },
   {
    "duration": 6,
    "start_time": "2022-10-04T12:19:26.409Z"
   },
   {
    "duration": 44,
    "start_time": "2022-10-04T12:20:33.765Z"
   },
   {
    "duration": 1326,
    "start_time": "2022-10-05T09:30:08.549Z"
   },
   {
    "duration": 567,
    "start_time": "2022-10-05T09:30:09.877Z"
   },
   {
    "duration": 4,
    "start_time": "2022-10-05T09:30:10.445Z"
   },
   {
    "duration": 13,
    "start_time": "2022-10-05T09:30:10.451Z"
   },
   {
    "duration": 8,
    "start_time": "2022-10-05T09:30:10.466Z"
   },
   {
    "duration": 11,
    "start_time": "2022-10-05T09:30:10.475Z"
   },
   {
    "duration": 52,
    "start_time": "2022-10-05T09:30:10.487Z"
   },
   {
    "duration": 59,
    "start_time": "2022-10-05T09:30:10.540Z"
   },
   {
    "duration": 39,
    "start_time": "2022-10-05T09:30:10.601Z"
   },
   {
    "duration": 59,
    "start_time": "2022-10-05T09:30:10.642Z"
   },
   {
    "duration": 87,
    "start_time": "2022-10-05T09:30:10.703Z"
   },
   {
    "duration": 57,
    "start_time": "2022-10-05T09:30:10.792Z"
   },
   {
    "duration": 37,
    "start_time": "2022-10-05T09:30:10.851Z"
   },
   {
    "duration": 11,
    "start_time": "2022-10-05T09:30:10.889Z"
   },
   {
    "duration": 12,
    "start_time": "2022-10-05T09:30:10.902Z"
   },
   {
    "duration": 26,
    "start_time": "2022-10-05T09:30:10.916Z"
   },
   {
    "duration": 13,
    "start_time": "2022-10-05T09:30:10.944Z"
   },
   {
    "duration": 15,
    "start_time": "2022-10-05T09:30:10.959Z"
   },
   {
    "duration": 20,
    "start_time": "2022-10-05T09:30:10.976Z"
   },
   {
    "duration": 52,
    "start_time": "2022-10-05T09:30:10.998Z"
   },
   {
    "duration": 156,
    "start_time": "2022-10-05T09:30:11.051Z"
   },
   {
    "duration": 177,
    "start_time": "2022-10-05T09:30:11.209Z"
   },
   {
    "duration": 368,
    "start_time": "2022-10-05T09:30:11.388Z"
   },
   {
    "duration": 12,
    "start_time": "2022-10-05T09:30:11.757Z"
   },
   {
    "duration": 26,
    "start_time": "2022-10-05T09:30:11.771Z"
   },
   {
    "duration": 15,
    "start_time": "2022-10-05T09:30:11.799Z"
   },
   {
    "duration": 145,
    "start_time": "2022-10-05T09:30:11.816Z"
   },
   {
    "duration": 145,
    "start_time": "2022-10-05T09:30:11.965Z"
   },
   {
    "duration": 7,
    "start_time": "2022-10-05T09:30:12.112Z"
   },
   {
    "duration": 168,
    "start_time": "2022-10-05T09:30:12.120Z"
   },
   {
    "duration": 151,
    "start_time": "2022-10-05T09:30:12.290Z"
   },
   {
    "duration": 32813,
    "start_time": "2022-10-05T09:30:12.443Z"
   },
   {
    "duration": 13,
    "start_time": "2022-10-05T09:30:45.258Z"
   },
   {
    "duration": 87,
    "start_time": "2022-10-05T09:30:45.273Z"
   },
   {
    "duration": 767,
    "start_time": "2022-10-05T09:30:45.362Z"
   },
   {
    "duration": 186,
    "start_time": "2022-10-05T09:30:46.131Z"
   },
   {
    "duration": 53,
    "start_time": "2022-10-05T09:30:46.319Z"
   },
   {
    "duration": 168,
    "start_time": "2022-10-05T09:30:46.374Z"
   },
   {
    "duration": 155,
    "start_time": "2022-10-05T09:30:46.544Z"
   },
   {
    "duration": 55,
    "start_time": "2022-10-05T09:30:46.700Z"
   },
   {
    "duration": 7,
    "start_time": "2022-10-05T09:30:46.756Z"
   },
   {
    "duration": 49,
    "start_time": "2022-10-05T09:30:46.765Z"
   },
   {
    "duration": 9,
    "start_time": "2022-10-05T09:30:46.816Z"
   },
   {
    "duration": 22,
    "start_time": "2022-10-05T09:30:46.839Z"
   },
   {
    "duration": 17,
    "start_time": "2022-10-05T09:30:46.862Z"
   },
   {
    "duration": 12,
    "start_time": "2022-10-05T09:30:46.880Z"
   },
   {
    "duration": 51,
    "start_time": "2022-10-05T09:30:46.894Z"
   },
   {
    "duration": 51,
    "start_time": "2022-10-05T09:35:45.967Z"
   },
   {
    "duration": 15,
    "start_time": "2022-10-05T09:36:56.863Z"
   },
   {
    "duration": 101,
    "start_time": "2022-10-05T09:40:46.815Z"
   },
   {
    "duration": 11,
    "start_time": "2022-10-05T09:41:16.089Z"
   },
   {
    "duration": 18,
    "start_time": "2022-10-05T09:41:22.034Z"
   },
   {
    "duration": 18,
    "start_time": "2022-10-05T09:42:17.501Z"
   },
   {
    "duration": 17,
    "start_time": "2022-10-05T09:42:30.654Z"
   },
   {
    "duration": 19,
    "start_time": "2022-10-05T09:43:42.808Z"
   },
   {
    "duration": 14,
    "start_time": "2022-10-05T09:45:50.501Z"
   },
   {
    "duration": 17,
    "start_time": "2022-10-05T09:48:26.466Z"
   },
   {
    "duration": 3,
    "start_time": "2022-10-05T09:48:37.576Z"
   },
   {
    "duration": 4,
    "start_time": "2022-10-05T09:48:47.507Z"
   },
   {
    "duration": 5,
    "start_time": "2022-10-05T09:48:57.564Z"
   },
   {
    "duration": 13,
    "start_time": "2022-10-05T09:50:23.240Z"
   },
   {
    "duration": 13,
    "start_time": "2022-10-05T09:50:30.565Z"
   },
   {
    "duration": 5,
    "start_time": "2022-10-05T09:51:16.475Z"
   },
   {
    "duration": 7,
    "start_time": "2022-10-05T09:51:19.987Z"
   },
   {
    "duration": 9,
    "start_time": "2022-10-05T09:53:40.681Z"
   },
   {
    "duration": 6,
    "start_time": "2022-10-05T09:53:42.328Z"
   },
   {
    "duration": 1281,
    "start_time": "2022-10-05T09:54:06.227Z"
   },
   {
    "duration": 504,
    "start_time": "2022-10-05T09:54:07.510Z"
   },
   {
    "duration": 3,
    "start_time": "2022-10-05T09:54:08.016Z"
   },
   {
    "duration": 17,
    "start_time": "2022-10-05T09:54:08.021Z"
   },
   {
    "duration": 10,
    "start_time": "2022-10-05T09:54:08.040Z"
   },
   {
    "duration": 10,
    "start_time": "2022-10-05T09:54:08.052Z"
   },
   {
    "duration": 38,
    "start_time": "2022-10-05T09:54:08.064Z"
   },
   {
    "duration": 81,
    "start_time": "2022-10-05T09:54:08.104Z"
   },
   {
    "duration": 21,
    "start_time": "2022-10-05T09:54:08.188Z"
   },
   {
    "duration": 82,
    "start_time": "2022-10-05T09:54:08.213Z"
   },
   {
    "duration": 89,
    "start_time": "2022-10-05T09:54:08.297Z"
   },
   {
    "duration": 68,
    "start_time": "2022-10-05T09:54:08.388Z"
   },
   {
    "duration": 41,
    "start_time": "2022-10-05T09:54:08.458Z"
   },
   {
    "duration": 17,
    "start_time": "2022-10-05T09:54:08.500Z"
   },
   {
    "duration": 26,
    "start_time": "2022-10-05T09:54:08.519Z"
   },
   {
    "duration": 11,
    "start_time": "2022-10-05T09:54:08.547Z"
   },
   {
    "duration": 17,
    "start_time": "2022-10-05T09:54:08.559Z"
   },
   {
    "duration": 23,
    "start_time": "2022-10-05T09:54:08.578Z"
   },
   {
    "duration": 36,
    "start_time": "2022-10-05T09:54:08.603Z"
   },
   {
    "duration": 39,
    "start_time": "2022-10-05T09:54:08.641Z"
   },
   {
    "duration": 172,
    "start_time": "2022-10-05T09:54:08.682Z"
   },
   {
    "duration": 187,
    "start_time": "2022-10-05T09:54:08.856Z"
   },
   {
    "duration": 362,
    "start_time": "2022-10-05T09:54:09.045Z"
   },
   {
    "duration": 13,
    "start_time": "2022-10-05T09:54:09.409Z"
   },
   {
    "duration": 18,
    "start_time": "2022-10-05T09:54:09.424Z"
   },
   {
    "duration": 5,
    "start_time": "2022-10-05T09:54:09.444Z"
   },
   {
    "duration": 154,
    "start_time": "2022-10-05T09:54:09.450Z"
   },
   {
    "duration": 148,
    "start_time": "2022-10-05T09:54:09.608Z"
   },
   {
    "duration": 5,
    "start_time": "2022-10-05T09:54:09.758Z"
   },
   {
    "duration": 171,
    "start_time": "2022-10-05T09:54:09.765Z"
   },
   {
    "duration": 155,
    "start_time": "2022-10-05T09:54:09.939Z"
   },
   {
    "duration": 33806,
    "start_time": "2022-10-05T09:54:10.096Z"
   },
   {
    "duration": 15,
    "start_time": "2022-10-05T09:54:43.904Z"
   },
   {
    "duration": 77,
    "start_time": "2022-10-05T09:54:43.921Z"
   },
   {
    "duration": 702,
    "start_time": "2022-10-05T09:54:44.000Z"
   },
   {
    "duration": 181,
    "start_time": "2022-10-05T09:54:44.703Z"
   },
   {
    "duration": 54,
    "start_time": "2022-10-05T09:54:44.885Z"
   },
   {
    "duration": 171,
    "start_time": "2022-10-05T09:54:44.940Z"
   },
   {
    "duration": 155,
    "start_time": "2022-10-05T09:54:45.112Z"
   },
   {
    "duration": 45,
    "start_time": "2022-10-05T09:54:45.269Z"
   },
   {
    "duration": 22,
    "start_time": "2022-10-05T09:54:45.316Z"
   },
   {
    "duration": 43,
    "start_time": "2022-10-05T09:54:45.340Z"
   },
   {
    "duration": 8,
    "start_time": "2022-10-05T09:54:45.385Z"
   },
   {
    "duration": 44,
    "start_time": "2022-10-05T09:54:45.395Z"
   },
   {
    "duration": 17,
    "start_time": "2022-10-05T09:54:45.440Z"
   },
   {
    "duration": 5,
    "start_time": "2022-10-05T09:54:45.459Z"
   },
   {
    "duration": 15,
    "start_time": "2022-10-05T09:54:45.465Z"
   },
   {
    "duration": 343,
    "start_time": "2022-10-05T09:54:45.482Z"
   },
   {
    "duration": 0,
    "start_time": "2022-10-05T09:54:45.827Z"
   },
   {
    "duration": 0,
    "start_time": "2022-10-05T09:54:45.828Z"
   },
   {
    "duration": 61,
    "start_time": "2022-10-05T09:55:10.958Z"
   },
   {
    "duration": 6,
    "start_time": "2022-10-05T09:55:15.706Z"
   },
   {
    "duration": 13,
    "start_time": "2022-10-05T09:55:21.938Z"
   },
   {
    "duration": 29,
    "start_time": "2022-10-05T09:55:31.162Z"
   },
   {
    "duration": 23,
    "start_time": "2022-10-05T09:58:54.125Z"
   },
   {
    "duration": 17,
    "start_time": "2022-10-05T09:58:55.117Z"
   },
   {
    "duration": 5,
    "start_time": "2022-10-05T09:59:02.428Z"
   },
   {
    "duration": 13,
    "start_time": "2022-10-05T09:59:07.590Z"
   },
   {
    "duration": 6,
    "start_time": "2022-10-05T09:59:08.472Z"
   },
   {
    "duration": 34,
    "start_time": "2022-10-05T09:59:20.941Z"
   },
   {
    "duration": 10,
    "start_time": "2022-10-05T10:12:39.402Z"
   },
   {
    "duration": 9,
    "start_time": "2022-10-05T10:13:27.491Z"
   },
   {
    "duration": 10,
    "start_time": "2022-10-05T10:14:24.367Z"
   },
   {
    "duration": 242,
    "start_time": "2022-10-05T10:14:34.234Z"
   },
   {
    "duration": 348,
    "start_time": "2022-10-05T10:15:04.529Z"
   },
   {
    "duration": 11,
    "start_time": "2022-10-05T10:16:57.259Z"
   },
   {
    "duration": 19,
    "start_time": "2022-10-05T10:17:14.632Z"
   },
   {
    "duration": 76,
    "start_time": "2022-10-05T10:17:21.565Z"
   },
   {
    "duration": 13,
    "start_time": "2022-10-05T10:17:23.883Z"
   },
   {
    "duration": 10,
    "start_time": "2022-10-05T10:18:12.932Z"
   },
   {
    "duration": 7,
    "start_time": "2022-10-05T10:19:48.152Z"
   },
   {
    "duration": 14,
    "start_time": "2022-10-05T10:20:17.489Z"
   },
   {
    "duration": 4,
    "start_time": "2022-10-05T10:21:52.480Z"
   },
   {
    "duration": 12,
    "start_time": "2022-10-05T10:23:09.077Z"
   },
   {
    "duration": 4,
    "start_time": "2022-10-05T10:23:33.496Z"
   },
   {
    "duration": 10,
    "start_time": "2022-10-05T10:23:43.501Z"
   },
   {
    "duration": 11,
    "start_time": "2022-10-05T10:23:57.679Z"
   },
   {
    "duration": 3,
    "start_time": "2022-10-05T10:24:03.181Z"
   },
   {
    "duration": 54,
    "start_time": "2022-10-05T10:24:20.333Z"
   },
   {
    "duration": 230,
    "start_time": "2022-10-05T10:24:29.636Z"
   },
   {
    "duration": 234,
    "start_time": "2022-10-05T10:25:06.141Z"
   },
   {
    "duration": 11,
    "start_time": "2022-10-05T10:25:12.652Z"
   },
   {
    "duration": 4,
    "start_time": "2022-10-05T10:25:18.097Z"
   },
   {
    "duration": 13,
    "start_time": "2022-10-05T10:25:27.903Z"
   },
   {
    "duration": 4,
    "start_time": "2022-10-05T10:25:34.022Z"
   },
   {
    "duration": 4,
    "start_time": "2022-10-05T10:25:48.008Z"
   },
   {
    "duration": 15,
    "start_time": "2022-10-05T10:25:53.916Z"
   },
   {
    "duration": 11,
    "start_time": "2022-10-05T10:26:34.784Z"
   },
   {
    "duration": 3,
    "start_time": "2022-10-05T10:26:35.400Z"
   },
   {
    "duration": 11,
    "start_time": "2022-10-05T10:26:39.402Z"
   },
   {
    "duration": 3,
    "start_time": "2022-10-05T10:26:39.869Z"
   },
   {
    "duration": 11,
    "start_time": "2022-10-05T10:26:42.924Z"
   },
   {
    "duration": 4,
    "start_time": "2022-10-05T10:26:43.335Z"
   },
   {
    "duration": 27,
    "start_time": "2022-10-05T10:26:48.585Z"
   },
   {
    "duration": 16,
    "start_time": "2022-10-05T10:26:48.764Z"
   },
   {
    "duration": 5,
    "start_time": "2022-10-05T10:26:48.967Z"
   },
   {
    "duration": 30,
    "start_time": "2022-10-05T10:26:49.356Z"
   },
   {
    "duration": 13,
    "start_time": "2022-10-05T10:26:49.623Z"
   },
   {
    "duration": 3,
    "start_time": "2022-10-05T10:26:49.905Z"
   },
   {
    "duration": 263,
    "start_time": "2022-10-05T10:27:21.164Z"
   },
   {
    "duration": 4,
    "start_time": "2022-10-05T10:27:21.769Z"
   },
   {
    "duration": 4,
    "start_time": "2022-10-05T10:27:38.954Z"
   },
   {
    "duration": 15,
    "start_time": "2022-10-05T10:27:43.714Z"
   },
   {
    "duration": 282,
    "start_time": "2022-10-05T10:27:51.266Z"
   },
   {
    "duration": 4,
    "start_time": "2022-10-05T10:27:51.550Z"
   },
   {
    "duration": 21,
    "start_time": "2022-10-05T10:28:31.891Z"
   },
   {
    "duration": 23,
    "start_time": "2022-10-05T10:28:54.234Z"
   },
   {
    "duration": 18,
    "start_time": "2022-10-05T10:28:54.454Z"
   },
   {
    "duration": 5,
    "start_time": "2022-10-05T10:28:54.610Z"
   },
   {
    "duration": 32,
    "start_time": "2022-10-05T10:28:54.787Z"
   },
   {
    "duration": 21,
    "start_time": "2022-10-05T10:28:54.985Z"
   },
   {
    "duration": 4,
    "start_time": "2022-10-05T10:28:55.202Z"
   },
   {
    "duration": 22,
    "start_time": "2022-10-05T10:29:10.348Z"
   },
   {
    "duration": 14,
    "start_time": "2022-10-05T10:29:55.334Z"
   },
   {
    "duration": 8,
    "start_time": "2022-10-05T10:30:01.866Z"
   },
   {
    "duration": 14,
    "start_time": "2022-10-05T10:30:07.657Z"
   },
   {
    "duration": 23,
    "start_time": "2022-10-05T10:30:29.017Z"
   },
   {
    "duration": 17,
    "start_time": "2022-10-05T10:30:29.248Z"
   },
   {
    "duration": 5,
    "start_time": "2022-10-05T10:30:29.440Z"
   },
   {
    "duration": 32,
    "start_time": "2022-10-05T10:30:29.842Z"
   },
   {
    "duration": 1189,
    "start_time": "2022-10-05T10:30:30.047Z"
   },
   {
    "duration": 0,
    "start_time": "2022-10-05T10:30:31.238Z"
   },
   {
    "duration": 284,
    "start_time": "2022-10-05T10:30:39.921Z"
   },
   {
    "duration": 10,
    "start_time": "2022-10-05T10:31:42.956Z"
   },
   {
    "duration": 23,
    "start_time": "2022-10-05T10:32:04.336Z"
   },
   {
    "duration": 17,
    "start_time": "2022-10-05T10:32:04.619Z"
   },
   {
    "duration": 4,
    "start_time": "2022-10-05T10:32:04.789Z"
   },
   {
    "duration": 30,
    "start_time": "2022-10-05T10:32:04.975Z"
   },
   {
    "duration": 4,
    "start_time": "2022-10-05T10:33:40.019Z"
   },
   {
    "duration": 15,
    "start_time": "2022-10-05T10:33:44.998Z"
   },
   {
    "duration": 4,
    "start_time": "2022-10-05T10:34:56.194Z"
   },
   {
    "duration": 15,
    "start_time": "2022-10-05T10:34:57.663Z"
   },
   {
    "duration": 5,
    "start_time": "2022-10-05T10:35:07.217Z"
   },
   {
    "duration": 14,
    "start_time": "2022-10-05T10:35:07.521Z"
   },
   {
    "duration": 23,
    "start_time": "2022-10-05T10:35:10.966Z"
   },
   {
    "duration": 16,
    "start_time": "2022-10-05T10:35:11.117Z"
   },
   {
    "duration": 5,
    "start_time": "2022-10-05T10:35:11.254Z"
   },
   {
    "duration": 30,
    "start_time": "2022-10-05T10:35:11.372Z"
   },
   {
    "duration": 4,
    "start_time": "2022-10-05T10:35:11.495Z"
   },
   {
    "duration": 16,
    "start_time": "2022-10-05T10:35:11.649Z"
   },
   {
    "duration": 4,
    "start_time": "2022-10-05T10:35:24.302Z"
   },
   {
    "duration": 14,
    "start_time": "2022-10-05T10:35:24.831Z"
   },
   {
    "duration": 11,
    "start_time": "2022-10-05T10:35:49.012Z"
   },
   {
    "duration": 14,
    "start_time": "2022-10-05T10:35:57.959Z"
   },
   {
    "duration": 4,
    "start_time": "2022-10-05T10:36:18.678Z"
   },
   {
    "duration": 13,
    "start_time": "2022-10-05T10:37:21.753Z"
   },
   {
    "duration": 7,
    "start_time": "2022-10-05T10:37:51.018Z"
   },
   {
    "duration": 10,
    "start_time": "2022-10-05T10:44:53.693Z"
   },
   {
    "duration": 8,
    "start_time": "2022-10-05T10:51:43.426Z"
   },
   {
    "duration": 8,
    "start_time": "2022-10-05T10:51:53.873Z"
   },
   {
    "duration": 13,
    "start_time": "2022-10-05T10:58:20.451Z"
   },
   {
    "duration": 12,
    "start_time": "2022-10-05T11:00:33.690Z"
   },
   {
    "duration": 15,
    "start_time": "2022-10-05T11:01:14.503Z"
   },
   {
    "duration": 24,
    "start_time": "2022-10-05T11:01:51.412Z"
   },
   {
    "duration": 24,
    "start_time": "2022-10-05T11:04:53.916Z"
   },
   {
    "duration": 17,
    "start_time": "2022-10-05T11:04:54.149Z"
   },
   {
    "duration": 7,
    "start_time": "2022-10-05T11:04:54.324Z"
   },
   {
    "duration": 32,
    "start_time": "2022-10-05T11:04:54.506Z"
   },
   {
    "duration": 6,
    "start_time": "2022-10-05T11:04:54.706Z"
   },
   {
    "duration": 2,
    "start_time": "2022-10-05T11:04:54.860Z"
   },
   {
    "duration": 8,
    "start_time": "2022-10-05T11:04:55.974Z"
   },
   {
    "duration": 9,
    "start_time": "2022-10-05T11:05:17.820Z"
   },
   {
    "duration": 32,
    "start_time": "2022-10-05T11:06:19.046Z"
   },
   {
    "duration": 17,
    "start_time": "2022-10-05T11:06:19.206Z"
   },
   {
    "duration": 5,
    "start_time": "2022-10-05T11:06:19.364Z"
   },
   {
    "duration": 36,
    "start_time": "2022-10-05T11:06:19.491Z"
   },
   {
    "duration": 5,
    "start_time": "2022-10-05T11:06:19.645Z"
   },
   {
    "duration": 8,
    "start_time": "2022-10-05T11:06:20.206Z"
   },
   {
    "duration": 9,
    "start_time": "2022-10-05T11:06:30.440Z"
   },
   {
    "duration": 9,
    "start_time": "2022-10-05T11:07:48.576Z"
   },
   {
    "duration": 7,
    "start_time": "2022-10-05T11:07:55.479Z"
   },
   {
    "duration": 7,
    "start_time": "2022-10-05T11:08:43.662Z"
   },
   {
    "duration": 24,
    "start_time": "2022-10-05T11:09:25.186Z"
   },
   {
    "duration": 19,
    "start_time": "2022-10-05T11:09:25.485Z"
   },
   {
    "duration": 5,
    "start_time": "2022-10-05T11:09:25.674Z"
   },
   {
    "duration": 31,
    "start_time": "2022-10-05T11:09:25.827Z"
   },
   {
    "duration": 6,
    "start_time": "2022-10-05T11:09:25.993Z"
   },
   {
    "duration": 9,
    "start_time": "2022-10-05T11:09:26.337Z"
   },
   {
    "duration": 16,
    "start_time": "2022-10-05T11:09:26.836Z"
   },
   {
    "duration": 26,
    "start_time": "2022-10-05T11:09:27.119Z"
   },
   {
    "duration": 8,
    "start_time": "2022-10-05T11:09:27.565Z"
   },
   {
    "duration": 12,
    "start_time": "2022-10-05T11:10:16.246Z"
   },
   {
    "duration": 7,
    "start_time": "2022-10-05T11:10:27.520Z"
   },
   {
    "duration": 6,
    "start_time": "2022-10-05T11:10:38.878Z"
   },
   {
    "duration": 22,
    "start_time": "2022-10-05T11:11:03.715Z"
   },
   {
    "duration": 6,
    "start_time": "2022-10-05T11:12:29.946Z"
   },
   {
    "duration": 7,
    "start_time": "2022-10-05T11:14:03.545Z"
   },
   {
    "duration": 9,
    "start_time": "2022-10-05T11:15:01.664Z"
   },
   {
    "duration": 14,
    "start_time": "2022-10-05T11:16:23.107Z"
   },
   {
    "duration": 90,
    "start_time": "2022-10-05T11:17:07.078Z"
   },
   {
    "duration": 14,
    "start_time": "2022-10-05T11:18:15.022Z"
   },
   {
    "duration": 8,
    "start_time": "2022-10-05T11:18:20.905Z"
   },
   {
    "duration": 7,
    "start_time": "2022-10-05T11:18:45.466Z"
   },
   {
    "duration": 11,
    "start_time": "2022-10-05T11:19:15.818Z"
   },
   {
    "duration": 7,
    "start_time": "2022-10-05T11:19:23.713Z"
   },
   {
    "duration": 7,
    "start_time": "2022-10-05T11:21:02.242Z"
   },
   {
    "duration": 8,
    "start_time": "2022-10-05T11:23:32.469Z"
   },
   {
    "duration": 7,
    "start_time": "2022-10-05T11:24:17.773Z"
   },
   {
    "duration": 9,
    "start_time": "2022-10-05T11:25:18.367Z"
   },
   {
    "duration": 8,
    "start_time": "2022-10-05T11:25:29.334Z"
   },
   {
    "duration": 6,
    "start_time": "2022-10-05T11:26:06.692Z"
   },
   {
    "duration": 9,
    "start_time": "2022-10-05T11:27:18.402Z"
   },
   {
    "duration": 7,
    "start_time": "2022-10-05T11:27:27.079Z"
   },
   {
    "duration": 19,
    "start_time": "2022-10-05T11:27:35.666Z"
   },
   {
    "duration": 11,
    "start_time": "2022-10-05T11:27:48.590Z"
   },
   {
    "duration": 1197,
    "start_time": "2022-10-05T11:27:56.559Z"
   },
   {
    "duration": 610,
    "start_time": "2022-10-05T11:27:57.758Z"
   },
   {
    "duration": 4,
    "start_time": "2022-10-05T11:27:58.369Z"
   },
   {
    "duration": 39,
    "start_time": "2022-10-05T11:27:58.375Z"
   },
   {
    "duration": 29,
    "start_time": "2022-10-05T11:27:58.416Z"
   },
   {
    "duration": 24,
    "start_time": "2022-10-05T11:27:58.446Z"
   },
   {
    "duration": 58,
    "start_time": "2022-10-05T11:27:58.472Z"
   },
   {
    "duration": 94,
    "start_time": "2022-10-05T11:27:58.532Z"
   },
   {
    "duration": 24,
    "start_time": "2022-10-05T11:27:58.629Z"
   },
   {
    "duration": 86,
    "start_time": "2022-10-05T11:27:58.658Z"
   },
   {
    "duration": 93,
    "start_time": "2022-10-05T11:27:58.746Z"
   },
   {
    "duration": 61,
    "start_time": "2022-10-05T11:27:58.841Z"
   },
   {
    "duration": 52,
    "start_time": "2022-10-05T11:27:58.904Z"
   },
   {
    "duration": 23,
    "start_time": "2022-10-05T11:27:58.958Z"
   },
   {
    "duration": 28,
    "start_time": "2022-10-05T11:27:58.983Z"
   },
   {
    "duration": 22,
    "start_time": "2022-10-05T11:27:59.014Z"
   },
   {
    "duration": 27,
    "start_time": "2022-10-05T11:27:59.039Z"
   },
   {
    "duration": 33,
    "start_time": "2022-10-05T11:27:59.069Z"
   },
   {
    "duration": 30,
    "start_time": "2022-10-05T11:27:59.105Z"
   },
   {
    "duration": 50,
    "start_time": "2022-10-05T11:27:59.138Z"
   },
   {
    "duration": 192,
    "start_time": "2022-10-05T11:27:59.190Z"
   },
   {
    "duration": 210,
    "start_time": "2022-10-05T11:27:59.384Z"
   },
   {
    "duration": 355,
    "start_time": "2022-10-05T11:27:59.596Z"
   },
   {
    "duration": 12,
    "start_time": "2022-10-05T11:27:59.952Z"
   },
   {
    "duration": 29,
    "start_time": "2022-10-05T11:27:59.966Z"
   },
   {
    "duration": 44,
    "start_time": "2022-10-05T11:27:59.996Z"
   },
   {
    "duration": 168,
    "start_time": "2022-10-05T11:28:00.042Z"
   },
   {
    "duration": 141,
    "start_time": "2022-10-05T11:28:00.214Z"
   },
   {
    "duration": 6,
    "start_time": "2022-10-05T11:28:00.356Z"
   },
   {
    "duration": 195,
    "start_time": "2022-10-05T11:28:00.363Z"
   },
   {
    "duration": 152,
    "start_time": "2022-10-05T11:28:00.560Z"
   },
   {
    "duration": 33674,
    "start_time": "2022-10-05T11:28:00.714Z"
   },
   {
    "duration": 15,
    "start_time": "2022-10-05T11:28:34.389Z"
   },
   {
    "duration": 76,
    "start_time": "2022-10-05T11:28:34.405Z"
   },
   {
    "duration": 697,
    "start_time": "2022-10-05T11:28:34.483Z"
   },
   {
    "duration": 197,
    "start_time": "2022-10-05T11:28:35.182Z"
   },
   {
    "duration": 61,
    "start_time": "2022-10-05T11:28:35.381Z"
   },
   {
    "duration": 213,
    "start_time": "2022-10-05T11:28:35.444Z"
   },
   {
    "duration": 158,
    "start_time": "2022-10-05T11:28:35.659Z"
   },
   {
    "duration": 57,
    "start_time": "2022-10-05T11:28:35.819Z"
   },
   {
    "duration": 9,
    "start_time": "2022-10-05T11:28:35.877Z"
   },
   {
    "duration": 65,
    "start_time": "2022-10-05T11:28:35.888Z"
   },
   {
    "duration": 10,
    "start_time": "2022-10-05T11:28:35.956Z"
   },
   {
    "duration": 31,
    "start_time": "2022-10-05T11:28:35.968Z"
   },
   {
    "duration": 58,
    "start_time": "2022-10-05T11:28:36.001Z"
   },
   {
    "duration": 22,
    "start_time": "2022-10-05T11:28:36.061Z"
   },
   {
    "duration": 62,
    "start_time": "2022-10-05T11:28:36.085Z"
   },
   {
    "duration": 5,
    "start_time": "2022-10-05T11:28:36.149Z"
   },
   {
    "duration": 29,
    "start_time": "2022-10-05T11:28:36.156Z"
   },
   {
    "duration": 28,
    "start_time": "2022-10-05T11:28:36.187Z"
   },
   {
    "duration": 21,
    "start_time": "2022-10-05T11:28:36.217Z"
   },
   {
    "duration": 21,
    "start_time": "2022-10-05T11:28:36.240Z"
   },
   {
    "duration": 8,
    "start_time": "2022-10-05T11:28:36.263Z"
   },
   {
    "duration": 8,
    "start_time": "2022-10-05T11:29:11.420Z"
   },
   {
    "duration": 8,
    "start_time": "2022-10-05T11:29:21.989Z"
   },
   {
    "duration": 18,
    "start_time": "2022-10-05T11:29:54.849Z"
   },
   {
    "duration": 8,
    "start_time": "2022-10-05T11:29:59.485Z"
   },
   {
    "duration": 16,
    "start_time": "2022-10-05T11:30:01.336Z"
   },
   {
    "duration": 25,
    "start_time": "2022-10-05T11:30:02.321Z"
   },
   {
    "duration": 8,
    "start_time": "2022-10-05T11:30:04.088Z"
   },
   {
    "duration": 35,
    "start_time": "2022-10-05T11:30:19.821Z"
   },
   {
    "duration": 11,
    "start_time": "2022-10-05T11:30:19.983Z"
   },
   {
    "duration": 49,
    "start_time": "2022-10-05T11:30:20.141Z"
   },
   {
    "duration": 10,
    "start_time": "2022-10-05T11:30:20.398Z"
   },
   {
    "duration": 22,
    "start_time": "2022-10-05T11:30:20.923Z"
   },
   {
    "duration": 17,
    "start_time": "2022-10-05T11:30:21.154Z"
   },
   {
    "duration": 5,
    "start_time": "2022-10-05T11:30:21.357Z"
   },
   {
    "duration": 31,
    "start_time": "2022-10-05T11:30:21.495Z"
   },
   {
    "duration": 7,
    "start_time": "2022-10-05T11:30:21.801Z"
   },
   {
    "duration": 17,
    "start_time": "2022-10-05T11:30:21.984Z"
   },
   {
    "duration": 8,
    "start_time": "2022-10-05T11:30:22.417Z"
   },
   {
    "duration": 13,
    "start_time": "2022-10-05T11:30:23.124Z"
   },
   {
    "duration": 16,
    "start_time": "2022-10-05T11:30:23.312Z"
   },
   {
    "duration": 2023,
    "start_time": "2022-10-05T11:30:24.302Z"
   },
   {
    "duration": 18,
    "start_time": "2022-10-05T11:30:44.655Z"
   },
   {
    "duration": 24,
    "start_time": "2022-10-05T11:30:44.917Z"
   },
   {
    "duration": 8,
    "start_time": "2022-10-05T11:30:45.355Z"
   },
   {
    "duration": 13,
    "start_time": "2022-10-05T11:31:17.253Z"
   },
   {
    "duration": 7,
    "start_time": "2022-10-05T11:32:35.603Z"
   },
   {
    "duration": 7,
    "start_time": "2022-10-05T11:33:01.261Z"
   },
   {
    "duration": 8,
    "start_time": "2022-10-05T11:33:05.928Z"
   },
   {
    "duration": 3,
    "start_time": "2022-10-05T11:35:39.928Z"
   },
   {
    "duration": 5,
    "start_time": "2022-10-05T11:35:46.748Z"
   },
   {
    "duration": 11,
    "start_time": "2022-10-05T11:35:57.075Z"
   },
   {
    "duration": 14,
    "start_time": "2022-10-05T11:36:46.803Z"
   },
   {
    "duration": 16,
    "start_time": "2022-10-05T11:37:04.962Z"
   },
   {
    "duration": 15,
    "start_time": "2022-10-05T11:37:11.494Z"
   },
   {
    "duration": 4,
    "start_time": "2022-10-05T11:37:52.228Z"
   },
   {
    "duration": 8,
    "start_time": "2022-10-05T11:37:54.539Z"
   },
   {
    "duration": 8,
    "start_time": "2022-10-05T11:39:15.158Z"
   },
   {
    "duration": 7,
    "start_time": "2022-10-05T11:39:25.517Z"
   },
   {
    "duration": 7,
    "start_time": "2022-10-05T11:39:32.074Z"
   },
   {
    "duration": 10,
    "start_time": "2022-10-05T11:40:07.170Z"
   },
   {
    "duration": 8,
    "start_time": "2022-10-05T11:44:23.100Z"
   },
   {
    "duration": 9,
    "start_time": "2022-10-05T11:45:23.860Z"
   },
   {
    "duration": 10,
    "start_time": "2022-10-05T11:46:51.725Z"
   },
   {
    "duration": 9,
    "start_time": "2022-10-05T11:46:59.699Z"
   },
   {
    "duration": 8,
    "start_time": "2022-10-05T11:47:08.020Z"
   },
   {
    "duration": 10,
    "start_time": "2022-10-05T11:47:11.092Z"
   },
   {
    "duration": 7,
    "start_time": "2022-10-05T11:47:31.406Z"
   },
   {
    "duration": 6,
    "start_time": "2022-10-05T11:47:41.186Z"
   },
   {
    "duration": 6,
    "start_time": "2022-10-05T11:47:49.571Z"
   },
   {
    "duration": 5,
    "start_time": "2022-10-05T11:47:57.596Z"
   },
   {
    "duration": 9,
    "start_time": "2022-10-05T11:48:08.899Z"
   },
   {
    "duration": 9,
    "start_time": "2022-10-05T11:48:13.346Z"
   },
   {
    "duration": 32,
    "start_time": "2022-10-05T11:49:11.582Z"
   },
   {
    "duration": 8,
    "start_time": "2022-10-05T11:49:12.941Z"
   },
   {
    "duration": 7,
    "start_time": "2022-10-05T11:49:35.215Z"
   },
   {
    "duration": 27,
    "start_time": "2022-10-05T11:49:47.564Z"
   },
   {
    "duration": 6,
    "start_time": "2022-10-05T11:51:06.459Z"
   },
   {
    "duration": 6,
    "start_time": "2022-10-05T11:51:14.797Z"
   },
   {
    "duration": 6,
    "start_time": "2022-10-05T11:51:29.712Z"
   },
   {
    "duration": 8,
    "start_time": "2022-10-05T11:52:43.329Z"
   },
   {
    "duration": 7,
    "start_time": "2022-10-05T11:52:52.816Z"
   },
   {
    "duration": 8,
    "start_time": "2022-10-05T11:52:56.376Z"
   },
   {
    "duration": 8,
    "start_time": "2022-10-05T11:53:00.177Z"
   },
   {
    "duration": 7,
    "start_time": "2022-10-05T11:53:07.492Z"
   },
   {
    "duration": 17,
    "start_time": "2022-10-05T11:56:29.526Z"
   },
   {
    "duration": 46,
    "start_time": "2022-10-05T11:59:31.349Z"
   },
   {
    "duration": 1110,
    "start_time": "2022-10-05T11:59:35.611Z"
   },
   {
    "duration": 614,
    "start_time": "2022-10-05T11:59:36.723Z"
   },
   {
    "duration": 4,
    "start_time": "2022-10-05T11:59:37.339Z"
   },
   {
    "duration": 31,
    "start_time": "2022-10-05T11:59:37.345Z"
   },
   {
    "duration": 12,
    "start_time": "2022-10-05T11:59:37.378Z"
   },
   {
    "duration": 12,
    "start_time": "2022-10-05T11:59:37.392Z"
   },
   {
    "duration": 53,
    "start_time": "2022-10-05T11:59:37.406Z"
   },
   {
    "duration": 80,
    "start_time": "2022-10-05T11:59:37.462Z"
   },
   {
    "duration": 24,
    "start_time": "2022-10-05T11:59:37.544Z"
   },
   {
    "duration": 68,
    "start_time": "2022-10-05T11:59:37.571Z"
   },
   {
    "duration": 66,
    "start_time": "2022-10-05T11:59:37.641Z"
   },
   {
    "duration": 64,
    "start_time": "2022-10-05T11:59:37.709Z"
   },
   {
    "duration": 36,
    "start_time": "2022-10-05T11:59:37.775Z"
   },
   {
    "duration": 14,
    "start_time": "2022-10-05T11:59:37.812Z"
   },
   {
    "duration": 11,
    "start_time": "2022-10-05T11:59:37.839Z"
   },
   {
    "duration": 7,
    "start_time": "2022-10-05T11:59:37.852Z"
   },
   {
    "duration": 11,
    "start_time": "2022-10-05T11:59:37.861Z"
   },
   {
    "duration": 11,
    "start_time": "2022-10-05T11:59:37.873Z"
   },
   {
    "duration": 18,
    "start_time": "2022-10-05T11:59:37.885Z"
   },
   {
    "duration": 54,
    "start_time": "2022-10-05T11:59:37.904Z"
   },
   {
    "duration": 137,
    "start_time": "2022-10-05T11:59:37.960Z"
   },
   {
    "duration": 162,
    "start_time": "2022-10-05T11:59:38.099Z"
   },
   {
    "duration": 358,
    "start_time": "2022-10-05T11:59:38.263Z"
   },
   {
    "duration": 22,
    "start_time": "2022-10-05T11:59:38.623Z"
   },
   {
    "duration": 12,
    "start_time": "2022-10-05T11:59:38.647Z"
   },
   {
    "duration": 12,
    "start_time": "2022-10-05T11:59:38.661Z"
   },
   {
    "duration": 150,
    "start_time": "2022-10-05T11:59:38.674Z"
   },
   {
    "duration": 140,
    "start_time": "2022-10-05T11:59:38.827Z"
   },
   {
    "duration": 5,
    "start_time": "2022-10-05T11:59:38.969Z"
   },
   {
    "duration": 143,
    "start_time": "2022-10-05T11:59:38.975Z"
   },
   {
    "duration": 131,
    "start_time": "2022-10-05T11:59:39.120Z"
   },
   {
    "duration": 30954,
    "start_time": "2022-10-05T11:59:39.253Z"
   },
   {
    "duration": 13,
    "start_time": "2022-10-05T12:00:10.208Z"
   },
   {
    "duration": 74,
    "start_time": "2022-10-05T12:00:10.222Z"
   },
   {
    "duration": 599,
    "start_time": "2022-10-05T12:00:10.298Z"
   },
   {
    "duration": 155,
    "start_time": "2022-10-05T12:00:10.899Z"
   },
   {
    "duration": 40,
    "start_time": "2022-10-05T12:00:11.056Z"
   },
   {
    "duration": 161,
    "start_time": "2022-10-05T12:00:11.098Z"
   },
   {
    "duration": 145,
    "start_time": "2022-10-05T12:00:11.261Z"
   },
   {
    "duration": 51,
    "start_time": "2022-10-05T12:00:11.407Z"
   },
   {
    "duration": 7,
    "start_time": "2022-10-05T12:00:11.459Z"
   },
   {
    "duration": 61,
    "start_time": "2022-10-05T12:00:11.467Z"
   },
   {
    "duration": 9,
    "start_time": "2022-10-05T12:00:11.530Z"
   },
   {
    "duration": 48,
    "start_time": "2022-10-05T12:00:11.541Z"
   },
   {
    "duration": 20,
    "start_time": "2022-10-05T12:00:11.591Z"
   },
   {
    "duration": 20,
    "start_time": "2022-10-05T12:00:11.613Z"
   },
   {
    "duration": 54,
    "start_time": "2022-10-05T12:00:11.634Z"
   },
   {
    "duration": 5,
    "start_time": "2022-10-05T12:00:11.689Z"
   },
   {
    "duration": 68,
    "start_time": "2022-10-05T12:00:11.695Z"
   },
   {
    "duration": 29,
    "start_time": "2022-10-05T12:00:11.765Z"
   },
   {
    "duration": 39,
    "start_time": "2022-10-05T12:00:11.796Z"
   },
   {
    "duration": 22,
    "start_time": "2022-10-05T12:00:11.837Z"
   },
   {
    "duration": 28,
    "start_time": "2022-10-05T12:00:11.861Z"
   },
   {
    "duration": 17,
    "start_time": "2022-10-05T12:00:57.571Z"
   },
   {
    "duration": 18,
    "start_time": "2022-10-05T12:01:06.900Z"
   },
   {
    "duration": 95,
    "start_time": "2022-10-05T12:01:23.565Z"
   },
   {
    "duration": 7,
    "start_time": "2022-10-05T12:01:28.142Z"
   },
   {
    "duration": 6,
    "start_time": "2022-10-05T12:02:56.505Z"
   },
   {
    "duration": 7,
    "start_time": "2022-10-05T12:03:37.855Z"
   },
   {
    "duration": 7,
    "start_time": "2022-10-05T12:03:56.553Z"
   },
   {
    "duration": 8,
    "start_time": "2022-10-05T12:04:01.382Z"
   },
   {
    "duration": 7,
    "start_time": "2022-10-05T12:04:13.918Z"
   },
   {
    "duration": 8,
    "start_time": "2022-10-05T12:05:22.156Z"
   },
   {
    "duration": 12,
    "start_time": "2022-10-05T12:06:10.054Z"
   },
   {
    "duration": 10,
    "start_time": "2022-10-05T12:06:16.763Z"
   },
   {
    "duration": 13,
    "start_time": "2022-10-05T12:06:27.315Z"
   },
   {
    "duration": 7,
    "start_time": "2022-10-05T12:06:43.798Z"
   },
   {
    "duration": 7,
    "start_time": "2022-10-05T12:07:18.059Z"
   },
   {
    "duration": 1402,
    "start_time": "2022-10-05T14:18:52.966Z"
   },
   {
    "duration": 625,
    "start_time": "2022-10-05T14:18:54.370Z"
   },
   {
    "duration": 5,
    "start_time": "2022-10-05T14:18:54.996Z"
   },
   {
    "duration": 17,
    "start_time": "2022-10-05T14:18:55.002Z"
   },
   {
    "duration": 7,
    "start_time": "2022-10-05T14:18:55.021Z"
   },
   {
    "duration": 16,
    "start_time": "2022-10-05T14:18:55.030Z"
   },
   {
    "duration": 43,
    "start_time": "2022-10-05T14:18:55.048Z"
   },
   {
    "duration": 73,
    "start_time": "2022-10-05T14:18:55.093Z"
   },
   {
    "duration": 19,
    "start_time": "2022-10-05T14:18:55.167Z"
   },
   {
    "duration": 83,
    "start_time": "2022-10-05T14:18:55.188Z"
   },
   {
    "duration": 81,
    "start_time": "2022-10-05T14:18:55.272Z"
   },
   {
    "duration": 57,
    "start_time": "2022-10-05T14:18:55.356Z"
   },
   {
    "duration": 63,
    "start_time": "2022-10-05T14:18:55.415Z"
   },
   {
    "duration": 12,
    "start_time": "2022-10-05T14:18:55.481Z"
   },
   {
    "duration": 14,
    "start_time": "2022-10-05T14:18:55.495Z"
   },
   {
    "duration": 7,
    "start_time": "2022-10-05T14:18:55.510Z"
   },
   {
    "duration": 31,
    "start_time": "2022-10-05T14:18:55.519Z"
   },
   {
    "duration": 18,
    "start_time": "2022-10-05T14:18:55.552Z"
   },
   {
    "duration": 22,
    "start_time": "2022-10-05T14:18:55.571Z"
   },
   {
    "duration": 67,
    "start_time": "2022-10-05T14:18:55.595Z"
   },
   {
    "duration": 162,
    "start_time": "2022-10-05T14:18:55.664Z"
   },
   {
    "duration": 168,
    "start_time": "2022-10-05T14:18:55.833Z"
   },
   {
    "duration": 423,
    "start_time": "2022-10-05T14:18:56.003Z"
   },
   {
    "duration": 26,
    "start_time": "2022-10-05T14:18:56.428Z"
   },
   {
    "duration": 43,
    "start_time": "2022-10-05T14:18:56.456Z"
   },
   {
    "duration": 20,
    "start_time": "2022-10-05T14:18:56.501Z"
   },
   {
    "duration": 140,
    "start_time": "2022-10-05T14:18:56.523Z"
   },
   {
    "duration": 150,
    "start_time": "2022-10-05T14:18:56.665Z"
   },
   {
    "duration": 5,
    "start_time": "2022-10-05T14:18:56.816Z"
   },
   {
    "duration": 175,
    "start_time": "2022-10-05T14:18:56.823Z"
   },
   {
    "duration": 160,
    "start_time": "2022-10-05T14:18:56.999Z"
   },
   {
    "duration": 33207,
    "start_time": "2022-10-05T14:18:57.162Z"
   },
   {
    "duration": 14,
    "start_time": "2022-10-05T14:19:30.371Z"
   },
   {
    "duration": 73,
    "start_time": "2022-10-05T14:19:30.387Z"
   },
   {
    "duration": 724,
    "start_time": "2022-10-05T14:19:30.464Z"
   },
   {
    "duration": 184,
    "start_time": "2022-10-05T14:19:31.190Z"
   },
   {
    "duration": 42,
    "start_time": "2022-10-05T14:19:31.376Z"
   },
   {
    "duration": 179,
    "start_time": "2022-10-05T14:19:31.433Z"
   },
   {
    "duration": 163,
    "start_time": "2022-10-05T14:19:31.614Z"
   },
   {
    "duration": 44,
    "start_time": "2022-10-05T14:19:31.779Z"
   },
   {
    "duration": 15,
    "start_time": "2022-10-05T14:19:31.838Z"
   },
   {
    "duration": 45,
    "start_time": "2022-10-05T14:19:31.855Z"
   },
   {
    "duration": 9,
    "start_time": "2022-10-05T14:19:31.902Z"
   },
   {
    "duration": 51,
    "start_time": "2022-10-05T14:19:31.912Z"
   },
   {
    "duration": 15,
    "start_time": "2022-10-05T14:19:31.965Z"
   },
   {
    "duration": 5,
    "start_time": "2022-10-05T14:19:31.982Z"
   },
   {
    "duration": 62,
    "start_time": "2022-10-05T14:19:31.989Z"
   },
   {
    "duration": 6,
    "start_time": "2022-10-05T14:19:32.053Z"
   },
   {
    "duration": 24,
    "start_time": "2022-10-05T14:19:32.060Z"
   },
   {
    "duration": 12,
    "start_time": "2022-10-05T14:19:32.085Z"
   },
   {
    "duration": 17,
    "start_time": "2022-10-05T14:19:32.098Z"
   },
   {
    "duration": 36,
    "start_time": "2022-10-05T14:19:32.117Z"
   },
   {
    "duration": 10,
    "start_time": "2022-10-05T14:19:32.154Z"
   },
   {
    "duration": 1824,
    "start_time": "2022-10-06T06:34:49.389Z"
   },
   {
    "duration": 723,
    "start_time": "2022-10-06T06:34:51.216Z"
   },
   {
    "duration": 4,
    "start_time": "2022-10-06T06:34:51.942Z"
   },
   {
    "duration": 45,
    "start_time": "2022-10-06T06:34:51.948Z"
   },
   {
    "duration": 43,
    "start_time": "2022-10-06T06:34:51.996Z"
   },
   {
    "duration": 53,
    "start_time": "2022-10-06T06:34:52.041Z"
   },
   {
    "duration": 78,
    "start_time": "2022-10-06T06:34:52.096Z"
   },
   {
    "duration": 116,
    "start_time": "2022-10-06T06:34:52.178Z"
   },
   {
    "duration": 28,
    "start_time": "2022-10-06T06:34:52.296Z"
   },
   {
    "duration": 86,
    "start_time": "2022-10-06T06:34:52.326Z"
   },
   {
    "duration": 133,
    "start_time": "2022-10-06T06:34:52.414Z"
   },
   {
    "duration": 74,
    "start_time": "2022-10-06T06:34:52.550Z"
   },
   {
    "duration": 70,
    "start_time": "2022-10-06T06:34:52.626Z"
   },
   {
    "duration": 18,
    "start_time": "2022-10-06T06:34:52.700Z"
   },
   {
    "duration": 27,
    "start_time": "2022-10-06T06:34:52.720Z"
   },
   {
    "duration": 18,
    "start_time": "2022-10-06T06:34:52.749Z"
   },
   {
    "duration": 24,
    "start_time": "2022-10-06T06:34:52.770Z"
   },
   {
    "duration": 18,
    "start_time": "2022-10-06T06:34:52.796Z"
   },
   {
    "duration": 28,
    "start_time": "2022-10-06T06:34:52.816Z"
   },
   {
    "duration": 61,
    "start_time": "2022-10-06T06:34:52.846Z"
   },
   {
    "duration": 170,
    "start_time": "2022-10-06T06:34:52.909Z"
   },
   {
    "duration": 211,
    "start_time": "2022-10-06T06:34:53.081Z"
   },
   {
    "duration": 413,
    "start_time": "2022-10-06T06:34:53.294Z"
   },
   {
    "duration": 13,
    "start_time": "2022-10-06T06:34:53.709Z"
   },
   {
    "duration": 14,
    "start_time": "2022-10-06T06:34:53.724Z"
   },
   {
    "duration": 7,
    "start_time": "2022-10-06T06:34:53.741Z"
   },
   {
    "duration": 184,
    "start_time": "2022-10-06T06:34:53.750Z"
   },
   {
    "duration": 148,
    "start_time": "2022-10-06T06:34:53.935Z"
   },
   {
    "duration": 8,
    "start_time": "2022-10-06T06:34:54.085Z"
   },
   {
    "duration": 185,
    "start_time": "2022-10-06T06:34:54.095Z"
   },
   {
    "duration": 159,
    "start_time": "2022-10-06T06:34:54.282Z"
   },
   {
    "duration": 38371,
    "start_time": "2022-10-06T06:34:54.443Z"
   },
   {
    "duration": 17,
    "start_time": "2022-10-06T06:35:32.816Z"
   },
   {
    "duration": 118,
    "start_time": "2022-10-06T06:35:32.835Z"
   },
   {
    "duration": 711,
    "start_time": "2022-10-06T06:35:32.955Z"
   },
   {
    "duration": 188,
    "start_time": "2022-10-06T06:35:33.668Z"
   },
   {
    "duration": 67,
    "start_time": "2022-10-06T06:35:33.858Z"
   },
   {
    "duration": 185,
    "start_time": "2022-10-06T06:35:33.928Z"
   },
   {
    "duration": 204,
    "start_time": "2022-10-06T06:35:34.115Z"
   },
   {
    "duration": 50,
    "start_time": "2022-10-06T06:35:34.323Z"
   },
   {
    "duration": 12,
    "start_time": "2022-10-06T06:35:34.388Z"
   },
   {
    "duration": 52,
    "start_time": "2022-10-06T06:35:34.402Z"
   },
   {
    "duration": 33,
    "start_time": "2022-10-06T06:35:34.456Z"
   },
   {
    "duration": 32,
    "start_time": "2022-10-06T06:35:34.491Z"
   },
   {
    "duration": 20,
    "start_time": "2022-10-06T06:35:34.524Z"
   },
   {
    "duration": 6,
    "start_time": "2022-10-06T06:35:34.546Z"
   },
   {
    "duration": 64,
    "start_time": "2022-10-06T06:35:34.554Z"
   },
   {
    "duration": 6,
    "start_time": "2022-10-06T06:35:34.620Z"
   },
   {
    "duration": 22,
    "start_time": "2022-10-06T06:35:34.628Z"
   },
   {
    "duration": 10,
    "start_time": "2022-10-06T06:35:34.652Z"
   },
   {
    "duration": 48,
    "start_time": "2022-10-06T06:35:34.664Z"
   },
   {
    "duration": 28,
    "start_time": "2022-10-06T06:35:34.715Z"
   },
   {
    "duration": 10,
    "start_time": "2022-10-06T06:35:34.745Z"
   },
   {
    "duration": 10,
    "start_time": "2022-10-06T06:36:29.074Z"
   },
   {
    "duration": 224,
    "start_time": "2022-10-06T06:37:06.913Z"
   },
   {
    "duration": 9,
    "start_time": "2022-10-06T06:44:29.496Z"
   },
   {
    "duration": 9,
    "start_time": "2022-10-06T06:44:49.277Z"
   },
   {
    "duration": 14,
    "start_time": "2022-10-06T06:45:02.965Z"
   },
   {
    "duration": 30,
    "start_time": "2022-10-06T06:47:02.375Z"
   },
   {
    "duration": 51,
    "start_time": "2022-10-06T06:47:51.424Z"
   },
   {
    "duration": 17,
    "start_time": "2022-10-06T06:48:00.607Z"
   },
   {
    "duration": 292,
    "start_time": "2022-10-06T06:49:10.213Z"
   },
   {
    "duration": 272,
    "start_time": "2022-10-06T06:50:26.701Z"
   },
   {
    "duration": 290,
    "start_time": "2022-10-06T06:50:44.670Z"
   },
   {
    "duration": 15,
    "start_time": "2022-10-06T06:52:22.784Z"
   },
   {
    "duration": 22,
    "start_time": "2022-10-06T06:54:09.235Z"
   },
   {
    "duration": 7,
    "start_time": "2022-10-06T07:01:08.725Z"
   },
   {
    "duration": 34,
    "start_time": "2022-10-06T07:01:39.979Z"
   },
   {
    "duration": 62,
    "start_time": "2022-10-06T07:06:40.753Z"
   },
   {
    "duration": 25,
    "start_time": "2022-10-06T07:06:50.719Z"
   },
   {
    "duration": 18,
    "start_time": "2022-10-06T07:06:56.509Z"
   },
   {
    "duration": 25,
    "start_time": "2022-10-06T07:07:24.819Z"
   },
   {
    "duration": 118,
    "start_time": "2022-10-06T07:07:40.914Z"
   },
   {
    "duration": 37,
    "start_time": "2022-10-06T07:07:45.777Z"
   },
   {
    "duration": 5,
    "start_time": "2022-10-06T07:09:38.714Z"
   },
   {
    "duration": 22,
    "start_time": "2022-10-06T07:09:43.397Z"
   },
   {
    "duration": 12,
    "start_time": "2022-10-06T07:12:10.822Z"
   },
   {
    "duration": 14,
    "start_time": "2022-10-06T07:17:53.209Z"
   },
   {
    "duration": 13,
    "start_time": "2022-10-06T07:18:12.054Z"
   },
   {
    "duration": 10,
    "start_time": "2022-10-06T07:18:52.183Z"
   },
   {
    "duration": 1321,
    "start_time": "2022-10-06T12:55:26.302Z"
   },
   {
    "duration": 553,
    "start_time": "2022-10-06T12:55:27.626Z"
   },
   {
    "duration": 4,
    "start_time": "2022-10-06T12:55:28.181Z"
   },
   {
    "duration": 18,
    "start_time": "2022-10-06T12:55:28.187Z"
   },
   {
    "duration": 7,
    "start_time": "2022-10-06T12:55:28.207Z"
   },
   {
    "duration": 8,
    "start_time": "2022-10-06T12:55:28.216Z"
   },
   {
    "duration": 31,
    "start_time": "2022-10-06T12:55:28.225Z"
   },
   {
    "duration": 63,
    "start_time": "2022-10-06T12:55:28.257Z"
   },
   {
    "duration": 17,
    "start_time": "2022-10-06T12:55:28.321Z"
   },
   {
    "duration": 64,
    "start_time": "2022-10-06T12:55:28.340Z"
   },
   {
    "duration": 61,
    "start_time": "2022-10-06T12:55:28.405Z"
   },
   {
    "duration": 62,
    "start_time": "2022-10-06T12:55:28.468Z"
   },
   {
    "duration": 36,
    "start_time": "2022-10-06T12:55:28.532Z"
   },
   {
    "duration": 9,
    "start_time": "2022-10-06T12:55:28.570Z"
   },
   {
    "duration": 10,
    "start_time": "2022-10-06T12:55:28.595Z"
   },
   {
    "duration": 10,
    "start_time": "2022-10-06T12:55:28.607Z"
   },
   {
    "duration": 10,
    "start_time": "2022-10-06T12:55:28.619Z"
   },
   {
    "duration": 8,
    "start_time": "2022-10-06T12:55:28.631Z"
   },
   {
    "duration": 17,
    "start_time": "2022-10-06T12:55:28.641Z"
   },
   {
    "duration": 51,
    "start_time": "2022-10-06T12:55:28.660Z"
   },
   {
    "duration": 150,
    "start_time": "2022-10-06T12:55:28.713Z"
   },
   {
    "duration": 157,
    "start_time": "2022-10-06T12:55:28.865Z"
   },
   {
    "duration": 316,
    "start_time": "2022-10-06T12:55:29.024Z"
   },
   {
    "duration": 10,
    "start_time": "2022-10-06T12:55:29.342Z"
   },
   {
    "duration": 10,
    "start_time": "2022-10-06T12:55:29.354Z"
   },
   {
    "duration": 6,
    "start_time": "2022-10-06T12:55:29.365Z"
   },
   {
    "duration": 135,
    "start_time": "2022-10-06T12:55:29.373Z"
   },
   {
    "duration": 124,
    "start_time": "2022-10-06T12:55:29.512Z"
   },
   {
    "duration": 5,
    "start_time": "2022-10-06T12:55:29.638Z"
   },
   {
    "duration": 144,
    "start_time": "2022-10-06T12:55:29.644Z"
   },
   {
    "duration": 139,
    "start_time": "2022-10-06T12:55:29.790Z"
   },
   {
    "duration": 31789,
    "start_time": "2022-10-06T12:55:29.931Z"
   },
   {
    "duration": 13,
    "start_time": "2022-10-06T12:56:01.722Z"
   },
   {
    "duration": 81,
    "start_time": "2022-10-06T12:56:01.737Z"
   },
   {
    "duration": 636,
    "start_time": "2022-10-06T12:56:01.819Z"
   },
   {
    "duration": 171,
    "start_time": "2022-10-06T12:56:02.456Z"
   },
   {
    "duration": 44,
    "start_time": "2022-10-06T12:56:02.629Z"
   },
   {
    "duration": 196,
    "start_time": "2022-10-06T12:56:02.675Z"
   },
   {
    "duration": 155,
    "start_time": "2022-10-06T12:56:02.873Z"
   },
   {
    "duration": 45,
    "start_time": "2022-10-06T12:56:03.029Z"
   },
   {
    "duration": 23,
    "start_time": "2022-10-06T12:56:03.075Z"
   },
   {
    "duration": 57,
    "start_time": "2022-10-06T12:56:03.100Z"
   },
   {
    "duration": 9,
    "start_time": "2022-10-06T12:56:03.159Z"
   },
   {
    "duration": 47,
    "start_time": "2022-10-06T12:56:03.170Z"
   },
   {
    "duration": 24,
    "start_time": "2022-10-06T12:56:03.219Z"
   },
   {
    "duration": 6,
    "start_time": "2022-10-06T12:56:03.245Z"
   },
   {
    "duration": 77,
    "start_time": "2022-10-06T12:56:03.252Z"
   },
   {
    "duration": 7,
    "start_time": "2022-10-06T12:56:03.332Z"
   },
   {
    "duration": 32,
    "start_time": "2022-10-06T12:56:03.340Z"
   },
   {
    "duration": 10,
    "start_time": "2022-10-06T12:56:03.374Z"
   },
   {
    "duration": 20,
    "start_time": "2022-10-06T12:56:03.386Z"
   },
   {
    "duration": 18,
    "start_time": "2022-10-06T12:56:03.408Z"
   },
   {
    "duration": 7,
    "start_time": "2022-10-06T12:56:03.427Z"
   },
   {
    "duration": 240,
    "start_time": "2022-10-06T12:56:03.436Z"
   },
   {
    "duration": 35,
    "start_time": "2022-10-06T12:56:03.677Z"
   },
   {
    "duration": 19,
    "start_time": "2022-10-06T12:56:03.713Z"
   },
   {
    "duration": 4,
    "start_time": "2022-10-06T12:56:03.733Z"
   },
   {
    "duration": 19,
    "start_time": "2022-10-06T12:56:03.738Z"
   },
   {
    "duration": 69,
    "start_time": "2022-10-06T13:07:34.110Z"
   },
   {
    "duration": 7,
    "start_time": "2022-10-06T13:07:38.528Z"
   },
   {
    "duration": 7,
    "start_time": "2022-10-06T13:07:42.604Z"
   },
   {
    "duration": 9,
    "start_time": "2022-10-06T13:07:44.703Z"
   },
   {
    "duration": 115,
    "start_time": "2022-10-06T13:08:24.966Z"
   },
   {
    "duration": 16,
    "start_time": "2022-10-06T13:08:25.346Z"
   },
   {
    "duration": 25,
    "start_time": "2022-10-06T13:15:53.023Z"
   },
   {
    "duration": 279,
    "start_time": "2022-10-06T13:16:25.661Z"
   },
   {
    "duration": 205,
    "start_time": "2022-10-06T13:17:13.546Z"
   },
   {
    "duration": 271,
    "start_time": "2022-10-06T13:18:57.479Z"
   },
   {
    "duration": 257,
    "start_time": "2022-10-06T13:19:08.770Z"
   },
   {
    "duration": 15,
    "start_time": "2022-10-06T13:19:18.126Z"
   },
   {
    "duration": 37,
    "start_time": "2022-10-06T13:20:13.094Z"
   },
   {
    "duration": 309,
    "start_time": "2022-10-06T13:20:53.015Z"
   },
   {
    "duration": 220,
    "start_time": "2022-10-06T13:21:51.641Z"
   },
   {
    "duration": 197,
    "start_time": "2022-10-06T13:22:27.104Z"
   },
   {
    "duration": 190,
    "start_time": "2022-10-06T13:22:33.956Z"
   },
   {
    "duration": 204,
    "start_time": "2022-10-06T13:22:54.042Z"
   },
   {
    "duration": 141,
    "start_time": "2022-10-06T13:25:10.897Z"
   },
   {
    "duration": 216,
    "start_time": "2022-10-06T13:25:22.783Z"
   },
   {
    "duration": 202,
    "start_time": "2022-10-06T13:26:49.044Z"
   },
   {
    "duration": 264,
    "start_time": "2022-10-06T13:29:41.046Z"
   },
   {
    "duration": 265,
    "start_time": "2022-10-06T13:29:47.390Z"
   },
   {
    "duration": 270,
    "start_time": "2022-10-06T13:30:15.088Z"
   },
   {
    "duration": 9,
    "start_time": "2022-10-06T13:30:57.851Z"
   },
   {
    "duration": 14,
    "start_time": "2022-10-06T13:34:07.007Z"
   },
   {
    "duration": 92,
    "start_time": "2022-10-06T13:34:47.166Z"
   },
   {
    "duration": 81,
    "start_time": "2022-10-06T13:34:59.819Z"
   },
   {
    "duration": 2343,
    "start_time": "2022-10-06T13:35:07.066Z"
   },
   {
    "duration": 3,
    "start_time": "2022-10-06T13:35:30.172Z"
   },
   {
    "duration": 15,
    "start_time": "2022-10-06T13:35:37.191Z"
   },
   {
    "duration": 14,
    "start_time": "2022-10-06T13:35:44.549Z"
   },
   {
    "duration": 14,
    "start_time": "2022-10-06T13:35:55.601Z"
   },
   {
    "duration": 13,
    "start_time": "2022-10-06T13:36:02.658Z"
   },
   {
    "duration": 11,
    "start_time": "2022-10-06T13:36:44.741Z"
   },
   {
    "duration": 3,
    "start_time": "2022-10-06T13:37:30.050Z"
   },
   {
    "duration": 14,
    "start_time": "2022-10-06T13:38:21.001Z"
   },
   {
    "duration": 11,
    "start_time": "2022-10-06T13:38:29.546Z"
   },
   {
    "duration": 4,
    "start_time": "2022-10-06T13:38:37.158Z"
   },
   {
    "duration": 15,
    "start_time": "2022-10-06T13:38:59.273Z"
   },
   {
    "duration": 4,
    "start_time": "2022-10-06T13:39:05.580Z"
   },
   {
    "duration": 14,
    "start_time": "2022-10-06T13:39:09.353Z"
   },
   {
    "duration": 13,
    "start_time": "2022-10-06T13:39:18.299Z"
   },
   {
    "duration": 16,
    "start_time": "2022-10-06T13:43:45.493Z"
   },
   {
    "duration": 193,
    "start_time": "2022-10-06T13:43:55.725Z"
   },
   {
    "duration": 162,
    "start_time": "2022-10-06T13:43:59.970Z"
   },
   {
    "duration": 1203,
    "start_time": "2022-10-06T13:44:16.106Z"
   },
   {
    "duration": 519,
    "start_time": "2022-10-06T13:44:17.311Z"
   },
   {
    "duration": 3,
    "start_time": "2022-10-06T13:44:17.832Z"
   },
   {
    "duration": 15,
    "start_time": "2022-10-06T13:44:17.837Z"
   },
   {
    "duration": 8,
    "start_time": "2022-10-06T13:44:17.854Z"
   },
   {
    "duration": 8,
    "start_time": "2022-10-06T13:44:17.864Z"
   },
   {
    "duration": 33,
    "start_time": "2022-10-06T13:44:17.874Z"
   },
   {
    "duration": 63,
    "start_time": "2022-10-06T13:44:17.909Z"
   },
   {
    "duration": 33,
    "start_time": "2022-10-06T13:44:17.973Z"
   },
   {
    "duration": 63,
    "start_time": "2022-10-06T13:44:18.009Z"
   },
   {
    "duration": 93,
    "start_time": "2022-10-06T13:44:18.074Z"
   },
   {
    "duration": 68,
    "start_time": "2022-10-06T13:44:18.169Z"
   },
   {
    "duration": 38,
    "start_time": "2022-10-06T13:44:18.238Z"
   },
   {
    "duration": 40,
    "start_time": "2022-10-06T13:44:18.278Z"
   },
   {
    "duration": 17,
    "start_time": "2022-10-06T13:44:18.320Z"
   },
   {
    "duration": 8,
    "start_time": "2022-10-06T13:44:18.339Z"
   },
   {
    "duration": 23,
    "start_time": "2022-10-06T13:44:18.349Z"
   },
   {
    "duration": 15,
    "start_time": "2022-10-06T13:44:18.374Z"
   },
   {
    "duration": 22,
    "start_time": "2022-10-06T13:44:18.391Z"
   },
   {
    "duration": 37,
    "start_time": "2022-10-06T13:44:18.416Z"
   },
   {
    "duration": 181,
    "start_time": "2022-10-06T13:44:18.455Z"
   },
   {
    "duration": 171,
    "start_time": "2022-10-06T13:44:18.638Z"
   },
   {
    "duration": 342,
    "start_time": "2022-10-06T13:44:18.810Z"
   },
   {
    "duration": 10,
    "start_time": "2022-10-06T13:44:19.154Z"
   },
   {
    "duration": 12,
    "start_time": "2022-10-06T13:44:19.166Z"
   },
   {
    "duration": 17,
    "start_time": "2022-10-06T13:44:19.179Z"
   },
   {
    "duration": 144,
    "start_time": "2022-10-06T13:44:19.198Z"
   },
   {
    "duration": 141,
    "start_time": "2022-10-06T13:44:19.346Z"
   },
   {
    "duration": 9,
    "start_time": "2022-10-06T13:44:19.489Z"
   },
   {
    "duration": 164,
    "start_time": "2022-10-06T13:44:19.500Z"
   },
   {
    "duration": 154,
    "start_time": "2022-10-06T13:44:19.665Z"
   },
   {
    "duration": 32017,
    "start_time": "2022-10-06T13:44:19.820Z"
   },
   {
    "duration": 14,
    "start_time": "2022-10-06T13:44:51.839Z"
   },
   {
    "duration": 74,
    "start_time": "2022-10-06T13:44:51.855Z"
   },
   {
    "duration": 631,
    "start_time": "2022-10-06T13:44:51.931Z"
   },
   {
    "duration": 175,
    "start_time": "2022-10-06T13:44:52.564Z"
   },
   {
    "duration": 54,
    "start_time": "2022-10-06T13:44:52.741Z"
   },
   {
    "duration": 184,
    "start_time": "2022-10-06T13:44:52.797Z"
   },
   {
    "duration": 147,
    "start_time": "2022-10-06T13:44:52.983Z"
   },
   {
    "duration": 46,
    "start_time": "2022-10-06T13:44:53.131Z"
   },
   {
    "duration": 20,
    "start_time": "2022-10-06T13:44:53.179Z"
   },
   {
    "duration": 52,
    "start_time": "2022-10-06T13:44:53.201Z"
   },
   {
    "duration": 12,
    "start_time": "2022-10-06T13:44:53.255Z"
   },
   {
    "duration": 33,
    "start_time": "2022-10-06T13:44:53.269Z"
   },
   {
    "duration": 16,
    "start_time": "2022-10-06T13:44:53.304Z"
   },
   {
    "duration": 12,
    "start_time": "2022-10-06T13:44:53.321Z"
   },
   {
    "duration": 33,
    "start_time": "2022-10-06T13:44:53.335Z"
   },
   {
    "duration": 4,
    "start_time": "2022-10-06T13:44:53.369Z"
   },
   {
    "duration": 28,
    "start_time": "2022-10-06T13:44:53.375Z"
   },
   {
    "duration": 18,
    "start_time": "2022-10-06T13:44:53.405Z"
   },
   {
    "duration": 16,
    "start_time": "2022-10-06T13:44:53.425Z"
   },
   {
    "duration": 18,
    "start_time": "2022-10-06T13:44:53.443Z"
   },
   {
    "duration": 33,
    "start_time": "2022-10-06T13:44:53.463Z"
   },
   {
    "duration": 213,
    "start_time": "2022-10-06T13:44:53.498Z"
   },
   {
    "duration": 27,
    "start_time": "2022-10-06T13:44:53.712Z"
   },
   {
    "duration": 17,
    "start_time": "2022-10-06T13:44:53.741Z"
   },
   {
    "duration": 3,
    "start_time": "2022-10-06T13:44:53.760Z"
   },
   {
    "duration": 39,
    "start_time": "2022-10-06T13:44:53.764Z"
   },
   {
    "duration": 29,
    "start_time": "2022-10-06T13:44:53.805Z"
   },
   {
    "duration": 232,
    "start_time": "2022-10-06T13:44:53.835Z"
   },
   {
    "duration": 201,
    "start_time": "2022-10-06T13:45:52.972Z"
   },
   {
    "duration": 224,
    "start_time": "2022-10-06T13:47:55.485Z"
   },
   {
    "duration": 1136,
    "start_time": "2022-10-06T14:15:58.459Z"
   },
   {
    "duration": 710,
    "start_time": "2022-10-06T14:15:59.597Z"
   },
   {
    "duration": 4,
    "start_time": "2022-10-06T14:16:00.308Z"
   },
   {
    "duration": 34,
    "start_time": "2022-10-06T14:16:00.313Z"
   },
   {
    "duration": 16,
    "start_time": "2022-10-06T14:16:00.350Z"
   },
   {
    "duration": 25,
    "start_time": "2022-10-06T14:16:00.368Z"
   },
   {
    "duration": 55,
    "start_time": "2022-10-06T14:16:00.395Z"
   },
   {
    "duration": 68,
    "start_time": "2022-10-06T14:16:00.452Z"
   },
   {
    "duration": 18,
    "start_time": "2022-10-06T14:16:00.521Z"
   },
   {
    "duration": 65,
    "start_time": "2022-10-06T14:16:00.541Z"
   },
   {
    "duration": 67,
    "start_time": "2022-10-06T14:16:00.608Z"
   },
   {
    "duration": 68,
    "start_time": "2022-10-06T14:16:00.677Z"
   },
   {
    "duration": 37,
    "start_time": "2022-10-06T14:16:00.746Z"
   },
   {
    "duration": 18,
    "start_time": "2022-10-06T14:16:00.798Z"
   },
   {
    "duration": 34,
    "start_time": "2022-10-06T14:16:00.818Z"
   },
   {
    "duration": 18,
    "start_time": "2022-10-06T14:16:00.854Z"
   },
   {
    "duration": 31,
    "start_time": "2022-10-06T14:16:00.874Z"
   },
   {
    "duration": 21,
    "start_time": "2022-10-06T14:16:00.906Z"
   },
   {
    "duration": 20,
    "start_time": "2022-10-06T14:16:00.929Z"
   },
   {
    "duration": 46,
    "start_time": "2022-10-06T14:16:00.950Z"
   },
   {
    "duration": 162,
    "start_time": "2022-10-06T14:16:00.998Z"
   },
   {
    "duration": 181,
    "start_time": "2022-10-06T14:16:01.161Z"
   },
   {
    "duration": 347,
    "start_time": "2022-10-06T14:16:01.343Z"
   },
   {
    "duration": 10,
    "start_time": "2022-10-06T14:16:01.692Z"
   },
   {
    "duration": 17,
    "start_time": "2022-10-06T14:16:01.704Z"
   },
   {
    "duration": 31,
    "start_time": "2022-10-06T14:16:01.723Z"
   },
   {
    "duration": 153,
    "start_time": "2022-10-06T14:16:01.756Z"
   },
   {
    "duration": 149,
    "start_time": "2022-10-06T14:16:01.911Z"
   },
   {
    "duration": 5,
    "start_time": "2022-10-06T14:16:02.062Z"
   },
   {
    "duration": 171,
    "start_time": "2022-10-06T14:16:02.069Z"
   },
   {
    "duration": 160,
    "start_time": "2022-10-06T14:16:02.241Z"
   },
   {
    "duration": 32833,
    "start_time": "2022-10-06T14:16:02.403Z"
   },
   {
    "duration": 15,
    "start_time": "2022-10-06T14:16:35.238Z"
   },
   {
    "duration": 74,
    "start_time": "2022-10-06T14:16:35.255Z"
   },
   {
    "duration": 641,
    "start_time": "2022-10-06T14:16:35.331Z"
   },
   {
    "duration": 176,
    "start_time": "2022-10-06T14:16:35.974Z"
   },
   {
    "duration": 51,
    "start_time": "2022-10-06T14:16:36.152Z"
   },
   {
    "duration": 169,
    "start_time": "2022-10-06T14:16:36.205Z"
   },
   {
    "duration": 148,
    "start_time": "2022-10-06T14:16:36.375Z"
   },
   {
    "duration": 48,
    "start_time": "2022-10-06T14:16:36.525Z"
   },
   {
    "duration": 23,
    "start_time": "2022-10-06T14:16:36.577Z"
   },
   {
    "duration": 55,
    "start_time": "2022-10-06T14:16:36.602Z"
   },
   {
    "duration": 11,
    "start_time": "2022-10-06T14:16:36.659Z"
   },
   {
    "duration": 46,
    "start_time": "2022-10-06T14:16:36.673Z"
   },
   {
    "duration": 21,
    "start_time": "2022-10-06T14:16:36.722Z"
   },
   {
    "duration": 21,
    "start_time": "2022-10-06T14:16:36.745Z"
   },
   {
    "duration": 57,
    "start_time": "2022-10-06T14:16:36.768Z"
   },
   {
    "duration": 6,
    "start_time": "2022-10-06T14:16:36.826Z"
   },
   {
    "duration": 29,
    "start_time": "2022-10-06T14:16:36.834Z"
   },
   {
    "duration": 12,
    "start_time": "2022-10-06T14:16:36.865Z"
   },
   {
    "duration": 28,
    "start_time": "2022-10-06T14:16:36.879Z"
   },
   {
    "duration": 17,
    "start_time": "2022-10-06T14:16:36.908Z"
   },
   {
    "duration": 8,
    "start_time": "2022-10-06T14:16:36.926Z"
   },
   {
    "duration": 224,
    "start_time": "2022-10-06T14:16:36.936Z"
   },
   {
    "duration": 37,
    "start_time": "2022-10-06T14:16:37.161Z"
   },
   {
    "duration": 18,
    "start_time": "2022-10-06T14:16:37.200Z"
   },
   {
    "duration": 4,
    "start_time": "2022-10-06T14:16:37.219Z"
   },
   {
    "duration": 23,
    "start_time": "2022-10-06T14:16:37.224Z"
   },
   {
    "duration": 46,
    "start_time": "2022-10-06T14:16:37.249Z"
   },
   {
    "duration": 222,
    "start_time": "2022-10-06T14:16:37.297Z"
   },
   {
    "duration": 1343,
    "start_time": "2022-10-06T20:57:52.114Z"
   },
   {
    "duration": 643,
    "start_time": "2022-10-06T20:57:53.460Z"
   },
   {
    "duration": 3,
    "start_time": "2022-10-06T20:57:54.105Z"
   },
   {
    "duration": 46,
    "start_time": "2022-10-06T20:57:54.110Z"
   },
   {
    "duration": 24,
    "start_time": "2022-10-06T20:57:54.158Z"
   },
   {
    "duration": 22,
    "start_time": "2022-10-06T20:57:54.184Z"
   },
   {
    "duration": 57,
    "start_time": "2022-10-06T20:57:54.208Z"
   },
   {
    "duration": 77,
    "start_time": "2022-10-06T20:57:54.267Z"
   },
   {
    "duration": 22,
    "start_time": "2022-10-06T20:57:54.347Z"
   },
   {
    "duration": 86,
    "start_time": "2022-10-06T20:57:54.373Z"
   },
   {
    "duration": 66,
    "start_time": "2022-10-06T20:57:54.461Z"
   },
   {
    "duration": 62,
    "start_time": "2022-10-06T20:57:54.533Z"
   },
   {
    "duration": 59,
    "start_time": "2022-10-06T20:57:54.597Z"
   },
   {
    "duration": 10,
    "start_time": "2022-10-06T20:57:54.658Z"
   },
   {
    "duration": 22,
    "start_time": "2022-10-06T20:57:54.670Z"
   },
   {
    "duration": 6,
    "start_time": "2022-10-06T20:57:54.694Z"
   },
   {
    "duration": 13,
    "start_time": "2022-10-06T20:57:54.702Z"
   },
   {
    "duration": 30,
    "start_time": "2022-10-06T20:57:54.716Z"
   },
   {
    "duration": 20,
    "start_time": "2022-10-06T20:57:54.748Z"
   },
   {
    "duration": 30,
    "start_time": "2022-10-06T20:57:54.770Z"
   },
   {
    "duration": 175,
    "start_time": "2022-10-06T20:57:54.801Z"
   },
   {
    "duration": 181,
    "start_time": "2022-10-06T20:57:54.978Z"
   },
   {
    "duration": 341,
    "start_time": "2022-10-06T20:57:55.161Z"
   },
   {
    "duration": 11,
    "start_time": "2022-10-06T20:57:55.504Z"
   },
   {
    "duration": 19,
    "start_time": "2022-10-06T20:57:55.516Z"
   },
   {
    "duration": 21,
    "start_time": "2022-10-06T20:57:55.537Z"
   },
   {
    "duration": 126,
    "start_time": "2022-10-06T20:57:55.560Z"
   },
   {
    "duration": 126,
    "start_time": "2022-10-06T20:57:55.689Z"
   },
   {
    "duration": 5,
    "start_time": "2022-10-06T20:57:55.816Z"
   },
   {
    "duration": 151,
    "start_time": "2022-10-06T20:57:55.833Z"
   },
   {
    "duration": 153,
    "start_time": "2022-10-06T20:57:55.985Z"
   },
   {
    "duration": 33962,
    "start_time": "2022-10-06T20:57:56.140Z"
   },
   {
    "duration": 13,
    "start_time": "2022-10-06T20:58:30.104Z"
   },
   {
    "duration": 85,
    "start_time": "2022-10-06T20:58:30.118Z"
   },
   {
    "duration": 715,
    "start_time": "2022-10-06T20:58:30.205Z"
   },
   {
    "duration": 197,
    "start_time": "2022-10-06T20:58:30.922Z"
   },
   {
    "duration": 61,
    "start_time": "2022-10-06T20:58:31.120Z"
   },
   {
    "duration": 177,
    "start_time": "2022-10-06T20:58:31.182Z"
   },
   {
    "duration": 162,
    "start_time": "2022-10-06T20:58:31.361Z"
   },
   {
    "duration": 55,
    "start_time": "2022-10-06T20:58:31.533Z"
   },
   {
    "duration": 7,
    "start_time": "2022-10-06T20:58:31.590Z"
   },
   {
    "duration": 69,
    "start_time": "2022-10-06T20:58:31.598Z"
   },
   {
    "duration": 9,
    "start_time": "2022-10-06T20:58:31.668Z"
   },
   {
    "duration": 25,
    "start_time": "2022-10-06T20:58:31.679Z"
   },
   {
    "duration": 41,
    "start_time": "2022-10-06T20:58:31.705Z"
   },
   {
    "duration": 36,
    "start_time": "2022-10-06T20:58:31.748Z"
   },
   {
    "duration": 35,
    "start_time": "2022-10-06T20:58:31.786Z"
   },
   {
    "duration": 4,
    "start_time": "2022-10-06T20:58:31.822Z"
   },
   {
    "duration": 45,
    "start_time": "2022-10-06T20:58:31.828Z"
   },
   {
    "duration": 30,
    "start_time": "2022-10-06T20:58:31.875Z"
   },
   {
    "duration": 32,
    "start_time": "2022-10-06T20:58:31.907Z"
   },
   {
    "duration": 26,
    "start_time": "2022-10-06T20:58:31.941Z"
   },
   {
    "duration": 8,
    "start_time": "2022-10-06T20:58:31.969Z"
   },
   {
    "duration": 264,
    "start_time": "2022-10-06T20:58:31.978Z"
   },
   {
    "duration": 37,
    "start_time": "2022-10-06T20:58:32.244Z"
   },
   {
    "duration": 19,
    "start_time": "2022-10-06T20:58:32.283Z"
   },
   {
    "duration": 4,
    "start_time": "2022-10-06T20:58:32.303Z"
   },
   {
    "duration": 44,
    "start_time": "2022-10-06T20:58:32.308Z"
   },
   {
    "duration": 40,
    "start_time": "2022-10-06T20:58:32.354Z"
   },
   {
    "duration": 251,
    "start_time": "2022-10-06T20:58:32.396Z"
   },
   {
    "duration": 7,
    "start_time": "2022-10-06T21:02:50.873Z"
   },
   {
    "duration": 1146,
    "start_time": "2022-10-06T21:22:37.701Z"
   },
   {
    "duration": 555,
    "start_time": "2022-10-06T21:22:38.849Z"
   },
   {
    "duration": 3,
    "start_time": "2022-10-06T21:22:39.406Z"
   },
   {
    "duration": 13,
    "start_time": "2022-10-06T21:22:39.412Z"
   },
   {
    "duration": 8,
    "start_time": "2022-10-06T21:22:39.427Z"
   },
   {
    "duration": 22,
    "start_time": "2022-10-06T21:22:39.437Z"
   },
   {
    "duration": 42,
    "start_time": "2022-10-06T21:22:39.460Z"
   },
   {
    "duration": 69,
    "start_time": "2022-10-06T21:22:39.504Z"
   },
   {
    "duration": 17,
    "start_time": "2022-10-06T21:22:39.575Z"
   },
   {
    "duration": 75,
    "start_time": "2022-10-06T21:22:39.595Z"
   },
   {
    "duration": 83,
    "start_time": "2022-10-06T21:22:39.672Z"
   },
   {
    "duration": 60,
    "start_time": "2022-10-06T21:22:39.757Z"
   },
   {
    "duration": 53,
    "start_time": "2022-10-06T21:22:39.819Z"
   },
   {
    "duration": 15,
    "start_time": "2022-10-06T21:22:39.874Z"
   },
   {
    "duration": 13,
    "start_time": "2022-10-06T21:22:39.890Z"
   },
   {
    "duration": 8,
    "start_time": "2022-10-06T21:22:39.905Z"
   },
   {
    "duration": 24,
    "start_time": "2022-10-06T21:22:39.914Z"
   },
   {
    "duration": 23,
    "start_time": "2022-10-06T21:22:39.947Z"
   },
   {
    "duration": 18,
    "start_time": "2022-10-06T21:22:39.972Z"
   },
   {
    "duration": 35,
    "start_time": "2022-10-06T21:22:39.991Z"
   },
   {
    "duration": 161,
    "start_time": "2022-10-06T21:22:40.028Z"
   },
   {
    "duration": 174,
    "start_time": "2022-10-06T21:22:40.191Z"
   },
   {
    "duration": 341,
    "start_time": "2022-10-06T21:22:40.366Z"
   },
   {
    "duration": 28,
    "start_time": "2022-10-06T21:22:40.709Z"
   },
   {
    "duration": 10,
    "start_time": "2022-10-06T21:22:40.739Z"
   },
   {
    "duration": 7,
    "start_time": "2022-10-06T21:22:40.751Z"
   },
   {
    "duration": 150,
    "start_time": "2022-10-06T21:22:40.760Z"
   },
   {
    "duration": 146,
    "start_time": "2022-10-06T21:22:40.913Z"
   },
   {
    "duration": 5,
    "start_time": "2022-10-06T21:22:41.060Z"
   },
   {
    "duration": 161,
    "start_time": "2022-10-06T21:22:41.066Z"
   },
   {
    "duration": 153,
    "start_time": "2022-10-06T21:22:41.233Z"
   },
   {
    "duration": 32742,
    "start_time": "2022-10-06T21:22:41.387Z"
   },
   {
    "duration": 19,
    "start_time": "2022-10-06T21:23:14.131Z"
   },
   {
    "duration": 65,
    "start_time": "2022-10-06T21:23:14.152Z"
   },
   {
    "duration": 662,
    "start_time": "2022-10-06T21:23:14.220Z"
   },
   {
    "duration": 176,
    "start_time": "2022-10-06T21:23:14.884Z"
   },
   {
    "duration": 42,
    "start_time": "2022-10-06T21:23:15.062Z"
   },
   {
    "duration": 171,
    "start_time": "2022-10-06T21:23:15.105Z"
   },
   {
    "duration": 142,
    "start_time": "2022-10-06T21:23:15.277Z"
   },
   {
    "duration": 55,
    "start_time": "2022-10-06T21:23:15.421Z"
   },
   {
    "duration": 7,
    "start_time": "2022-10-06T21:23:15.478Z"
   },
   {
    "duration": 66,
    "start_time": "2022-10-06T21:23:15.486Z"
   },
   {
    "duration": 11,
    "start_time": "2022-10-06T21:23:15.554Z"
   },
   {
    "duration": 23,
    "start_time": "2022-10-06T21:23:15.566Z"
   },
   {
    "duration": 17,
    "start_time": "2022-10-06T21:23:15.590Z"
   },
   {
    "duration": 30,
    "start_time": "2022-10-06T21:23:15.608Z"
   },
   {
    "duration": 41,
    "start_time": "2022-10-06T21:23:15.640Z"
   },
   {
    "duration": 5,
    "start_time": "2022-10-06T21:23:15.682Z"
   },
   {
    "duration": 16,
    "start_time": "2022-10-06T21:23:15.688Z"
   },
   {
    "duration": 8,
    "start_time": "2022-10-06T21:23:15.705Z"
   },
   {
    "duration": 38,
    "start_time": "2022-10-06T21:23:15.715Z"
   },
   {
    "duration": 18,
    "start_time": "2022-10-06T21:23:15.754Z"
   },
   {
    "duration": 28,
    "start_time": "2022-10-06T21:23:15.773Z"
   },
   {
    "duration": 222,
    "start_time": "2022-10-06T21:23:15.802Z"
   },
   {
    "duration": 40,
    "start_time": "2022-10-06T21:23:16.025Z"
   },
   {
    "duration": 19,
    "start_time": "2022-10-06T21:23:16.066Z"
   },
   {
    "duration": 4,
    "start_time": "2022-10-06T21:23:16.086Z"
   },
   {
    "duration": 43,
    "start_time": "2022-10-06T21:23:16.092Z"
   },
   {
    "duration": 30,
    "start_time": "2022-10-06T21:23:16.137Z"
   },
   {
    "duration": 288,
    "start_time": "2022-10-06T21:23:16.168Z"
   },
   {
    "duration": 1088,
    "start_time": "2022-10-07T12:06:52.601Z"
   },
   {
    "duration": 132,
    "start_time": "2022-10-07T12:06:53.691Z"
   },
   {
    "duration": 0,
    "start_time": "2022-10-07T12:06:53.827Z"
   },
   {
    "duration": 0,
    "start_time": "2022-10-07T12:06:53.829Z"
   },
   {
    "duration": 0,
    "start_time": "2022-10-07T12:06:53.830Z"
   },
   {
    "duration": 0,
    "start_time": "2022-10-07T12:06:53.831Z"
   },
   {
    "duration": 0,
    "start_time": "2022-10-07T12:06:53.832Z"
   },
   {
    "duration": 0,
    "start_time": "2022-10-07T12:06:53.834Z"
   },
   {
    "duration": 0,
    "start_time": "2022-10-07T12:06:53.835Z"
   },
   {
    "duration": 0,
    "start_time": "2022-10-07T12:06:53.836Z"
   },
   {
    "duration": 0,
    "start_time": "2022-10-07T12:06:53.837Z"
   },
   {
    "duration": 0,
    "start_time": "2022-10-07T12:06:53.839Z"
   },
   {
    "duration": 0,
    "start_time": "2022-10-07T12:06:53.840Z"
   },
   {
    "duration": 0,
    "start_time": "2022-10-07T12:06:53.841Z"
   },
   {
    "duration": 0,
    "start_time": "2022-10-07T12:06:53.842Z"
   },
   {
    "duration": 0,
    "start_time": "2022-10-07T12:06:53.843Z"
   },
   {
    "duration": 0,
    "start_time": "2022-10-07T12:06:53.844Z"
   },
   {
    "duration": 0,
    "start_time": "2022-10-07T12:06:53.845Z"
   },
   {
    "duration": 0,
    "start_time": "2022-10-07T12:06:53.847Z"
   },
   {
    "duration": 0,
    "start_time": "2022-10-07T12:06:53.847Z"
   },
   {
    "duration": 0,
    "start_time": "2022-10-07T12:06:53.849Z"
   },
   {
    "duration": 0,
    "start_time": "2022-10-07T12:06:53.849Z"
   },
   {
    "duration": 0,
    "start_time": "2022-10-07T12:06:53.850Z"
   },
   {
    "duration": 0,
    "start_time": "2022-10-07T12:06:53.851Z"
   },
   {
    "duration": 0,
    "start_time": "2022-10-07T12:06:53.852Z"
   },
   {
    "duration": 0,
    "start_time": "2022-10-07T12:06:53.853Z"
   },
   {
    "duration": 0,
    "start_time": "2022-10-07T12:06:53.854Z"
   },
   {
    "duration": 0,
    "start_time": "2022-10-07T12:06:53.855Z"
   },
   {
    "duration": 0,
    "start_time": "2022-10-07T12:06:53.856Z"
   },
   {
    "duration": 0,
    "start_time": "2022-10-07T12:06:53.856Z"
   },
   {
    "duration": 0,
    "start_time": "2022-10-07T12:06:53.858Z"
   },
   {
    "duration": 0,
    "start_time": "2022-10-07T12:06:53.859Z"
   },
   {
    "duration": 0,
    "start_time": "2022-10-07T12:06:53.859Z"
   },
   {
    "duration": 0,
    "start_time": "2022-10-07T12:06:53.861Z"
   },
   {
    "duration": 0,
    "start_time": "2022-10-07T12:06:53.861Z"
   },
   {
    "duration": 0,
    "start_time": "2022-10-07T12:06:53.863Z"
   },
   {
    "duration": 0,
    "start_time": "2022-10-07T12:06:53.864Z"
   },
   {
    "duration": 0,
    "start_time": "2022-10-07T12:06:53.922Z"
   },
   {
    "duration": 0,
    "start_time": "2022-10-07T12:06:53.923Z"
   },
   {
    "duration": 0,
    "start_time": "2022-10-07T12:06:53.924Z"
   },
   {
    "duration": 0,
    "start_time": "2022-10-07T12:06:53.925Z"
   },
   {
    "duration": 0,
    "start_time": "2022-10-07T12:06:53.926Z"
   },
   {
    "duration": 0,
    "start_time": "2022-10-07T12:06:53.927Z"
   },
   {
    "duration": 0,
    "start_time": "2022-10-07T12:06:53.928Z"
   },
   {
    "duration": 0,
    "start_time": "2022-10-07T12:06:53.929Z"
   },
   {
    "duration": 0,
    "start_time": "2022-10-07T12:06:53.930Z"
   },
   {
    "duration": 0,
    "start_time": "2022-10-07T12:06:53.931Z"
   },
   {
    "duration": 0,
    "start_time": "2022-10-07T12:06:53.932Z"
   },
   {
    "duration": 0,
    "start_time": "2022-10-07T12:06:53.933Z"
   },
   {
    "duration": 0,
    "start_time": "2022-10-07T12:06:53.935Z"
   },
   {
    "duration": 0,
    "start_time": "2022-10-07T12:06:53.936Z"
   },
   {
    "duration": 0,
    "start_time": "2022-10-07T12:06:53.937Z"
   },
   {
    "duration": 0,
    "start_time": "2022-10-07T12:06:53.938Z"
   },
   {
    "duration": 0,
    "start_time": "2022-10-07T12:06:53.939Z"
   },
   {
    "duration": 0,
    "start_time": "2022-10-07T12:06:53.940Z"
   },
   {
    "duration": 0,
    "start_time": "2022-10-07T12:06:53.941Z"
   },
   {
    "duration": 0,
    "start_time": "2022-10-07T12:06:53.942Z"
   },
   {
    "duration": 0,
    "start_time": "2022-10-07T12:06:53.943Z"
   },
   {
    "duration": 0,
    "start_time": "2022-10-07T12:06:53.944Z"
   },
   {
    "duration": 0,
    "start_time": "2022-10-07T12:06:53.945Z"
   },
   {
    "duration": 93,
    "start_time": "2022-10-07T12:17:37.312Z"
   },
   {
    "duration": 127,
    "start_time": "2022-10-07T12:20:43.806Z"
   },
   {
    "duration": 1084,
    "start_time": "2022-10-07T12:20:55.825Z"
   },
   {
    "duration": 3,
    "start_time": "2022-10-07T12:21:21.464Z"
   },
   {
    "duration": 12,
    "start_time": "2022-10-07T12:21:23.736Z"
   },
   {
    "duration": 9,
    "start_time": "2022-10-07T12:21:25.422Z"
   },
   {
    "duration": 7,
    "start_time": "2022-10-07T12:21:27.596Z"
   },
   {
    "duration": 1119,
    "start_time": "2022-10-07T12:21:35.304Z"
   },
   {
    "duration": 243,
    "start_time": "2022-10-07T12:21:36.425Z"
   },
   {
    "duration": 3,
    "start_time": "2022-10-07T12:21:36.671Z"
   },
   {
    "duration": 23,
    "start_time": "2022-10-07T12:21:36.676Z"
   },
   {
    "duration": 11,
    "start_time": "2022-10-07T12:21:36.701Z"
   },
   {
    "duration": 27,
    "start_time": "2022-10-07T12:21:36.714Z"
   },
   {
    "duration": 43,
    "start_time": "2022-10-07T12:21:36.742Z"
   },
   {
    "duration": 66,
    "start_time": "2022-10-07T12:21:36.786Z"
   },
   {
    "duration": 17,
    "start_time": "2022-10-07T12:21:36.854Z"
   },
   {
    "duration": 66,
    "start_time": "2022-10-07T12:21:36.872Z"
   },
   {
    "duration": 59,
    "start_time": "2022-10-07T12:21:36.940Z"
   },
   {
    "duration": 59,
    "start_time": "2022-10-07T12:21:37.000Z"
   },
   {
    "duration": 33,
    "start_time": "2022-10-07T12:21:37.061Z"
   },
   {
    "duration": 25,
    "start_time": "2022-10-07T12:21:37.097Z"
   },
   {
    "duration": 26,
    "start_time": "2022-10-07T12:21:37.124Z"
   },
   {
    "duration": 25,
    "start_time": "2022-10-07T12:21:37.152Z"
   },
   {
    "duration": 39,
    "start_time": "2022-10-07T12:21:37.179Z"
   },
   {
    "duration": 21,
    "start_time": "2022-10-07T12:21:37.220Z"
   },
   {
    "duration": 38,
    "start_time": "2022-10-07T12:21:37.242Z"
   },
   {
    "duration": 40,
    "start_time": "2022-10-07T12:21:37.282Z"
   },
   {
    "duration": 150,
    "start_time": "2022-10-07T12:21:37.323Z"
   },
   {
    "duration": 177,
    "start_time": "2022-10-07T12:21:37.475Z"
   },
   {
    "duration": 320,
    "start_time": "2022-10-07T12:21:37.654Z"
   },
   {
    "duration": 14,
    "start_time": "2022-10-07T12:21:37.976Z"
   },
   {
    "duration": 20,
    "start_time": "2022-10-07T12:21:37.992Z"
   },
   {
    "duration": 21,
    "start_time": "2022-10-07T12:21:38.014Z"
   },
   {
    "duration": 150,
    "start_time": "2022-10-07T12:21:38.036Z"
   },
   {
    "duration": 117,
    "start_time": "2022-10-07T12:21:38.187Z"
   },
   {
    "duration": 4,
    "start_time": "2022-10-07T12:21:38.306Z"
   },
   {
    "duration": 149,
    "start_time": "2022-10-07T12:21:38.322Z"
   },
   {
    "duration": 141,
    "start_time": "2022-10-07T12:21:38.473Z"
   },
   {
    "duration": 31005,
    "start_time": "2022-10-07T12:21:38.621Z"
   },
   {
    "duration": 15,
    "start_time": "2022-10-07T12:22:09.628Z"
   },
   {
    "duration": 62,
    "start_time": "2022-10-07T12:22:09.645Z"
   },
   {
    "duration": 701,
    "start_time": "2022-10-07T12:22:09.721Z"
   },
   {
    "duration": 179,
    "start_time": "2022-10-07T12:22:10.424Z"
   },
   {
    "duration": 46,
    "start_time": "2022-10-07T12:22:10.605Z"
   },
   {
    "duration": 173,
    "start_time": "2022-10-07T12:22:10.653Z"
   },
   {
    "duration": 179,
    "start_time": "2022-10-07T12:22:10.828Z"
   },
   {
    "duration": 71,
    "start_time": "2022-10-07T12:22:11.009Z"
   },
   {
    "duration": 12,
    "start_time": "2022-10-07T12:22:11.086Z"
   },
   {
    "duration": 62,
    "start_time": "2022-10-07T12:22:11.101Z"
   },
   {
    "duration": 9,
    "start_time": "2022-10-07T12:22:11.164Z"
   },
   {
    "duration": 26,
    "start_time": "2022-10-07T12:22:11.174Z"
   },
   {
    "duration": 31,
    "start_time": "2022-10-07T12:22:11.202Z"
   },
   {
    "duration": 8,
    "start_time": "2022-10-07T12:22:11.235Z"
   },
   {
    "duration": 34,
    "start_time": "2022-10-07T12:22:11.244Z"
   },
   {
    "duration": 5,
    "start_time": "2022-10-07T12:22:11.280Z"
   },
   {
    "duration": 45,
    "start_time": "2022-10-07T12:22:11.287Z"
   },
   {
    "duration": 7,
    "start_time": "2022-10-07T12:22:11.333Z"
   },
   {
    "duration": 23,
    "start_time": "2022-10-07T12:22:11.342Z"
   },
   {
    "duration": 35,
    "start_time": "2022-10-07T12:22:11.367Z"
   },
   {
    "duration": 43,
    "start_time": "2022-10-07T12:22:11.404Z"
   },
   {
    "duration": 225,
    "start_time": "2022-10-07T12:22:11.450Z"
   },
   {
    "duration": 55,
    "start_time": "2022-10-07T12:22:11.677Z"
   },
   {
    "duration": 23,
    "start_time": "2022-10-07T12:22:11.734Z"
   },
   {
    "duration": 4,
    "start_time": "2022-10-07T12:22:11.761Z"
   },
   {
    "duration": 29,
    "start_time": "2022-10-07T12:22:11.767Z"
   },
   {
    "duration": 51,
    "start_time": "2022-10-07T12:22:11.799Z"
   },
   {
    "duration": 213,
    "start_time": "2022-10-07T12:22:11.852Z"
   },
   {
    "duration": 49,
    "start_time": "2022-10-07T20:30:40.956Z"
   },
   {
    "duration": 1263,
    "start_time": "2022-10-07T20:30:52.554Z"
   },
   {
    "duration": 610,
    "start_time": "2022-10-07T20:30:53.819Z"
   },
   {
    "duration": 5,
    "start_time": "2022-10-07T20:30:54.431Z"
   },
   {
    "duration": 24,
    "start_time": "2022-10-07T20:30:54.438Z"
   },
   {
    "duration": 16,
    "start_time": "2022-10-07T20:30:54.465Z"
   },
   {
    "duration": 18,
    "start_time": "2022-10-07T20:30:54.482Z"
   },
   {
    "duration": 36,
    "start_time": "2022-10-07T20:30:54.502Z"
   },
   {
    "duration": 73,
    "start_time": "2022-10-07T20:30:54.540Z"
   },
   {
    "duration": 23,
    "start_time": "2022-10-07T20:30:54.614Z"
   },
   {
    "duration": 52,
    "start_time": "2022-10-07T20:30:54.640Z"
   },
   {
    "duration": 65,
    "start_time": "2022-10-07T20:30:54.708Z"
   },
   {
    "duration": 60,
    "start_time": "2022-10-07T20:30:54.775Z"
   },
   {
    "duration": 34,
    "start_time": "2022-10-07T20:30:54.836Z"
   },
   {
    "duration": 13,
    "start_time": "2022-10-07T20:30:54.871Z"
   },
   {
    "duration": 28,
    "start_time": "2022-10-07T20:30:54.885Z"
   },
   {
    "duration": 4,
    "start_time": "2022-10-07T20:30:54.915Z"
   },
   {
    "duration": 9,
    "start_time": "2022-10-07T20:30:54.921Z"
   },
   {
    "duration": 10,
    "start_time": "2022-10-07T20:30:54.932Z"
   },
   {
    "duration": 17,
    "start_time": "2022-10-07T20:30:54.944Z"
   },
   {
    "duration": 57,
    "start_time": "2022-10-07T20:30:54.962Z"
   },
   {
    "duration": 154,
    "start_time": "2022-10-07T20:30:55.021Z"
   },
   {
    "duration": 174,
    "start_time": "2022-10-07T20:30:55.176Z"
   },
   {
    "duration": 317,
    "start_time": "2022-10-07T20:30:55.352Z"
   },
   {
    "duration": 10,
    "start_time": "2022-10-07T20:30:55.670Z"
   },
   {
    "duration": 8,
    "start_time": "2022-10-07T20:30:55.682Z"
   },
   {
    "duration": 19,
    "start_time": "2022-10-07T20:30:55.692Z"
   },
   {
    "duration": 140,
    "start_time": "2022-10-07T20:30:55.713Z"
   },
   {
    "duration": 126,
    "start_time": "2022-10-07T20:30:55.857Z"
   },
   {
    "duration": 4,
    "start_time": "2022-10-07T20:30:55.984Z"
   },
   {
    "duration": 154,
    "start_time": "2022-10-07T20:30:55.990Z"
   },
   {
    "duration": 140,
    "start_time": "2022-10-07T20:30:56.145Z"
   },
   {
    "duration": 31164,
    "start_time": "2022-10-07T20:30:56.287Z"
   },
   {
    "duration": 12,
    "start_time": "2022-10-07T20:31:27.453Z"
   },
   {
    "duration": 68,
    "start_time": "2022-10-07T20:31:27.466Z"
   },
   {
    "duration": 593,
    "start_time": "2022-10-07T20:31:27.536Z"
   },
   {
    "duration": 155,
    "start_time": "2022-10-07T20:31:28.131Z"
   },
   {
    "duration": 40,
    "start_time": "2022-10-07T20:31:28.288Z"
   },
   {
    "duration": 152,
    "start_time": "2022-10-07T20:31:28.330Z"
   },
   {
    "duration": 134,
    "start_time": "2022-10-07T20:31:28.484Z"
   },
   {
    "duration": 39,
    "start_time": "2022-10-07T20:31:28.619Z"
   },
   {
    "duration": 6,
    "start_time": "2022-10-07T20:31:28.660Z"
   },
   {
    "duration": 130,
    "start_time": "2022-10-07T20:31:28.667Z"
   },
   {
    "duration": 0,
    "start_time": "2022-10-07T20:31:28.799Z"
   },
   {
    "duration": 0,
    "start_time": "2022-10-07T20:31:28.809Z"
   },
   {
    "duration": 0,
    "start_time": "2022-10-07T20:31:28.809Z"
   },
   {
    "duration": 0,
    "start_time": "2022-10-07T20:31:28.810Z"
   },
   {
    "duration": 0,
    "start_time": "2022-10-07T20:31:28.812Z"
   },
   {
    "duration": 0,
    "start_time": "2022-10-07T20:31:28.812Z"
   },
   {
    "duration": 0,
    "start_time": "2022-10-07T20:31:28.813Z"
   },
   {
    "duration": 0,
    "start_time": "2022-10-07T20:31:28.814Z"
   },
   {
    "duration": 0,
    "start_time": "2022-10-07T20:31:28.815Z"
   },
   {
    "duration": 0,
    "start_time": "2022-10-07T20:31:28.816Z"
   },
   {
    "duration": 0,
    "start_time": "2022-10-07T20:31:28.817Z"
   },
   {
    "duration": 0,
    "start_time": "2022-10-07T20:31:28.818Z"
   },
   {
    "duration": 0,
    "start_time": "2022-10-07T20:31:28.819Z"
   },
   {
    "duration": 0,
    "start_time": "2022-10-07T20:31:28.820Z"
   },
   {
    "duration": 1,
    "start_time": "2022-10-07T20:31:28.820Z"
   },
   {
    "duration": 0,
    "start_time": "2022-10-07T20:31:28.821Z"
   },
   {
    "duration": 0,
    "start_time": "2022-10-07T20:31:28.822Z"
   },
   {
    "duration": 0,
    "start_time": "2022-10-07T20:31:28.823Z"
   },
   {
    "duration": 43,
    "start_time": "2022-10-07T20:31:59.166Z"
   },
   {
    "duration": 8,
    "start_time": "2022-10-07T20:34:25.096Z"
   },
   {
    "duration": 19,
    "start_time": "2022-10-07T20:34:26.447Z"
   },
   {
    "duration": 17,
    "start_time": "2022-10-07T20:34:26.649Z"
   },
   {
    "duration": 4,
    "start_time": "2022-10-07T20:34:26.854Z"
   },
   {
    "duration": 28,
    "start_time": "2022-10-07T20:34:27.052Z"
   },
   {
    "duration": 5,
    "start_time": "2022-10-07T20:34:27.252Z"
   },
   {
    "duration": 13,
    "start_time": "2022-10-07T20:34:27.463Z"
   },
   {
    "duration": 7,
    "start_time": "2022-10-07T20:34:28.041Z"
   },
   {
    "duration": 15,
    "start_time": "2022-10-07T20:34:29.299Z"
   },
   {
    "duration": 17,
    "start_time": "2022-10-07T20:34:29.558Z"
   },
   {
    "duration": 15,
    "start_time": "2022-10-07T20:34:30.600Z"
   },
   {
    "duration": 187,
    "start_time": "2022-10-07T21:04:32.457Z"
   },
   {
    "duration": 24,
    "start_time": "2022-10-07T21:04:32.861Z"
   },
   {
    "duration": 20,
    "start_time": "2022-10-07T21:04:33.257Z"
   },
   {
    "duration": 4,
    "start_time": "2022-10-07T21:04:33.474Z"
   },
   {
    "duration": 14,
    "start_time": "2022-10-07T21:04:33.613Z"
   },
   {
    "duration": 24,
    "start_time": "2022-10-07T21:04:33.779Z"
   },
   {
    "duration": 203,
    "start_time": "2022-10-07T21:04:34.058Z"
   },
   {
    "duration": 15,
    "start_time": "2022-10-07T21:10:06.369Z"
   },
   {
    "duration": 417,
    "start_time": "2022-10-07T21:16:11.655Z"
   },
   {
    "duration": 34,
    "start_time": "2022-10-07T21:17:26.843Z"
   },
   {
    "duration": 18,
    "start_time": "2022-10-07T21:17:36.781Z"
   },
   {
    "duration": 18,
    "start_time": "2022-10-07T21:17:48.888Z"
   },
   {
    "duration": 19,
    "start_time": "2022-10-07T21:18:10.671Z"
   },
   {
    "duration": 15,
    "start_time": "2022-10-07T21:18:16.806Z"
   },
   {
    "duration": 5,
    "start_time": "2022-10-07T21:19:08.643Z"
   },
   {
    "duration": 14,
    "start_time": "2022-10-07T21:19:23.545Z"
   },
   {
    "duration": 5,
    "start_time": "2022-10-07T21:19:42.344Z"
   },
   {
    "duration": 7,
    "start_time": "2022-10-07T21:19:47.447Z"
   },
   {
    "duration": 7,
    "start_time": "2022-10-07T21:19:52.412Z"
   },
   {
    "duration": 1126,
    "start_time": "2022-10-07T21:20:33.494Z"
   },
   {
    "duration": 231,
    "start_time": "2022-10-07T21:20:34.622Z"
   },
   {
    "duration": 3,
    "start_time": "2022-10-07T21:20:34.855Z"
   },
   {
    "duration": 12,
    "start_time": "2022-10-07T21:20:34.860Z"
   },
   {
    "duration": 7,
    "start_time": "2022-10-07T21:20:34.873Z"
   },
   {
    "duration": 7,
    "start_time": "2022-10-07T21:20:34.882Z"
   },
   {
    "duration": 35,
    "start_time": "2022-10-07T21:20:34.890Z"
   },
   {
    "duration": 53,
    "start_time": "2022-10-07T21:20:34.927Z"
   },
   {
    "duration": 30,
    "start_time": "2022-10-07T21:20:34.981Z"
   },
   {
    "duration": 52,
    "start_time": "2022-10-07T21:20:35.013Z"
   },
   {
    "duration": 72,
    "start_time": "2022-10-07T21:20:35.066Z"
   },
   {
    "duration": 48,
    "start_time": "2022-10-07T21:20:35.139Z"
   },
   {
    "duration": 41,
    "start_time": "2022-10-07T21:20:35.189Z"
   },
   {
    "duration": 12,
    "start_time": "2022-10-07T21:20:35.231Z"
   },
   {
    "duration": 15,
    "start_time": "2022-10-07T21:20:35.245Z"
   },
   {
    "duration": 5,
    "start_time": "2022-10-07T21:20:35.262Z"
   },
   {
    "duration": 24,
    "start_time": "2022-10-07T21:20:35.269Z"
   },
   {
    "duration": 15,
    "start_time": "2022-10-07T21:20:35.294Z"
   },
   {
    "duration": 17,
    "start_time": "2022-10-07T21:20:35.311Z"
   },
   {
    "duration": 42,
    "start_time": "2022-10-07T21:20:35.329Z"
   },
   {
    "duration": 136,
    "start_time": "2022-10-07T21:20:35.373Z"
   },
   {
    "duration": 153,
    "start_time": "2022-10-07T21:20:35.510Z"
   },
   {
    "duration": 303,
    "start_time": "2022-10-07T21:20:35.664Z"
   },
   {
    "duration": 10,
    "start_time": "2022-10-07T21:20:35.969Z"
   },
   {
    "duration": 6,
    "start_time": "2022-10-07T21:20:35.981Z"
   },
   {
    "duration": 20,
    "start_time": "2022-10-07T21:20:35.989Z"
   },
   {
    "duration": 122,
    "start_time": "2022-10-07T21:20:36.010Z"
   },
   {
    "duration": 130,
    "start_time": "2022-10-07T21:20:36.135Z"
   },
   {
    "duration": 5,
    "start_time": "2022-10-07T21:20:36.266Z"
   },
   {
    "duration": 140,
    "start_time": "2022-10-07T21:20:36.272Z"
   },
   {
    "duration": 142,
    "start_time": "2022-10-07T21:20:36.414Z"
   },
   {
    "duration": 31544,
    "start_time": "2022-10-07T21:20:36.558Z"
   },
   {
    "duration": 14,
    "start_time": "2022-10-07T21:21:08.103Z"
   },
   {
    "duration": 58,
    "start_time": "2022-10-07T21:21:08.118Z"
   },
   {
    "duration": 591,
    "start_time": "2022-10-07T21:21:08.178Z"
   },
   {
    "duration": 153,
    "start_time": "2022-10-07T21:21:08.771Z"
   },
   {
    "duration": 36,
    "start_time": "2022-10-07T21:21:08.926Z"
   },
   {
    "duration": 157,
    "start_time": "2022-10-07T21:21:08.963Z"
   },
   {
    "duration": 133,
    "start_time": "2022-10-07T21:21:09.122Z"
   },
   {
    "duration": 54,
    "start_time": "2022-10-07T21:21:09.257Z"
   },
   {
    "duration": 7,
    "start_time": "2022-10-07T21:21:09.312Z"
   },
   {
    "duration": 42,
    "start_time": "2022-10-07T21:21:09.320Z"
   },
   {
    "duration": 7,
    "start_time": "2022-10-07T21:21:09.364Z"
   },
   {
    "duration": 41,
    "start_time": "2022-10-07T21:21:09.373Z"
   },
   {
    "duration": 15,
    "start_time": "2022-10-07T21:21:09.415Z"
   },
   {
    "duration": 8,
    "start_time": "2022-10-07T21:21:09.431Z"
   },
   {
    "duration": 32,
    "start_time": "2022-10-07T21:21:09.440Z"
   },
   {
    "duration": 5,
    "start_time": "2022-10-07T21:21:09.474Z"
   },
   {
    "duration": 30,
    "start_time": "2022-10-07T21:21:09.481Z"
   },
   {
    "duration": 7,
    "start_time": "2022-10-07T21:21:09.513Z"
   },
   {
    "duration": 15,
    "start_time": "2022-10-07T21:21:09.522Z"
   },
   {
    "duration": 17,
    "start_time": "2022-10-07T21:21:09.539Z"
   },
   {
    "duration": 6,
    "start_time": "2022-10-07T21:21:09.557Z"
   },
   {
    "duration": 216,
    "start_time": "2022-10-07T21:21:09.565Z"
   },
   {
    "duration": 36,
    "start_time": "2022-10-07T21:21:09.783Z"
   },
   {
    "duration": 15,
    "start_time": "2022-10-07T21:21:09.820Z"
   },
   {
    "duration": 2,
    "start_time": "2022-10-07T21:21:09.837Z"
   },
   {
    "duration": 15,
    "start_time": "2022-10-07T21:21:09.840Z"
   },
   {
    "duration": 22,
    "start_time": "2022-10-07T21:21:09.856Z"
   },
   {
    "duration": 202,
    "start_time": "2022-10-07T21:21:09.879Z"
   },
   {
    "duration": 2,
    "start_time": "2022-10-07T21:21:10.082Z"
   },
   {
    "duration": 5,
    "start_time": "2022-10-07T21:21:10.085Z"
   },
   {
    "duration": 47,
    "start_time": "2022-10-07T21:21:31.350Z"
   },
   {
    "duration": 32,
    "start_time": "2022-10-07T21:22:05.949Z"
   },
   {
    "duration": 16,
    "start_time": "2022-10-07T21:22:15.669Z"
   },
   {
    "duration": 8,
    "start_time": "2022-10-07T21:22:16.051Z"
   },
   {
    "duration": 9,
    "start_time": "2022-10-07T21:22:41.852Z"
   },
   {
    "duration": 16,
    "start_time": "2022-10-07T21:23:08.646Z"
   },
   {
    "duration": 3,
    "start_time": "2022-10-07T21:23:08.850Z"
   },
   {
    "duration": 14,
    "start_time": "2022-10-07T21:23:09.016Z"
   },
   {
    "duration": 23,
    "start_time": "2022-10-07T21:23:09.293Z"
   },
   {
    "duration": 182,
    "start_time": "2022-10-07T21:23:09.515Z"
   },
   {
    "duration": 33,
    "start_time": "2022-10-07T21:23:11.084Z"
   },
   {
    "duration": 11,
    "start_time": "2022-10-07T21:23:27.506Z"
   },
   {
    "duration": 9,
    "start_time": "2022-10-07T21:23:53.664Z"
   },
   {
    "duration": 13,
    "start_time": "2022-10-07T21:24:13.413Z"
   },
   {
    "duration": 10,
    "start_time": "2022-10-07T21:24:57.998Z"
   },
   {
    "duration": 111,
    "start_time": "2022-10-07T21:25:12.717Z"
   },
   {
    "duration": 13,
    "start_time": "2022-10-07T21:25:24.777Z"
   },
   {
    "duration": 9,
    "start_time": "2022-10-07T21:25:41.498Z"
   },
   {
    "duration": 3,
    "start_time": "2022-10-07T21:26:52.864Z"
   },
   {
    "duration": 12,
    "start_time": "2022-10-07T21:26:55.453Z"
   },
   {
    "duration": 13,
    "start_time": "2022-10-07T21:27:03.341Z"
   },
   {
    "duration": 12,
    "start_time": "2022-10-07T21:27:14.531Z"
   },
   {
    "duration": 11,
    "start_time": "2022-10-07T21:27:19.249Z"
   },
   {
    "duration": 13,
    "start_time": "2022-10-07T21:27:40.957Z"
   },
   {
    "duration": 12,
    "start_time": "2022-10-07T21:28:01.563Z"
   },
   {
    "duration": 12,
    "start_time": "2022-10-07T21:28:10.564Z"
   },
   {
    "duration": 6,
    "start_time": "2022-10-07T21:28:38.856Z"
   },
   {
    "duration": 9,
    "start_time": "2022-10-07T21:28:52.472Z"
   },
   {
    "duration": 13,
    "start_time": "2022-10-07T21:29:02.272Z"
   },
   {
    "duration": 139,
    "start_time": "2022-10-07T21:34:13.819Z"
   },
   {
    "duration": 137,
    "start_time": "2022-10-07T21:34:36.303Z"
   },
   {
    "duration": 8,
    "start_time": "2022-10-07T21:37:20.149Z"
   },
   {
    "duration": 729,
    "start_time": "2022-10-07T22:10:46.900Z"
   },
   {
    "duration": 4,
    "start_time": "2022-10-07T22:10:58.042Z"
   },
   {
    "duration": 5,
    "start_time": "2022-10-07T22:11:11.643Z"
   },
   {
    "duration": 4,
    "start_time": "2022-10-07T22:14:47.555Z"
   },
   {
    "duration": 4,
    "start_time": "2022-10-07T22:15:11.749Z"
   },
   {
    "duration": 12,
    "start_time": "2022-10-07T22:19:30.414Z"
   },
   {
    "duration": 12,
    "start_time": "2022-10-07T22:19:37.552Z"
   },
   {
    "duration": 11,
    "start_time": "2022-10-07T22:19:57.960Z"
   },
   {
    "duration": 38,
    "start_time": "2022-10-07T22:21:50.619Z"
   },
   {
    "duration": 45,
    "start_time": "2022-10-07T22:24:06.943Z"
   },
   {
    "duration": 52,
    "start_time": "2022-10-07T22:24:10.401Z"
   },
   {
    "duration": 34,
    "start_time": "2022-10-07T22:24:18.828Z"
   },
   {
    "duration": 51,
    "start_time": "2022-10-07T22:26:44.325Z"
   },
   {
    "duration": 983,
    "start_time": "2022-10-07T22:27:22.239Z"
   },
   {
    "duration": 31,
    "start_time": "2022-10-07T22:27:33.618Z"
   },
   {
    "duration": 12,
    "start_time": "2022-10-07T22:27:59.597Z"
   },
   {
    "duration": 198,
    "start_time": "2022-10-07T22:28:05.921Z"
   },
   {
    "duration": 169,
    "start_time": "2022-10-07T22:33:19.926Z"
   },
   {
    "duration": 12,
    "start_time": "2022-10-07T22:33:25.100Z"
   },
   {
    "duration": 164,
    "start_time": "2022-10-07T22:33:28.511Z"
   },
   {
    "duration": 1716,
    "start_time": "2022-10-08T10:04:56.055Z"
   },
   {
    "duration": 641,
    "start_time": "2022-10-08T10:04:57.773Z"
   },
   {
    "duration": 4,
    "start_time": "2022-10-08T10:04:58.416Z"
   },
   {
    "duration": 21,
    "start_time": "2022-10-08T10:04:58.423Z"
   },
   {
    "duration": 9,
    "start_time": "2022-10-08T10:04:58.445Z"
   },
   {
    "duration": 15,
    "start_time": "2022-10-08T10:04:58.456Z"
   },
   {
    "duration": 42,
    "start_time": "2022-10-08T10:04:58.473Z"
   },
   {
    "duration": 90,
    "start_time": "2022-10-08T10:04:58.518Z"
   },
   {
    "duration": 37,
    "start_time": "2022-10-08T10:04:58.610Z"
   },
   {
    "duration": 66,
    "start_time": "2022-10-08T10:04:58.651Z"
   },
   {
    "duration": 82,
    "start_time": "2022-10-08T10:04:58.735Z"
   },
   {
    "duration": 78,
    "start_time": "2022-10-08T10:04:58.818Z"
   },
   {
    "duration": 50,
    "start_time": "2022-10-08T10:04:58.898Z"
   },
   {
    "duration": 16,
    "start_time": "2022-10-08T10:04:58.950Z"
   },
   {
    "duration": 22,
    "start_time": "2022-10-08T10:04:58.968Z"
   },
   {
    "duration": 13,
    "start_time": "2022-10-08T10:04:58.992Z"
   },
   {
    "duration": 30,
    "start_time": "2022-10-08T10:04:59.007Z"
   },
   {
    "duration": 26,
    "start_time": "2022-10-08T10:04:59.039Z"
   },
   {
    "duration": 30,
    "start_time": "2022-10-08T10:04:59.067Z"
   },
   {
    "duration": 54,
    "start_time": "2022-10-08T10:04:59.099Z"
   },
   {
    "duration": 184,
    "start_time": "2022-10-08T10:04:59.156Z"
   },
   {
    "duration": 186,
    "start_time": "2022-10-08T10:04:59.342Z"
   },
   {
    "duration": 362,
    "start_time": "2022-10-08T10:04:59.529Z"
   },
   {
    "duration": 12,
    "start_time": "2022-10-08T10:04:59.893Z"
   },
   {
    "duration": 10,
    "start_time": "2022-10-08T10:04:59.906Z"
   },
   {
    "duration": 29,
    "start_time": "2022-10-08T10:04:59.918Z"
   },
   {
    "duration": 144,
    "start_time": "2022-10-08T10:04:59.949Z"
   },
   {
    "duration": 169,
    "start_time": "2022-10-08T10:05:00.098Z"
   },
   {
    "duration": 6,
    "start_time": "2022-10-08T10:05:00.269Z"
   },
   {
    "duration": 237,
    "start_time": "2022-10-08T10:05:00.277Z"
   },
   {
    "duration": 199,
    "start_time": "2022-10-08T10:05:00.516Z"
   },
   {
    "duration": 32970,
    "start_time": "2022-10-08T10:05:00.717Z"
   },
   {
    "duration": 15,
    "start_time": "2022-10-08T10:05:33.689Z"
   },
   {
    "duration": 71,
    "start_time": "2022-10-08T10:05:33.706Z"
   },
   {
    "duration": 646,
    "start_time": "2022-10-08T10:05:33.779Z"
   },
   {
    "duration": 172,
    "start_time": "2022-10-08T10:05:34.426Z"
   },
   {
    "duration": 56,
    "start_time": "2022-10-08T10:05:34.600Z"
   },
   {
    "duration": 160,
    "start_time": "2022-10-08T10:05:34.658Z"
   },
   {
    "duration": 139,
    "start_time": "2022-10-08T10:05:34.820Z"
   },
   {
    "duration": 74,
    "start_time": "2022-10-08T10:05:34.961Z"
   },
   {
    "duration": 10,
    "start_time": "2022-10-08T10:05:35.037Z"
   },
   {
    "duration": 69,
    "start_time": "2022-10-08T10:05:35.049Z"
   },
   {
    "duration": 23,
    "start_time": "2022-10-08T10:05:35.120Z"
   },
   {
    "duration": 23,
    "start_time": "2022-10-08T10:05:35.144Z"
   },
   {
    "duration": 15,
    "start_time": "2022-10-08T10:05:35.168Z"
   },
   {
    "duration": 7,
    "start_time": "2022-10-08T10:05:35.185Z"
   },
   {
    "duration": 56,
    "start_time": "2022-10-08T10:05:35.194Z"
   },
   {
    "duration": 5,
    "start_time": "2022-10-08T10:05:35.252Z"
   },
   {
    "duration": 20,
    "start_time": "2022-10-08T10:05:35.258Z"
   },
   {
    "duration": 8,
    "start_time": "2022-10-08T10:05:35.280Z"
   },
   {
    "duration": 15,
    "start_time": "2022-10-08T10:05:35.289Z"
   },
   {
    "duration": 17,
    "start_time": "2022-10-08T10:05:35.333Z"
   },
   {
    "duration": 6,
    "start_time": "2022-10-08T10:05:35.352Z"
   },
   {
    "duration": 222,
    "start_time": "2022-10-08T10:05:35.360Z"
   },
   {
    "duration": 27,
    "start_time": "2022-10-08T10:05:35.583Z"
   },
   {
    "duration": 37,
    "start_time": "2022-10-08T10:05:35.612Z"
   },
   {
    "duration": 4,
    "start_time": "2022-10-08T10:05:35.650Z"
   },
   {
    "duration": 17,
    "start_time": "2022-10-08T10:05:35.655Z"
   },
   {
    "duration": 26,
    "start_time": "2022-10-08T10:05:35.673Z"
   },
   {
    "duration": 237,
    "start_time": "2022-10-08T10:05:35.701Z"
   },
   {
    "duration": 5,
    "start_time": "2022-10-08T10:05:35.940Z"
   },
   {
    "duration": 3,
    "start_time": "2022-10-08T10:11:23.082Z"
   },
   {
    "duration": 62,
    "start_time": "2022-10-08T10:11:49.695Z"
   },
   {
    "duration": 7,
    "start_time": "2022-10-08T10:12:13.848Z"
   },
   {
    "duration": 54,
    "start_time": "2022-10-08T10:12:21.440Z"
   },
   {
    "duration": 65,
    "start_time": "2022-10-08T10:13:47.666Z"
   },
   {
    "duration": 92,
    "start_time": "2022-10-08T10:14:04.619Z"
   },
   {
    "duration": 5,
    "start_time": "2022-10-08T10:14:20.321Z"
   },
   {
    "duration": 7,
    "start_time": "2022-10-08T10:14:25.612Z"
   },
   {
    "duration": 11,
    "start_time": "2022-10-08T10:14:29.597Z"
   },
   {
    "duration": 14,
    "start_time": "2022-10-08T10:14:39.833Z"
   },
   {
    "duration": 19,
    "start_time": "2022-10-08T10:15:08.563Z"
   },
   {
    "duration": 11,
    "start_time": "2022-10-08T10:15:17.807Z"
   },
   {
    "duration": 21,
    "start_time": "2022-10-08T10:15:24.606Z"
   },
   {
    "duration": 13,
    "start_time": "2022-10-08T10:16:27.680Z"
   },
   {
    "duration": 14,
    "start_time": "2022-10-08T10:16:31.948Z"
   },
   {
    "duration": 19,
    "start_time": "2022-10-08T10:16:37.847Z"
   },
   {
    "duration": 743,
    "start_time": "2022-10-08T10:16:55.160Z"
   },
   {
    "duration": 17,
    "start_time": "2022-10-08T10:17:07.271Z"
   },
   {
    "duration": 20,
    "start_time": "2022-10-08T10:18:12.574Z"
   },
   {
    "duration": 18,
    "start_time": "2022-10-08T10:18:21.130Z"
   },
   {
    "duration": 19,
    "start_time": "2022-10-08T10:18:24.627Z"
   },
   {
    "duration": 20,
    "start_time": "2022-10-08T10:18:29.310Z"
   },
   {
    "duration": 21,
    "start_time": "2022-10-08T10:18:40.955Z"
   },
   {
    "duration": 23,
    "start_time": "2022-10-08T10:18:45.341Z"
   },
   {
    "duration": 22,
    "start_time": "2022-10-08T10:18:49.246Z"
   },
   {
    "duration": 21,
    "start_time": "2022-10-08T10:18:53.078Z"
   },
   {
    "duration": 45,
    "start_time": "2022-10-08T10:19:22.181Z"
   },
   {
    "duration": 1199,
    "start_time": "2022-10-08T10:25:16.117Z"
   },
   {
    "duration": 271,
    "start_time": "2022-10-08T10:25:17.318Z"
   },
   {
    "duration": 4,
    "start_time": "2022-10-08T10:25:17.590Z"
   },
   {
    "duration": 16,
    "start_time": "2022-10-08T10:25:17.595Z"
   },
   {
    "duration": 8,
    "start_time": "2022-10-08T10:25:17.613Z"
   },
   {
    "duration": 12,
    "start_time": "2022-10-08T10:25:17.623Z"
   },
   {
    "duration": 52,
    "start_time": "2022-10-08T10:25:17.637Z"
   },
   {
    "duration": 64,
    "start_time": "2022-10-08T10:25:17.691Z"
   },
   {
    "duration": 18,
    "start_time": "2022-10-08T10:25:17.757Z"
   },
   {
    "duration": 78,
    "start_time": "2022-10-08T10:25:17.777Z"
   },
   {
    "duration": 65,
    "start_time": "2022-10-08T10:25:17.856Z"
   },
   {
    "duration": 67,
    "start_time": "2022-10-08T10:25:17.923Z"
   },
   {
    "duration": 56,
    "start_time": "2022-10-08T10:25:17.992Z"
   },
   {
    "duration": 14,
    "start_time": "2022-10-08T10:25:18.050Z"
   },
   {
    "duration": 13,
    "start_time": "2022-10-08T10:25:18.065Z"
   },
   {
    "duration": 18,
    "start_time": "2022-10-08T10:25:18.079Z"
   },
   {
    "duration": 12,
    "start_time": "2022-10-08T10:25:18.099Z"
   },
   {
    "duration": 13,
    "start_time": "2022-10-08T10:25:18.112Z"
   },
   {
    "duration": 24,
    "start_time": "2022-10-08T10:25:18.126Z"
   },
   {
    "duration": 37,
    "start_time": "2022-10-08T10:25:18.151Z"
   },
   {
    "duration": 161,
    "start_time": "2022-10-08T10:25:18.189Z"
   },
   {
    "duration": 164,
    "start_time": "2022-10-08T10:25:18.352Z"
   },
   {
    "duration": 357,
    "start_time": "2022-10-08T10:25:18.517Z"
   },
   {
    "duration": 11,
    "start_time": "2022-10-08T10:25:18.876Z"
   },
   {
    "duration": 10,
    "start_time": "2022-10-08T10:25:18.888Z"
   },
   {
    "duration": 7,
    "start_time": "2022-10-08T10:25:18.900Z"
   },
   {
    "duration": 150,
    "start_time": "2022-10-08T10:25:18.908Z"
   },
   {
    "duration": 135,
    "start_time": "2022-10-08T10:25:19.062Z"
   },
   {
    "duration": 6,
    "start_time": "2022-10-08T10:25:19.198Z"
   },
   {
    "duration": 153,
    "start_time": "2022-10-08T10:25:19.205Z"
   },
   {
    "duration": 142,
    "start_time": "2022-10-08T10:25:19.360Z"
   },
   {
    "duration": 32864,
    "start_time": "2022-10-08T10:25:19.504Z"
   },
   {
    "duration": 15,
    "start_time": "2022-10-08T10:25:52.369Z"
   },
   {
    "duration": 77,
    "start_time": "2022-10-08T10:25:52.385Z"
   },
   {
    "duration": 695,
    "start_time": "2022-10-08T10:25:52.464Z"
   },
   {
    "duration": 178,
    "start_time": "2022-10-08T10:25:53.161Z"
   },
   {
    "duration": 44,
    "start_time": "2022-10-08T10:25:53.342Z"
   },
   {
    "duration": 174,
    "start_time": "2022-10-08T10:25:53.388Z"
   },
   {
    "duration": 143,
    "start_time": "2022-10-08T10:25:53.563Z"
   },
   {
    "duration": 56,
    "start_time": "2022-10-08T10:25:53.708Z"
   },
   {
    "duration": 7,
    "start_time": "2022-10-08T10:25:53.765Z"
   },
   {
    "duration": 54,
    "start_time": "2022-10-08T10:25:53.774Z"
   },
   {
    "duration": 15,
    "start_time": "2022-10-08T10:25:53.834Z"
   },
   {
    "duration": 32,
    "start_time": "2022-10-08T10:25:53.851Z"
   },
   {
    "duration": 16,
    "start_time": "2022-10-08T10:25:53.885Z"
   },
   {
    "duration": 4,
    "start_time": "2022-10-08T10:25:53.903Z"
   },
   {
    "duration": 60,
    "start_time": "2022-10-08T10:25:53.909Z"
   },
   {
    "duration": 5,
    "start_time": "2022-10-08T10:25:53.971Z"
   },
   {
    "duration": 18,
    "start_time": "2022-10-08T10:25:53.978Z"
   },
   {
    "duration": 9,
    "start_time": "2022-10-08T10:25:53.998Z"
   },
   {
    "duration": 32,
    "start_time": "2022-10-08T10:25:54.009Z"
   },
   {
    "duration": 19,
    "start_time": "2022-10-08T10:25:54.042Z"
   },
   {
    "duration": 7,
    "start_time": "2022-10-08T10:25:54.063Z"
   },
   {
    "duration": 231,
    "start_time": "2022-10-08T10:25:54.071Z"
   },
   {
    "duration": 46,
    "start_time": "2022-10-08T10:25:54.304Z"
   },
   {
    "duration": 24,
    "start_time": "2022-10-08T10:25:54.352Z"
   },
   {
    "duration": 8,
    "start_time": "2022-10-08T10:25:54.378Z"
   },
   {
    "duration": 24,
    "start_time": "2022-10-08T10:25:54.388Z"
   },
   {
    "duration": 48,
    "start_time": "2022-10-08T10:25:54.414Z"
   },
   {
    "duration": 218,
    "start_time": "2022-10-08T10:25:54.464Z"
   },
   {
    "duration": 4,
    "start_time": "2022-10-08T10:25:54.684Z"
   },
   {
    "duration": 72,
    "start_time": "2022-10-08T10:25:54.689Z"
   },
   {
    "duration": 44,
    "start_time": "2022-10-08T10:25:54.763Z"
   },
   {
    "duration": 41,
    "start_time": "2022-10-08T10:25:54.809Z"
   },
   {
    "duration": 25,
    "start_time": "2022-10-08T10:25:54.852Z"
   },
   {
    "duration": 32,
    "start_time": "2022-10-08T10:25:54.879Z"
   },
   {
    "duration": 20,
    "start_time": "2022-10-08T10:26:06.046Z"
   },
   {
    "duration": 29,
    "start_time": "2022-10-08T10:26:11.916Z"
   },
   {
    "duration": 3,
    "start_time": "2022-10-08T10:30:19.430Z"
   },
   {
    "duration": 103,
    "start_time": "2022-10-08T10:30:25.811Z"
   },
   {
    "duration": 1048,
    "start_time": "2022-10-08T10:32:37.059Z"
   },
   {
    "duration": 269,
    "start_time": "2022-10-08T10:32:38.110Z"
   },
   {
    "duration": 4,
    "start_time": "2022-10-08T10:32:38.381Z"
   },
   {
    "duration": 14,
    "start_time": "2022-10-08T10:32:38.387Z"
   },
   {
    "duration": 10,
    "start_time": "2022-10-08T10:32:38.402Z"
   },
   {
    "duration": 14,
    "start_time": "2022-10-08T10:32:38.413Z"
   },
   {
    "duration": 40,
    "start_time": "2022-10-08T10:32:38.429Z"
   },
   {
    "duration": 58,
    "start_time": "2022-10-08T10:32:38.470Z"
   },
   {
    "duration": 24,
    "start_time": "2022-10-08T10:32:38.529Z"
   },
   {
    "duration": 52,
    "start_time": "2022-10-08T10:32:38.556Z"
   },
   {
    "duration": 80,
    "start_time": "2022-10-08T10:32:38.610Z"
   },
   {
    "duration": 64,
    "start_time": "2022-10-08T10:32:38.692Z"
   },
   {
    "duration": 43,
    "start_time": "2022-10-08T10:32:38.757Z"
   },
   {
    "duration": 23,
    "start_time": "2022-10-08T10:32:38.803Z"
   },
   {
    "duration": 16,
    "start_time": "2022-10-08T10:32:38.828Z"
   },
   {
    "duration": 7,
    "start_time": "2022-10-08T10:32:38.846Z"
   },
   {
    "duration": 13,
    "start_time": "2022-10-08T10:32:38.854Z"
   },
   {
    "duration": 11,
    "start_time": "2022-10-08T10:32:38.869Z"
   },
   {
    "duration": 18,
    "start_time": "2022-10-08T10:32:38.881Z"
   },
   {
    "duration": 52,
    "start_time": "2022-10-08T10:32:38.901Z"
   },
   {
    "duration": 148,
    "start_time": "2022-10-08T10:32:38.954Z"
   },
   {
    "duration": 161,
    "start_time": "2022-10-08T10:32:39.104Z"
   },
   {
    "duration": 334,
    "start_time": "2022-10-08T10:32:39.267Z"
   },
   {
    "duration": 12,
    "start_time": "2022-10-08T10:32:39.603Z"
   },
   {
    "duration": 20,
    "start_time": "2022-10-08T10:32:39.616Z"
   },
   {
    "duration": 7,
    "start_time": "2022-10-08T10:32:39.637Z"
   },
   {
    "duration": 151,
    "start_time": "2022-10-08T10:32:39.646Z"
   },
   {
    "duration": 132,
    "start_time": "2022-10-08T10:32:39.801Z"
   },
   {
    "duration": 5,
    "start_time": "2022-10-08T10:32:39.935Z"
   },
   {
    "duration": 163,
    "start_time": "2022-10-08T10:32:39.942Z"
   },
   {
    "duration": 159,
    "start_time": "2022-10-08T10:32:40.107Z"
   },
   {
    "duration": 31860,
    "start_time": "2022-10-08T10:32:40.268Z"
   },
   {
    "duration": 15,
    "start_time": "2022-10-08T10:33:12.130Z"
   },
   {
    "duration": 85,
    "start_time": "2022-10-08T10:33:12.146Z"
   },
   {
    "duration": 649,
    "start_time": "2022-10-08T10:33:12.233Z"
   },
   {
    "duration": 181,
    "start_time": "2022-10-08T10:33:12.883Z"
   },
   {
    "duration": 44,
    "start_time": "2022-10-08T10:33:13.065Z"
   },
   {
    "duration": 167,
    "start_time": "2022-10-08T10:33:13.111Z"
   },
   {
    "duration": 147,
    "start_time": "2022-10-08T10:33:13.281Z"
   },
   {
    "duration": 45,
    "start_time": "2022-10-08T10:33:13.434Z"
   },
   {
    "duration": 9,
    "start_time": "2022-10-08T10:33:13.481Z"
   },
   {
    "duration": 69,
    "start_time": "2022-10-08T10:33:13.492Z"
   },
   {
    "duration": 10,
    "start_time": "2022-10-08T10:33:13.563Z"
   },
   {
    "duration": 31,
    "start_time": "2022-10-08T10:33:13.575Z"
   },
   {
    "duration": 38,
    "start_time": "2022-10-08T10:33:13.608Z"
   },
   {
    "duration": 5,
    "start_time": "2022-10-08T10:33:13.648Z"
   },
   {
    "duration": 42,
    "start_time": "2022-10-08T10:33:13.656Z"
   },
   {
    "duration": 6,
    "start_time": "2022-10-08T10:33:13.699Z"
   },
   {
    "duration": 31,
    "start_time": "2022-10-08T10:33:13.706Z"
   },
   {
    "duration": 7,
    "start_time": "2022-10-08T10:33:13.738Z"
   },
   {
    "duration": 25,
    "start_time": "2022-10-08T10:33:13.747Z"
   },
   {
    "duration": 17,
    "start_time": "2022-10-08T10:33:13.773Z"
   },
   {
    "duration": 7,
    "start_time": "2022-10-08T10:33:13.792Z"
   },
   {
    "duration": 215,
    "start_time": "2022-10-08T10:33:13.800Z"
   },
   {
    "duration": 41,
    "start_time": "2022-10-08T10:33:14.017Z"
   },
   {
    "duration": 17,
    "start_time": "2022-10-08T10:33:14.060Z"
   },
   {
    "duration": 3,
    "start_time": "2022-10-08T10:33:14.078Z"
   },
   {
    "duration": 15,
    "start_time": "2022-10-08T10:33:14.083Z"
   },
   {
    "duration": 40,
    "start_time": "2022-10-08T10:33:14.100Z"
   },
   {
    "duration": 208,
    "start_time": "2022-10-08T10:33:14.142Z"
   },
   {
    "duration": 5,
    "start_time": "2022-10-08T10:33:14.352Z"
   },
   {
    "duration": 59,
    "start_time": "2022-10-08T10:33:14.358Z"
   },
   {
    "duration": 50,
    "start_time": "2022-10-08T10:33:14.419Z"
   },
   {
    "duration": 1100,
    "start_time": "2022-10-08T10:37:08.525Z"
   },
   {
    "duration": 276,
    "start_time": "2022-10-08T10:37:09.627Z"
   },
   {
    "duration": 3,
    "start_time": "2022-10-08T10:37:09.904Z"
   },
   {
    "duration": 14,
    "start_time": "2022-10-08T10:37:09.909Z"
   },
   {
    "duration": 13,
    "start_time": "2022-10-08T10:37:09.924Z"
   },
   {
    "duration": 13,
    "start_time": "2022-10-08T10:37:09.940Z"
   },
   {
    "duration": 36,
    "start_time": "2022-10-08T10:37:09.955Z"
   },
   {
    "duration": 65,
    "start_time": "2022-10-08T10:37:09.992Z"
   },
   {
    "duration": 17,
    "start_time": "2022-10-08T10:37:10.059Z"
   },
   {
    "duration": 68,
    "start_time": "2022-10-08T10:37:10.079Z"
   },
   {
    "duration": 68,
    "start_time": "2022-10-08T10:37:10.149Z"
   },
   {
    "duration": 72,
    "start_time": "2022-10-08T10:37:10.219Z"
   },
   {
    "duration": 46,
    "start_time": "2022-10-08T10:37:10.293Z"
   },
   {
    "duration": 13,
    "start_time": "2022-10-08T10:37:10.345Z"
   },
   {
    "duration": 21,
    "start_time": "2022-10-08T10:37:10.359Z"
   },
   {
    "duration": 24,
    "start_time": "2022-10-08T10:37:10.382Z"
   },
   {
    "duration": 20,
    "start_time": "2022-10-08T10:37:10.408Z"
   },
   {
    "duration": 31,
    "start_time": "2022-10-08T10:37:10.429Z"
   },
   {
    "duration": 21,
    "start_time": "2022-10-08T10:37:10.461Z"
   },
   {
    "duration": 30,
    "start_time": "2022-10-08T10:37:10.484Z"
   },
   {
    "duration": 146,
    "start_time": "2022-10-08T10:37:10.516Z"
   },
   {
    "duration": 166,
    "start_time": "2022-10-08T10:37:10.664Z"
   },
   {
    "duration": 332,
    "start_time": "2022-10-08T10:37:10.839Z"
   },
   {
    "duration": 13,
    "start_time": "2022-10-08T10:37:11.173Z"
   },
   {
    "duration": 10,
    "start_time": "2022-10-08T10:37:11.188Z"
   },
   {
    "duration": 10,
    "start_time": "2022-10-08T10:37:11.200Z"
   },
   {
    "duration": 146,
    "start_time": "2022-10-08T10:37:11.211Z"
   },
   {
    "duration": 132,
    "start_time": "2022-10-08T10:37:11.360Z"
   },
   {
    "duration": 6,
    "start_time": "2022-10-08T10:37:11.494Z"
   },
   {
    "duration": 155,
    "start_time": "2022-10-08T10:37:11.502Z"
   },
   {
    "duration": 151,
    "start_time": "2022-10-08T10:37:11.659Z"
   },
   {
    "duration": 32530,
    "start_time": "2022-10-08T10:37:11.812Z"
   },
   {
    "duration": 14,
    "start_time": "2022-10-08T10:37:44.346Z"
   },
   {
    "duration": 67,
    "start_time": "2022-10-08T10:37:44.361Z"
   },
   {
    "duration": 638,
    "start_time": "2022-10-08T10:37:44.434Z"
   },
   {
    "duration": 167,
    "start_time": "2022-10-08T10:37:45.074Z"
   },
   {
    "duration": 45,
    "start_time": "2022-10-08T10:37:45.242Z"
   },
   {
    "duration": 174,
    "start_time": "2022-10-08T10:37:45.289Z"
   },
   {
    "duration": 149,
    "start_time": "2022-10-08T10:37:45.465Z"
   },
   {
    "duration": 52,
    "start_time": "2022-10-08T10:37:45.616Z"
   },
   {
    "duration": 7,
    "start_time": "2022-10-08T10:37:45.669Z"
   },
   {
    "duration": 71,
    "start_time": "2022-10-08T10:37:45.677Z"
   },
   {
    "duration": 9,
    "start_time": "2022-10-08T10:37:45.750Z"
   },
   {
    "duration": 26,
    "start_time": "2022-10-08T10:37:45.761Z"
   },
   {
    "duration": 16,
    "start_time": "2022-10-08T10:37:45.789Z"
   },
   {
    "duration": 6,
    "start_time": "2022-10-08T10:37:45.807Z"
   },
   {
    "duration": 54,
    "start_time": "2022-10-08T10:37:45.815Z"
   },
   {
    "duration": 6,
    "start_time": "2022-10-08T10:37:45.871Z"
   },
   {
    "duration": 16,
    "start_time": "2022-10-08T10:37:45.878Z"
   },
   {
    "duration": 7,
    "start_time": "2022-10-08T10:37:45.896Z"
   },
   {
    "duration": 42,
    "start_time": "2022-10-08T10:37:45.904Z"
   },
   {
    "duration": 17,
    "start_time": "2022-10-08T10:37:45.947Z"
   },
   {
    "duration": 6,
    "start_time": "2022-10-08T10:37:45.966Z"
   },
   {
    "duration": 210,
    "start_time": "2022-10-08T10:37:45.974Z"
   },
   {
    "duration": 26,
    "start_time": "2022-10-08T10:37:46.186Z"
   },
   {
    "duration": 38,
    "start_time": "2022-10-08T10:37:46.215Z"
   },
   {
    "duration": 16,
    "start_time": "2022-10-08T10:37:46.255Z"
   },
   {
    "duration": 21,
    "start_time": "2022-10-08T10:37:46.273Z"
   },
   {
    "duration": 35,
    "start_time": "2022-10-08T10:37:46.296Z"
   },
   {
    "duration": 248,
    "start_time": "2022-10-08T10:37:46.332Z"
   },
   {
    "duration": 5,
    "start_time": "2022-10-08T10:37:46.581Z"
   },
   {
    "duration": 74,
    "start_time": "2022-10-08T10:37:46.587Z"
   },
   {
    "duration": 41,
    "start_time": "2022-10-08T10:37:46.662Z"
   },
   {
    "duration": 1123,
    "start_time": "2022-10-08T10:42:24.244Z"
   },
   {
    "duration": 262,
    "start_time": "2022-10-08T10:42:25.369Z"
   },
   {
    "duration": 11,
    "start_time": "2022-10-08T10:42:25.632Z"
   },
   {
    "duration": 26,
    "start_time": "2022-10-08T10:42:25.645Z"
   },
   {
    "duration": 10,
    "start_time": "2022-10-08T10:42:25.673Z"
   },
   {
    "duration": 19,
    "start_time": "2022-10-08T10:42:25.684Z"
   },
   {
    "duration": 46,
    "start_time": "2022-10-08T10:42:25.705Z"
   },
   {
    "duration": 75,
    "start_time": "2022-10-08T10:42:25.753Z"
   },
   {
    "duration": 22,
    "start_time": "2022-10-08T10:42:25.830Z"
   },
   {
    "duration": 60,
    "start_time": "2022-10-08T10:42:25.853Z"
   },
   {
    "duration": 79,
    "start_time": "2022-10-08T10:42:25.915Z"
   },
   {
    "duration": 71,
    "start_time": "2022-10-08T10:42:25.996Z"
   },
   {
    "duration": 47,
    "start_time": "2022-10-08T10:42:26.070Z"
   },
   {
    "duration": 18,
    "start_time": "2022-10-08T10:42:26.120Z"
   },
   {
    "duration": 16,
    "start_time": "2022-10-08T10:42:26.147Z"
   },
   {
    "duration": 7,
    "start_time": "2022-10-08T10:42:26.165Z"
   },
   {
    "duration": 16,
    "start_time": "2022-10-08T10:42:26.174Z"
   },
   {
    "duration": 18,
    "start_time": "2022-10-08T10:42:26.192Z"
   },
   {
    "duration": 62,
    "start_time": "2022-10-08T10:42:26.212Z"
   },
   {
    "duration": 35,
    "start_time": "2022-10-08T10:42:26.275Z"
   },
   {
    "duration": 180,
    "start_time": "2022-10-08T10:42:26.312Z"
   },
   {
    "duration": 177,
    "start_time": "2022-10-08T10:42:26.494Z"
   },
   {
    "duration": 340,
    "start_time": "2022-10-08T10:42:26.672Z"
   },
   {
    "duration": 11,
    "start_time": "2022-10-08T10:42:27.013Z"
   },
   {
    "duration": 17,
    "start_time": "2022-10-08T10:42:27.025Z"
   },
   {
    "duration": 7,
    "start_time": "2022-10-08T10:42:27.043Z"
   },
   {
    "duration": 139,
    "start_time": "2022-10-08T10:42:27.052Z"
   },
   {
    "duration": 135,
    "start_time": "2022-10-08T10:42:27.193Z"
   },
   {
    "duration": 18,
    "start_time": "2022-10-08T10:42:27.330Z"
   },
   {
    "duration": 138,
    "start_time": "2022-10-08T10:42:27.350Z"
   },
   {
    "duration": 137,
    "start_time": "2022-10-08T10:42:27.489Z"
   },
   {
    "duration": 32470,
    "start_time": "2022-10-08T10:42:27.628Z"
   },
   {
    "duration": 13,
    "start_time": "2022-10-08T10:43:00.100Z"
   },
   {
    "duration": 90,
    "start_time": "2022-10-08T10:43:00.115Z"
   },
   {
    "duration": 675,
    "start_time": "2022-10-08T10:43:00.208Z"
   },
   {
    "duration": 176,
    "start_time": "2022-10-08T10:43:00.885Z"
   },
   {
    "duration": 41,
    "start_time": "2022-10-08T10:43:01.063Z"
   },
   {
    "duration": 175,
    "start_time": "2022-10-08T10:43:01.105Z"
   },
   {
    "duration": 159,
    "start_time": "2022-10-08T10:43:01.282Z"
   },
   {
    "duration": 46,
    "start_time": "2022-10-08T10:43:01.447Z"
   },
   {
    "duration": 7,
    "start_time": "2022-10-08T10:43:01.497Z"
   },
   {
    "duration": 83,
    "start_time": "2022-10-08T10:43:01.506Z"
   },
   {
    "duration": 9,
    "start_time": "2022-10-08T10:43:01.590Z"
   },
   {
    "duration": 52,
    "start_time": "2022-10-08T10:43:01.601Z"
   },
   {
    "duration": 35,
    "start_time": "2022-10-08T10:43:01.655Z"
   },
   {
    "duration": 22,
    "start_time": "2022-10-08T10:43:01.691Z"
   },
   {
    "duration": 64,
    "start_time": "2022-10-08T10:43:01.714Z"
   },
   {
    "duration": 6,
    "start_time": "2022-10-08T10:43:01.779Z"
   },
   {
    "duration": 39,
    "start_time": "2022-10-08T10:43:01.786Z"
   },
   {
    "duration": 29,
    "start_time": "2022-10-08T10:43:01.827Z"
   },
   {
    "duration": 50,
    "start_time": "2022-10-08T10:43:01.857Z"
   },
   {
    "duration": 31,
    "start_time": "2022-10-08T10:43:01.909Z"
   },
   {
    "duration": 11,
    "start_time": "2022-10-08T10:43:01.941Z"
   },
   {
    "duration": 213,
    "start_time": "2022-10-08T10:43:01.954Z"
   },
   {
    "duration": 27,
    "start_time": "2022-10-08T10:43:02.169Z"
   },
   {
    "duration": 19,
    "start_time": "2022-10-08T10:43:02.198Z"
   },
   {
    "duration": 12,
    "start_time": "2022-10-08T10:43:02.233Z"
   },
   {
    "duration": 23,
    "start_time": "2022-10-08T10:43:02.247Z"
   },
   {
    "duration": 84,
    "start_time": "2022-10-08T10:43:02.272Z"
   },
   {
    "duration": 202,
    "start_time": "2022-10-08T10:43:02.357Z"
   },
   {
    "duration": 5,
    "start_time": "2022-10-08T10:43:02.560Z"
   },
   {
    "duration": 70,
    "start_time": "2022-10-08T10:43:02.566Z"
   },
   {
    "duration": 42,
    "start_time": "2022-10-08T10:43:02.637Z"
   },
   {
    "duration": 16,
    "start_time": "2022-10-08T10:43:02.680Z"
   },
   {
    "duration": 23,
    "start_time": "2022-10-08T10:43:02.697Z"
   },
   {
    "duration": 33,
    "start_time": "2022-10-08T10:43:02.722Z"
   },
   {
    "duration": 21,
    "start_time": "2022-10-08T10:43:56.535Z"
   },
   {
    "duration": 19,
    "start_time": "2022-10-08T10:44:54.700Z"
   },
   {
    "duration": 21,
    "start_time": "2022-10-08T10:49:02.755Z"
   },
   {
    "duration": 18,
    "start_time": "2022-10-08T10:49:06.191Z"
   },
   {
    "duration": 9,
    "start_time": "2022-10-08T10:49:39.009Z"
   },
   {
    "duration": 18,
    "start_time": "2022-10-08T10:50:06.788Z"
   },
   {
    "duration": 24,
    "start_time": "2022-10-08T10:50:20.588Z"
   },
   {
    "duration": 15,
    "start_time": "2022-10-08T10:50:27.044Z"
   },
   {
    "duration": 15,
    "start_time": "2022-10-08T10:50:49.007Z"
   },
   {
    "duration": 27,
    "start_time": "2022-10-08T10:50:55.502Z"
   },
   {
    "duration": 40,
    "start_time": "2022-10-08T10:51:13.379Z"
   },
   {
    "duration": 204,
    "start_time": "2022-10-08T10:51:14.074Z"
   },
   {
    "duration": 25,
    "start_time": "2022-10-08T10:51:35.782Z"
   },
   {
    "duration": 257,
    "start_time": "2022-10-08T10:51:36.201Z"
   },
   {
    "duration": 5,
    "start_time": "2022-10-08T10:51:42.340Z"
   },
   {
    "duration": 51,
    "start_time": "2022-10-08T10:51:42.562Z"
   },
   {
    "duration": 18,
    "start_time": "2022-10-08T10:51:42.711Z"
   },
   {
    "duration": 17,
    "start_time": "2022-10-08T10:51:42.861Z"
   },
   {
    "duration": 19,
    "start_time": "2022-10-08T10:51:43.016Z"
   },
   {
    "duration": 932,
    "start_time": "2022-10-08T10:51:43.148Z"
   },
   {
    "duration": 9,
    "start_time": "2022-10-08T10:51:52.854Z"
   },
   {
    "duration": 5,
    "start_time": "2022-10-08T10:52:22.317Z"
   },
   {
    "duration": 5,
    "start_time": "2022-10-08T10:52:25.872Z"
   },
   {
    "duration": 11,
    "start_time": "2022-10-08T10:52:30.019Z"
   },
   {
    "duration": 16,
    "start_time": "2022-10-08T10:52:59.721Z"
   },
   {
    "duration": 10,
    "start_time": "2022-10-08T10:53:05.584Z"
   },
   {
    "duration": 82,
    "start_time": "2022-10-08T10:53:37.407Z"
   },
   {
    "duration": 18,
    "start_time": "2022-10-08T10:53:56.570Z"
   },
   {
    "duration": 15,
    "start_time": "2022-10-08T10:54:01.379Z"
   },
   {
    "duration": 17,
    "start_time": "2022-10-08T10:54:02.020Z"
   },
   {
    "duration": 9,
    "start_time": "2022-10-08T10:54:09.192Z"
   },
   {
    "duration": 5,
    "start_time": "2022-10-08T10:54:25.948Z"
   },
   {
    "duration": 13,
    "start_time": "2022-10-08T10:54:40.129Z"
   },
   {
    "duration": 17,
    "start_time": "2022-10-08T10:54:40.352Z"
   },
   {
    "duration": 8,
    "start_time": "2022-10-08T10:54:41.038Z"
   },
   {
    "duration": 12,
    "start_time": "2022-10-08T10:55:01.601Z"
   },
   {
    "duration": 18,
    "start_time": "2022-10-08T10:55:02.185Z"
   },
   {
    "duration": 9,
    "start_time": "2022-10-08T10:55:03.047Z"
   },
   {
    "duration": 13,
    "start_time": "2022-10-08T10:55:33.162Z"
   },
   {
    "duration": 18,
    "start_time": "2022-10-08T10:55:33.540Z"
   },
   {
    "duration": 9,
    "start_time": "2022-10-08T10:55:34.265Z"
   },
   {
    "duration": 13,
    "start_time": "2022-10-08T10:56:42.995Z"
   },
   {
    "duration": 16,
    "start_time": "2022-10-08T10:56:44.751Z"
   },
   {
    "duration": 8,
    "start_time": "2022-10-08T10:56:46.086Z"
   },
   {
    "duration": 4,
    "start_time": "2022-10-08T10:56:55.173Z"
   },
   {
    "duration": 13,
    "start_time": "2022-10-08T10:57:34.279Z"
   },
   {
    "duration": 21,
    "start_time": "2022-10-08T10:57:34.519Z"
   },
   {
    "duration": 20,
    "start_time": "2022-10-08T10:57:34.720Z"
   },
   {
    "duration": 22,
    "start_time": "2022-10-08T10:57:34.946Z"
   },
   {
    "duration": 10,
    "start_time": "2022-10-08T10:57:45.495Z"
   },
   {
    "duration": 17,
    "start_time": "2022-10-08T10:57:59.080Z"
   },
   {
    "duration": 21,
    "start_time": "2022-10-08T10:58:06.504Z"
   },
   {
    "duration": 20,
    "start_time": "2022-10-08T10:58:13.855Z"
   },
   {
    "duration": 18,
    "start_time": "2022-10-08T10:58:25.532Z"
   },
   {
    "duration": 9,
    "start_time": "2022-10-08T10:58:25.992Z"
   },
   {
    "duration": 19,
    "start_time": "2022-10-08T10:59:23.409Z"
   },
   {
    "duration": 28,
    "start_time": "2022-10-08T10:59:41.400Z"
   },
   {
    "duration": 25,
    "start_time": "2022-10-08T10:59:48.580Z"
   },
   {
    "duration": 20,
    "start_time": "2022-10-08T10:59:58.308Z"
   },
   {
    "duration": 3,
    "start_time": "2022-10-08T11:35:59.559Z"
   },
   {
    "duration": 56,
    "start_time": "2022-10-08T11:36:00.402Z"
   },
   {
    "duration": 237,
    "start_time": "2022-10-08T11:36:07.670Z"
   },
   {
    "duration": 1116,
    "start_time": "2022-10-08T11:38:27.954Z"
   },
   {
    "duration": 250,
    "start_time": "2022-10-08T11:38:29.072Z"
   },
   {
    "duration": 3,
    "start_time": "2022-10-08T11:38:29.324Z"
   },
   {
    "duration": 13,
    "start_time": "2022-10-08T11:38:29.328Z"
   },
   {
    "duration": 8,
    "start_time": "2022-10-08T11:38:29.342Z"
   },
   {
    "duration": 8,
    "start_time": "2022-10-08T11:38:29.352Z"
   },
   {
    "duration": 34,
    "start_time": "2022-10-08T11:38:29.361Z"
   },
   {
    "duration": 67,
    "start_time": "2022-10-08T11:38:29.396Z"
   },
   {
    "duration": 17,
    "start_time": "2022-10-08T11:38:29.465Z"
   },
   {
    "duration": 70,
    "start_time": "2022-10-08T11:38:29.484Z"
   },
   {
    "duration": 63,
    "start_time": "2022-10-08T11:38:29.556Z"
   },
   {
    "duration": 62,
    "start_time": "2022-10-08T11:38:29.620Z"
   },
   {
    "duration": 48,
    "start_time": "2022-10-08T11:38:29.685Z"
   },
   {
    "duration": 10,
    "start_time": "2022-10-08T11:38:29.735Z"
   },
   {
    "duration": 13,
    "start_time": "2022-10-08T11:38:29.746Z"
   },
   {
    "duration": 15,
    "start_time": "2022-10-08T11:38:29.760Z"
   },
   {
    "duration": 16,
    "start_time": "2022-10-08T11:38:29.777Z"
   },
   {
    "duration": 10,
    "start_time": "2022-10-08T11:38:29.795Z"
   },
   {
    "duration": 35,
    "start_time": "2022-10-08T11:38:29.807Z"
   },
   {
    "duration": 30,
    "start_time": "2022-10-08T11:38:29.844Z"
   },
   {
    "duration": 152,
    "start_time": "2022-10-08T11:38:29.876Z"
   },
   {
    "duration": 183,
    "start_time": "2022-10-08T11:38:30.030Z"
   },
   {
    "duration": 334,
    "start_time": "2022-10-08T11:38:30.215Z"
   },
   {
    "duration": 12,
    "start_time": "2022-10-08T11:38:30.550Z"
   },
   {
    "duration": 29,
    "start_time": "2022-10-08T11:38:30.564Z"
   },
   {
    "duration": 15,
    "start_time": "2022-10-08T11:38:30.595Z"
   },
   {
    "duration": 143,
    "start_time": "2022-10-08T11:38:30.612Z"
   },
   {
    "duration": 137,
    "start_time": "2022-10-08T11:38:30.759Z"
   },
   {
    "duration": 5,
    "start_time": "2022-10-08T11:38:30.898Z"
   },
   {
    "duration": 151,
    "start_time": "2022-10-08T11:38:30.905Z"
   },
   {
    "duration": 152,
    "start_time": "2022-10-08T11:38:31.057Z"
   },
   {
    "duration": 30404,
    "start_time": "2022-10-08T11:38:31.211Z"
   },
   {
    "duration": 17,
    "start_time": "2022-10-08T11:39:01.617Z"
   },
   {
    "duration": 60,
    "start_time": "2022-10-08T11:39:01.635Z"
   },
   {
    "duration": 646,
    "start_time": "2022-10-08T11:39:01.697Z"
   },
   {
    "duration": 157,
    "start_time": "2022-10-08T11:39:02.344Z"
   },
   {
    "duration": 54,
    "start_time": "2022-10-08T11:39:02.502Z"
   },
   {
    "duration": 156,
    "start_time": "2022-10-08T11:39:02.558Z"
   },
   {
    "duration": 143,
    "start_time": "2022-10-08T11:39:02.716Z"
   },
   {
    "duration": 43,
    "start_time": "2022-10-08T11:39:02.861Z"
   },
   {
    "duration": 7,
    "start_time": "2022-10-08T11:39:02.905Z"
   },
   {
    "duration": 58,
    "start_time": "2022-10-08T11:39:02.914Z"
   },
   {
    "duration": 8,
    "start_time": "2022-10-08T11:39:02.973Z"
   },
   {
    "duration": 23,
    "start_time": "2022-10-08T11:39:02.983Z"
   },
   {
    "duration": 36,
    "start_time": "2022-10-08T11:39:03.008Z"
   },
   {
    "duration": 4,
    "start_time": "2022-10-08T11:39:03.046Z"
   },
   {
    "duration": 31,
    "start_time": "2022-10-08T11:39:03.051Z"
   },
   {
    "duration": 4,
    "start_time": "2022-10-08T11:39:03.084Z"
   },
   {
    "duration": 18,
    "start_time": "2022-10-08T11:39:03.089Z"
   },
   {
    "duration": 27,
    "start_time": "2022-10-08T11:39:03.109Z"
   },
   {
    "duration": 13,
    "start_time": "2022-10-08T11:39:03.137Z"
   },
   {
    "duration": 17,
    "start_time": "2022-10-08T11:39:03.152Z"
   },
   {
    "duration": 6,
    "start_time": "2022-10-08T11:39:03.170Z"
   },
   {
    "duration": 221,
    "start_time": "2022-10-08T11:39:03.177Z"
   },
   {
    "duration": 35,
    "start_time": "2022-10-08T11:39:03.399Z"
   },
   {
    "duration": 16,
    "start_time": "2022-10-08T11:39:03.436Z"
   },
   {
    "duration": 4,
    "start_time": "2022-10-08T11:39:03.453Z"
   },
   {
    "duration": 16,
    "start_time": "2022-10-08T11:39:03.458Z"
   },
   {
    "duration": 32,
    "start_time": "2022-10-08T11:39:03.476Z"
   },
   {
    "duration": 207,
    "start_time": "2022-10-08T11:39:03.510Z"
   },
   {
    "duration": 14,
    "start_time": "2022-10-08T11:39:03.719Z"
   },
   {
    "duration": 39,
    "start_time": "2022-10-08T11:39:03.735Z"
   },
   {
    "duration": 19,
    "start_time": "2022-10-08T11:39:03.776Z"
   },
   {
    "duration": 39,
    "start_time": "2022-10-08T11:39:03.797Z"
   },
   {
    "duration": 18,
    "start_time": "2022-10-08T11:39:03.838Z"
   },
   {
    "duration": 1225,
    "start_time": "2022-10-09T12:36:48.736Z"
   },
   {
    "duration": 879,
    "start_time": "2022-10-09T12:36:49.963Z"
   },
   {
    "duration": 3,
    "start_time": "2022-10-09T12:36:50.844Z"
   },
   {
    "duration": 14,
    "start_time": "2022-10-09T12:36:50.848Z"
   },
   {
    "duration": 7,
    "start_time": "2022-10-09T12:36:50.863Z"
   },
   {
    "duration": 12,
    "start_time": "2022-10-09T12:36:50.871Z"
   },
   {
    "duration": 34,
    "start_time": "2022-10-09T12:36:50.884Z"
   },
   {
    "duration": 53,
    "start_time": "2022-10-09T12:36:50.920Z"
   },
   {
    "duration": 32,
    "start_time": "2022-10-09T12:36:50.975Z"
   },
   {
    "duration": 50,
    "start_time": "2022-10-09T12:36:51.009Z"
   },
   {
    "duration": 75,
    "start_time": "2022-10-09T12:36:51.060Z"
   },
   {
    "duration": 49,
    "start_time": "2022-10-09T12:36:51.137Z"
   },
   {
    "duration": 45,
    "start_time": "2022-10-09T12:36:51.188Z"
   },
   {
    "duration": 11,
    "start_time": "2022-10-09T12:36:51.234Z"
   },
   {
    "duration": 11,
    "start_time": "2022-10-09T12:36:51.246Z"
   },
   {
    "duration": 6,
    "start_time": "2022-10-09T12:36:51.259Z"
   },
   {
    "duration": 10,
    "start_time": "2022-10-09T12:36:51.266Z"
   },
   {
    "duration": 28,
    "start_time": "2022-10-09T12:36:51.277Z"
   },
   {
    "duration": 16,
    "start_time": "2022-10-09T12:36:51.307Z"
   },
   {
    "duration": 26,
    "start_time": "2022-10-09T12:36:51.325Z"
   },
   {
    "duration": 128,
    "start_time": "2022-10-09T12:36:51.353Z"
   },
   {
    "duration": 0,
    "start_time": "2022-10-09T12:36:51.483Z"
   },
   {
    "duration": 0,
    "start_time": "2022-10-09T12:36:51.484Z"
   },
   {
    "duration": 0,
    "start_time": "2022-10-09T12:36:51.485Z"
   },
   {
    "duration": 0,
    "start_time": "2022-10-09T12:36:51.486Z"
   },
   {
    "duration": 0,
    "start_time": "2022-10-09T12:36:51.487Z"
   },
   {
    "duration": 0,
    "start_time": "2022-10-09T12:36:51.488Z"
   },
   {
    "duration": 0,
    "start_time": "2022-10-09T12:36:51.489Z"
   },
   {
    "duration": 0,
    "start_time": "2022-10-09T12:36:51.490Z"
   },
   {
    "duration": 0,
    "start_time": "2022-10-09T12:36:51.505Z"
   },
   {
    "duration": 0,
    "start_time": "2022-10-09T12:36:51.506Z"
   },
   {
    "duration": 0,
    "start_time": "2022-10-09T12:36:51.507Z"
   },
   {
    "duration": 0,
    "start_time": "2022-10-09T12:36:51.508Z"
   },
   {
    "duration": 0,
    "start_time": "2022-10-09T12:36:51.509Z"
   },
   {
    "duration": 0,
    "start_time": "2022-10-09T12:36:51.510Z"
   },
   {
    "duration": 0,
    "start_time": "2022-10-09T12:36:51.511Z"
   },
   {
    "duration": 0,
    "start_time": "2022-10-09T12:36:51.512Z"
   },
   {
    "duration": 0,
    "start_time": "2022-10-09T12:36:51.513Z"
   },
   {
    "duration": 0,
    "start_time": "2022-10-09T12:36:51.514Z"
   },
   {
    "duration": 0,
    "start_time": "2022-10-09T12:36:51.515Z"
   },
   {
    "duration": 0,
    "start_time": "2022-10-09T12:36:51.516Z"
   },
   {
    "duration": 0,
    "start_time": "2022-10-09T12:36:51.517Z"
   },
   {
    "duration": 0,
    "start_time": "2022-10-09T12:36:51.518Z"
   },
   {
    "duration": 0,
    "start_time": "2022-10-09T12:36:51.519Z"
   },
   {
    "duration": 0,
    "start_time": "2022-10-09T12:36:51.520Z"
   },
   {
    "duration": 0,
    "start_time": "2022-10-09T12:36:51.521Z"
   },
   {
    "duration": 0,
    "start_time": "2022-10-09T12:36:51.521Z"
   },
   {
    "duration": 0,
    "start_time": "2022-10-09T12:36:51.522Z"
   },
   {
    "duration": 0,
    "start_time": "2022-10-09T12:36:51.523Z"
   },
   {
    "duration": 0,
    "start_time": "2022-10-09T12:36:51.524Z"
   },
   {
    "duration": 0,
    "start_time": "2022-10-09T12:36:51.525Z"
   },
   {
    "duration": 0,
    "start_time": "2022-10-09T12:36:51.525Z"
   },
   {
    "duration": 0,
    "start_time": "2022-10-09T12:36:51.526Z"
   },
   {
    "duration": 0,
    "start_time": "2022-10-09T12:36:51.527Z"
   },
   {
    "duration": 0,
    "start_time": "2022-10-09T12:36:51.528Z"
   },
   {
    "duration": 0,
    "start_time": "2022-10-09T12:36:51.529Z"
   },
   {
    "duration": 0,
    "start_time": "2022-10-09T12:36:51.530Z"
   },
   {
    "duration": 0,
    "start_time": "2022-10-09T12:36:51.530Z"
   },
   {
    "duration": 0,
    "start_time": "2022-10-09T12:36:51.531Z"
   },
   {
    "duration": 0,
    "start_time": "2022-10-09T12:36:51.532Z"
   },
   {
    "duration": 0,
    "start_time": "2022-10-09T12:36:51.533Z"
   },
   {
    "duration": 0,
    "start_time": "2022-10-09T12:36:51.534Z"
   },
   {
    "duration": 0,
    "start_time": "2022-10-09T12:36:51.535Z"
   },
   {
    "duration": 0,
    "start_time": "2022-10-09T12:36:51.536Z"
   },
   {
    "duration": 0,
    "start_time": "2022-10-09T12:36:51.537Z"
   },
   {
    "duration": 31,
    "start_time": "2022-10-09T12:37:35.666Z"
   },
   {
    "duration": 27,
    "start_time": "2022-10-09T12:37:44.943Z"
   },
   {
    "duration": 1065,
    "start_time": "2022-10-09T12:38:12.899Z"
   },
   {
    "duration": 225,
    "start_time": "2022-10-09T12:38:13.966Z"
   },
   {
    "duration": 3,
    "start_time": "2022-10-09T12:38:14.192Z"
   },
   {
    "duration": 12,
    "start_time": "2022-10-09T12:38:14.197Z"
   },
   {
    "duration": 7,
    "start_time": "2022-10-09T12:38:14.210Z"
   },
   {
    "duration": 7,
    "start_time": "2022-10-09T12:38:14.219Z"
   },
   {
    "duration": 40,
    "start_time": "2022-10-09T12:38:14.228Z"
   },
   {
    "duration": 63,
    "start_time": "2022-10-09T12:38:14.270Z"
   },
   {
    "duration": 17,
    "start_time": "2022-10-09T12:38:14.334Z"
   },
   {
    "duration": 58,
    "start_time": "2022-10-09T12:38:14.353Z"
   },
   {
    "duration": 64,
    "start_time": "2022-10-09T12:38:14.413Z"
   },
   {
    "duration": 65,
    "start_time": "2022-10-09T12:38:14.478Z"
   },
   {
    "duration": 33,
    "start_time": "2022-10-09T12:38:14.545Z"
   },
   {
    "duration": 11,
    "start_time": "2022-10-09T12:38:14.579Z"
   },
   {
    "duration": 25,
    "start_time": "2022-10-09T12:38:14.591Z"
   },
   {
    "duration": 6,
    "start_time": "2022-10-09T12:38:14.618Z"
   },
   {
    "duration": 10,
    "start_time": "2022-10-09T12:38:14.626Z"
   },
   {
    "duration": 11,
    "start_time": "2022-10-09T12:38:14.638Z"
   },
   {
    "duration": 18,
    "start_time": "2022-10-09T12:38:14.651Z"
   },
   {
    "duration": 52,
    "start_time": "2022-10-09T12:38:14.671Z"
   },
   {
    "duration": 27,
    "start_time": "2022-10-09T12:38:14.724Z"
   },
   {
    "duration": 140,
    "start_time": "2022-10-09T12:38:14.752Z"
   },
   {
    "duration": 154,
    "start_time": "2022-10-09T12:38:14.894Z"
   },
   {
    "duration": 295,
    "start_time": "2022-10-09T12:38:15.050Z"
   },
   {
    "duration": 11,
    "start_time": "2022-10-09T12:38:15.346Z"
   },
   {
    "duration": 8,
    "start_time": "2022-10-09T12:38:15.358Z"
   },
   {
    "duration": 7,
    "start_time": "2022-10-09T12:38:15.368Z"
   },
   {
    "duration": 143,
    "start_time": "2022-10-09T12:38:15.378Z"
   },
   {
    "duration": 125,
    "start_time": "2022-10-09T12:38:15.522Z"
   },
   {
    "duration": 5,
    "start_time": "2022-10-09T12:38:15.648Z"
   },
   {
    "duration": 141,
    "start_time": "2022-10-09T12:38:15.654Z"
   },
   {
    "duration": 129,
    "start_time": "2022-10-09T12:38:15.796Z"
   },
   {
    "duration": 30084,
    "start_time": "2022-10-09T12:38:15.927Z"
   },
   {
    "duration": 17,
    "start_time": "2022-10-09T12:38:46.013Z"
   },
   {
    "duration": 65,
    "start_time": "2022-10-09T12:38:46.032Z"
   },
   {
    "duration": 640,
    "start_time": "2022-10-09T12:38:46.105Z"
   },
   {
    "duration": 184,
    "start_time": "2022-10-09T12:38:46.746Z"
   },
   {
    "duration": 43,
    "start_time": "2022-10-09T12:38:46.932Z"
   },
   {
    "duration": 158,
    "start_time": "2022-10-09T12:38:46.976Z"
   },
   {
    "duration": 136,
    "start_time": "2022-10-09T12:38:47.136Z"
   },
   {
    "duration": 56,
    "start_time": "2022-10-09T12:38:47.274Z"
   },
   {
    "duration": 9,
    "start_time": "2022-10-09T12:38:47.336Z"
   },
   {
    "duration": 85,
    "start_time": "2022-10-09T12:38:47.347Z"
   },
   {
    "duration": 10,
    "start_time": "2022-10-09T12:38:47.434Z"
   },
   {
    "duration": 37,
    "start_time": "2022-10-09T12:38:47.446Z"
   },
   {
    "duration": 25,
    "start_time": "2022-10-09T12:38:47.484Z"
   },
   {
    "duration": 7,
    "start_time": "2022-10-09T12:38:47.511Z"
   },
   {
    "duration": 49,
    "start_time": "2022-10-09T12:38:47.520Z"
   },
   {
    "duration": 8,
    "start_time": "2022-10-09T12:38:47.571Z"
   },
   {
    "duration": 30,
    "start_time": "2022-10-09T12:38:47.581Z"
   },
   {
    "duration": 11,
    "start_time": "2022-10-09T12:38:47.612Z"
   },
   {
    "duration": 799,
    "start_time": "2022-10-09T12:38:47.625Z"
   },
   {
    "duration": 26,
    "start_time": "2022-10-09T12:38:48.426Z"
   },
   {
    "duration": 9,
    "start_time": "2022-10-09T12:38:48.453Z"
   },
   {
    "duration": 259,
    "start_time": "2022-10-09T12:38:48.464Z"
   },
   {
    "duration": 28,
    "start_time": "2022-10-09T12:38:48.725Z"
   },
   {
    "duration": 18,
    "start_time": "2022-10-09T12:38:48.755Z"
   },
   {
    "duration": 3,
    "start_time": "2022-10-09T12:38:48.775Z"
   },
   {
    "duration": 37,
    "start_time": "2022-10-09T12:38:48.780Z"
   },
   {
    "duration": 24,
    "start_time": "2022-10-09T12:38:48.819Z"
   },
   {
    "duration": 233,
    "start_time": "2022-10-09T12:38:48.845Z"
   },
   {
    "duration": 68,
    "start_time": "2022-10-09T12:38:49.080Z"
   },
   {
    "duration": 25,
    "start_time": "2022-10-09T12:38:49.151Z"
   },
   {
    "duration": 43,
    "start_time": "2022-10-09T12:38:49.178Z"
   },
   {
    "duration": 25,
    "start_time": "2022-10-09T12:38:49.223Z"
   }
  ],
  "kernelspec": {
   "display_name": "Python 3 (ipykernel)",
   "language": "python",
   "name": "python3"
  },
  "language_info": {
   "codemirror_mode": {
    "name": "ipython",
    "version": 3
   },
   "file_extension": ".py",
   "mimetype": "text/x-python",
   "name": "python",
   "nbconvert_exporter": "python",
   "pygments_lexer": "ipython3",
   "version": "3.7.6"
  },
  "toc": {
   "base_numbering": 1,
   "nav_menu": {},
   "number_sections": true,
   "sideBar": true,
   "skip_h1_title": true,
   "title_cell": "Table of Contents",
   "title_sidebar": "Contents",
   "toc_cell": false,
   "toc_position": {},
   "toc_section_display": true,
   "toc_window_display": false
  }
 },
 "nbformat": 4,
 "nbformat_minor": 2
}
